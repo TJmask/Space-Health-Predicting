{
 "cells": [
  {
   "cell_type": "markdown",
   "metadata": {},
   "source": [
    "## Data Manipulation"
   ]
  },
  {
   "cell_type": "markdown",
   "metadata": {},
   "source": [
    "### Import Data"
   ]
  },
  {
   "cell_type": "code",
   "execution_count": 181,
   "metadata": {},
   "outputs": [],
   "source": [
    "import os             \n",
    "import glob\n",
    "import pandas as pd\n",
    "import numpy as np\n",
    "from datetime import timedelta\n",
    "import matplotlib.pyplot as plt\n",
    "import warnings\n",
    "from pandas.core.common import SettingWithCopyWarning\n",
    "\n",
    "warnings.simplefilter(action=\"ignore\", category=SettingWithCopyWarning)\n",
    "%matplotlib inline"
   ]
  },
  {
   "cell_type": "code",
   "execution_count": 30,
   "metadata": {},
   "outputs": [
    {
     "data": {
      "text/plain": [
       "1360"
      ]
     },
     "execution_count": 30,
     "metadata": {},
     "output_type": "execute_result"
    }
   ],
   "source": [
    "# os.chdir('data')\n",
    "##### get all the files that contain \".csv\" #######\n",
    "all_path = glob.glob( '*/**.csv' )\n",
    "len(all_path)"
   ]
  },
  {
   "cell_type": "code",
   "execution_count": 31,
   "metadata": {},
   "outputs": [
    {
     "data": {
      "text/plain": [
       "['1_co_P13/12_600back_Block3_trial_012.csv',\n",
       " '1_co_P13/20_600back_Block5_trial_020.csv']"
      ]
     },
     "execution_count": 31,
     "metadata": {},
     "output_type": "execute_result"
    }
   ],
   "source": [
    "##### sample of the path\n",
    "all_path[0:2]"
   ]
  },
  {
   "cell_type": "code",
   "execution_count": 191,
   "metadata": {},
   "outputs": [
    {
     "data": {
      "text/html": [
       "<div>\n",
       "<style scoped>\n",
       "    .dataframe tbody tr th:only-of-type {\n",
       "        vertical-align: middle;\n",
       "    }\n",
       "\n",
       "    .dataframe tbody tr th {\n",
       "        vertical-align: top;\n",
       "    }\n",
       "\n",
       "    .dataframe thead th {\n",
       "        text-align: right;\n",
       "    }\n",
       "</style>\n",
       "<table border=\"1\" class=\"dataframe\">\n",
       "  <thead>\n",
       "    <tr style=\"text-align: right;\">\n",
       "      <th></th>\n",
       "      <th>seconds</th>\n",
       "      <th>trialNumber</th>\n",
       "      <th>trialPhase</th>\n",
       "      <th>dirOfBalanceRoll</th>\n",
       "      <th>dirOfBalancePitch</th>\n",
       "      <th>dirOfBalanceYaw</th>\n",
       "      <th>movingDOBRoll</th>\n",
       "      <th>movingDOBPitch</th>\n",
       "      <th>movingDOBYaw</th>\n",
       "      <th>currentPosRoll</th>\n",
       "      <th>...</th>\n",
       "      <th>joystickY</th>\n",
       "      <th>joystickBlanked</th>\n",
       "      <th>joystickPress</th>\n",
       "      <th>noiseRoll</th>\n",
       "      <th>noisePitch</th>\n",
       "      <th>noiseYaw</th>\n",
       "      <th>peopleName</th>\n",
       "      <th>trialName</th>\n",
       "      <th>peopleTrialKey</th>\n",
       "      <th>datetimeNew</th>\n",
       "    </tr>\n",
       "  </thead>\n",
       "  <tbody>\n",
       "    <tr>\n",
       "      <th>0</th>\n",
       "      <td>0.001</td>\n",
       "      <td>12</td>\n",
       "      <td>1</td>\n",
       "      <td>0</td>\n",
       "      <td>90</td>\n",
       "      <td>0</td>\n",
       "      <td>0</td>\n",
       "      <td>90</td>\n",
       "      <td>0</td>\n",
       "      <td>-15.227051</td>\n",
       "      <td>...</td>\n",
       "      <td>-0.015869</td>\n",
       "      <td>0</td>\n",
       "      <td>0</td>\n",
       "      <td>0</td>\n",
       "      <td>0</td>\n",
       "      <td>0</td>\n",
       "      <td>1_co_P13</td>\n",
       "      <td>12_600back_Block3_trial_012.csv</td>\n",
       "      <td>1_co_P13/12_600back_Block3_trial_012.csv</td>\n",
       "      <td>1970-01-01 00:00:00.001</td>\n",
       "    </tr>\n",
       "    <tr>\n",
       "      <th>1</th>\n",
       "      <td>0.031</td>\n",
       "      <td>12</td>\n",
       "      <td>1</td>\n",
       "      <td>0</td>\n",
       "      <td>90</td>\n",
       "      <td>0</td>\n",
       "      <td>0</td>\n",
       "      <td>90</td>\n",
       "      <td>0</td>\n",
       "      <td>-15.227051</td>\n",
       "      <td>...</td>\n",
       "      <td>-0.015869</td>\n",
       "      <td>0</td>\n",
       "      <td>0</td>\n",
       "      <td>0</td>\n",
       "      <td>0</td>\n",
       "      <td>0</td>\n",
       "      <td>1_co_P13</td>\n",
       "      <td>12_600back_Block3_trial_012.csv</td>\n",
       "      <td>1_co_P13/12_600back_Block3_trial_012.csv</td>\n",
       "      <td>1970-01-01 00:00:00.031</td>\n",
       "    </tr>\n",
       "    <tr>\n",
       "      <th>2</th>\n",
       "      <td>0.043</td>\n",
       "      <td>12</td>\n",
       "      <td>1</td>\n",
       "      <td>0</td>\n",
       "      <td>90</td>\n",
       "      <td>0</td>\n",
       "      <td>0</td>\n",
       "      <td>90</td>\n",
       "      <td>0</td>\n",
       "      <td>-15.227051</td>\n",
       "      <td>...</td>\n",
       "      <td>-0.015869</td>\n",
       "      <td>0</td>\n",
       "      <td>0</td>\n",
       "      <td>0</td>\n",
       "      <td>0</td>\n",
       "      <td>0</td>\n",
       "      <td>1_co_P13</td>\n",
       "      <td>12_600back_Block3_trial_012.csv</td>\n",
       "      <td>1_co_P13/12_600back_Block3_trial_012.csv</td>\n",
       "      <td>1970-01-01 00:00:00.043</td>\n",
       "    </tr>\n",
       "    <tr>\n",
       "      <th>3</th>\n",
       "      <td>0.051</td>\n",
       "      <td>12</td>\n",
       "      <td>1</td>\n",
       "      <td>0</td>\n",
       "      <td>90</td>\n",
       "      <td>0</td>\n",
       "      <td>0</td>\n",
       "      <td>90</td>\n",
       "      <td>0</td>\n",
       "      <td>-15.227051</td>\n",
       "      <td>...</td>\n",
       "      <td>-0.015869</td>\n",
       "      <td>0</td>\n",
       "      <td>0</td>\n",
       "      <td>0</td>\n",
       "      <td>0</td>\n",
       "      <td>0</td>\n",
       "      <td>1_co_P13</td>\n",
       "      <td>12_600back_Block3_trial_012.csv</td>\n",
       "      <td>1_co_P13/12_600back_Block3_trial_012.csv</td>\n",
       "      <td>1970-01-01 00:00:00.051</td>\n",
       "    </tr>\n",
       "    <tr>\n",
       "      <th>4</th>\n",
       "      <td>0.059</td>\n",
       "      <td>12</td>\n",
       "      <td>1</td>\n",
       "      <td>0</td>\n",
       "      <td>90</td>\n",
       "      <td>0</td>\n",
       "      <td>0</td>\n",
       "      <td>90</td>\n",
       "      <td>0</td>\n",
       "      <td>-15.227051</td>\n",
       "      <td>...</td>\n",
       "      <td>-0.015869</td>\n",
       "      <td>0</td>\n",
       "      <td>0</td>\n",
       "      <td>0</td>\n",
       "      <td>0</td>\n",
       "      <td>0</td>\n",
       "      <td>1_co_P13</td>\n",
       "      <td>12_600back_Block3_trial_012.csv</td>\n",
       "      <td>1_co_P13/12_600back_Block3_trial_012.csv</td>\n",
       "      <td>1970-01-01 00:00:00.059</td>\n",
       "    </tr>\n",
       "  </tbody>\n",
       "</table>\n",
       "<p>5 rows × 35 columns</p>\n",
       "</div>"
      ],
      "text/plain": [
       "   seconds  trialNumber  trialPhase  dirOfBalanceRoll  dirOfBalancePitch  \\\n",
       "0    0.001           12           1                 0                 90   \n",
       "1    0.031           12           1                 0                 90   \n",
       "2    0.043           12           1                 0                 90   \n",
       "3    0.051           12           1                 0                 90   \n",
       "4    0.059           12           1                 0                 90   \n",
       "\n",
       "   dirOfBalanceYaw  movingDOBRoll  movingDOBPitch  movingDOBYaw  \\\n",
       "0                0              0              90             0   \n",
       "1                0              0              90             0   \n",
       "2                0              0              90             0   \n",
       "3                0              0              90             0   \n",
       "4                0              0              90             0   \n",
       "\n",
       "   currentPosRoll  ...  joystickY  joystickBlanked  joystickPress  noiseRoll  \\\n",
       "0      -15.227051  ...  -0.015869                0              0          0   \n",
       "1      -15.227051  ...  -0.015869                0              0          0   \n",
       "2      -15.227051  ...  -0.015869                0              0          0   \n",
       "3      -15.227051  ...  -0.015869                0              0          0   \n",
       "4      -15.227051  ...  -0.015869                0              0          0   \n",
       "\n",
       "   noisePitch  noiseYaw  peopleName                        trialName  \\\n",
       "0           0         0    1_co_P13  12_600back_Block3_trial_012.csv   \n",
       "1           0         0    1_co_P13  12_600back_Block3_trial_012.csv   \n",
       "2           0         0    1_co_P13  12_600back_Block3_trial_012.csv   \n",
       "3           0         0    1_co_P13  12_600back_Block3_trial_012.csv   \n",
       "4           0         0    1_co_P13  12_600back_Block3_trial_012.csv   \n",
       "\n",
       "                             peopleTrialKey             datetimeNew  \n",
       "0  1_co_P13/12_600back_Block3_trial_012.csv 1970-01-01 00:00:00.001  \n",
       "1  1_co_P13/12_600back_Block3_trial_012.csv 1970-01-01 00:00:00.031  \n",
       "2  1_co_P13/12_600back_Block3_trial_012.csv 1970-01-01 00:00:00.043  \n",
       "3  1_co_P13/12_600back_Block3_trial_012.csv 1970-01-01 00:00:00.051  \n",
       "4  1_co_P13/12_600back_Block3_trial_012.csv 1970-01-01 00:00:00.059  \n",
       "\n",
       "[5 rows x 35 columns]"
      ]
     },
     "execution_count": 191,
     "metadata": {},
     "output_type": "execute_result"
    }
   ],
   "source": [
    "######## put all data into one file and add datetime column ########\n",
    "dfs = []\n",
    "for file in all_path:\n",
    "    df = pd.read_csv(file, low_memory=False)\n",
    "    df['peopleName'] = file[:8]\n",
    "    df['trialName'] = file[9:]\n",
    "    df['peopleTrialKey'] = file\n",
    "    df['datetime'] = '1970-01-01'\n",
    "    df['datetimeNew'] = pd.to_datetime(df['datetime']) + pd.to_timedelta(df[';seconds'], unit='s')\n",
    "    df.drop(['datetime'], axis=1, inplace=True)\n",
    "\n",
    "    dfs.append(df)\n",
    "data_all = pd.concat(dfs, ignore_index=True)\n",
    "data_all = data_all.rename(columns={\";seconds\": \"seconds\"})\n",
    "data_all.head()"
   ]
  },
  {
   "cell_type": "code",
   "execution_count": 194,
   "metadata": {},
   "outputs": [],
   "source": [
    "####### save data into one csv file #######\n",
    "data_all.to_csv('data_all.csv')"
   ]
  },
  {
   "cell_type": "code",
   "execution_count": 195,
   "metadata": {},
   "outputs": [
    {
     "name": "stdout",
     "output_type": "stream",
     "text": [
      "<class 'pandas.core.frame.DataFrame'>\n",
      "RangeIndex: 9726881 entries, 0 to 9726880\n",
      "Data columns (total 35 columns):\n",
      " #   Column             Dtype         \n",
      "---  ------             -----         \n",
      " 0   seconds            float64       \n",
      " 1   trialNumber        int64         \n",
      " 2   trialPhase         int64         \n",
      " 3   dirOfBalanceRoll   int64         \n",
      " 4   dirOfBalancePitch  int64         \n",
      " 5   dirOfBalanceYaw    int64         \n",
      " 6   movingDOBRoll      int64         \n",
      " 7   movingDOBPitch     int64         \n",
      " 8   movingDOBYaw       int64         \n",
      " 9   currentPosRoll     float64       \n",
      " 10  currentPosPitch    float64       \n",
      " 11  currentPosYaw      int64         \n",
      " 12  currentVelRoll     float64       \n",
      " 13  currentVelPitch    float64       \n",
      " 14  currentVelYaw      int64         \n",
      " 15  calcPosRoll        float64       \n",
      " 16  calcPosPitch       float64       \n",
      " 17  calcPosYaw         int64         \n",
      " 18  calcVelRoll        float64       \n",
      " 19  calcVelPitch       float64       \n",
      " 20  calcVelYaw         int64         \n",
      " 21  calcAccRoll        float64       \n",
      " 22  calcAccPitch       float64       \n",
      " 23  calcAccYaw         int64         \n",
      " 24  joystickX          float64       \n",
      " 25  joystickY          float64       \n",
      " 26  joystickBlanked    int64         \n",
      " 27  joystickPress      int64         \n",
      " 28  noiseRoll          int64         \n",
      " 29  noisePitch         int64         \n",
      " 30  noiseYaw           int64         \n",
      " 31  peopleName         object        \n",
      " 32  trialName          object        \n",
      " 33  peopleTrialKey     object        \n",
      " 34  datetimeNew        datetime64[ns]\n",
      "dtypes: datetime64[ns](1), float64(13), int64(18), object(3)\n",
      "memory usage: 2.5+ GB\n"
     ]
    }
   ],
   "source": [
    "####### all data information #######\n",
    "data_all.info()"
   ]
  },
  {
   "cell_type": "markdown",
   "metadata": {},
   "source": [
    "### Data Manipulation"
   ]
  },
  {
   "cell_type": "markdown",
   "metadata": {},
   "source": [
    "### choose needed columns"
   ]
  },
  {
   "cell_type": "code",
   "execution_count": 180,
   "metadata": {},
   "outputs": [
    {
     "data": {
      "text/html": [
       "<div>\n",
       "<style scoped>\n",
       "    .dataframe tbody tr th:only-of-type {\n",
       "        vertical-align: middle;\n",
       "    }\n",
       "\n",
       "    .dataframe tbody tr th {\n",
       "        vertical-align: top;\n",
       "    }\n",
       "\n",
       "    .dataframe thead th {\n",
       "        text-align: right;\n",
       "    }\n",
       "</style>\n",
       "<table border=\"1\" class=\"dataframe\">\n",
       "  <thead>\n",
       "    <tr style=\"text-align: right;\">\n",
       "      <th></th>\n",
       "      <th>seconds</th>\n",
       "      <th>trialPhase</th>\n",
       "      <th>currentPosRoll</th>\n",
       "      <th>currentVelRoll</th>\n",
       "      <th>joystickX</th>\n",
       "      <th>peopleName</th>\n",
       "      <th>trialName</th>\n",
       "      <th>peopleTrialKey</th>\n",
       "    </tr>\n",
       "    <tr>\n",
       "      <th>datetimeNew</th>\n",
       "      <th></th>\n",
       "      <th></th>\n",
       "      <th></th>\n",
       "      <th></th>\n",
       "      <th></th>\n",
       "      <th></th>\n",
       "      <th></th>\n",
       "      <th></th>\n",
       "    </tr>\n",
       "  </thead>\n",
       "  <tbody>\n",
       "    <tr>\n",
       "      <th>1970-01-01 00:00:00.001</th>\n",
       "      <td>0.001</td>\n",
       "      <td>1</td>\n",
       "      <td>-15.227051</td>\n",
       "      <td>0.000000</td>\n",
       "      <td>0.0</td>\n",
       "      <td>1_co_P13</td>\n",
       "      <td>12_600back_Block3_trial_012.csv</td>\n",
       "      <td>1_co_P13/12_600back_Block3_trial_012.csv</td>\n",
       "    </tr>\n",
       "    <tr>\n",
       "      <th>1970-01-01 00:00:00.031</th>\n",
       "      <td>0.031</td>\n",
       "      <td>1</td>\n",
       "      <td>-15.227051</td>\n",
       "      <td>0.000000</td>\n",
       "      <td>0.0</td>\n",
       "      <td>1_co_P13</td>\n",
       "      <td>12_600back_Block3_trial_012.csv</td>\n",
       "      <td>1_co_P13/12_600back_Block3_trial_012.csv</td>\n",
       "    </tr>\n",
       "    <tr>\n",
       "      <th>1970-01-01 00:00:00.043</th>\n",
       "      <td>0.043</td>\n",
       "      <td>1</td>\n",
       "      <td>-15.227051</td>\n",
       "      <td>0.005364</td>\n",
       "      <td>0.0</td>\n",
       "      <td>1_co_P13</td>\n",
       "      <td>12_600back_Block3_trial_012.csv</td>\n",
       "      <td>1_co_P13/12_600back_Block3_trial_012.csv</td>\n",
       "    </tr>\n",
       "    <tr>\n",
       "      <th>1970-01-01 00:00:00.051</th>\n",
       "      <td>0.051</td>\n",
       "      <td>1</td>\n",
       "      <td>-15.227051</td>\n",
       "      <td>0.005364</td>\n",
       "      <td>0.0</td>\n",
       "      <td>1_co_P13</td>\n",
       "      <td>12_600back_Block3_trial_012.csv</td>\n",
       "      <td>1_co_P13/12_600back_Block3_trial_012.csv</td>\n",
       "    </tr>\n",
       "    <tr>\n",
       "      <th>1970-01-01 00:00:00.059</th>\n",
       "      <td>0.059</td>\n",
       "      <td>1</td>\n",
       "      <td>-15.227051</td>\n",
       "      <td>0.171661</td>\n",
       "      <td>0.0</td>\n",
       "      <td>1_co_P13</td>\n",
       "      <td>12_600back_Block3_trial_012.csv</td>\n",
       "      <td>1_co_P13/12_600back_Block3_trial_012.csv</td>\n",
       "    </tr>\n",
       "  </tbody>\n",
       "</table>\n",
       "</div>"
      ],
      "text/plain": [
       "                         seconds  trialPhase  currentPosRoll  currentVelRoll  \\\n",
       "datetimeNew                                                                    \n",
       "1970-01-01 00:00:00.001    0.001           1      -15.227051        0.000000   \n",
       "1970-01-01 00:00:00.031    0.031           1      -15.227051        0.000000   \n",
       "1970-01-01 00:00:00.043    0.043           1      -15.227051        0.005364   \n",
       "1970-01-01 00:00:00.051    0.051           1      -15.227051        0.005364   \n",
       "1970-01-01 00:00:00.059    0.059           1      -15.227051        0.171661   \n",
       "\n",
       "                         joystickX peopleName  \\\n",
       "datetimeNew                                     \n",
       "1970-01-01 00:00:00.001        0.0   1_co_P13   \n",
       "1970-01-01 00:00:00.031        0.0   1_co_P13   \n",
       "1970-01-01 00:00:00.043        0.0   1_co_P13   \n",
       "1970-01-01 00:00:00.051        0.0   1_co_P13   \n",
       "1970-01-01 00:00:00.059        0.0   1_co_P13   \n",
       "\n",
       "                                               trialName  \\\n",
       "datetimeNew                                                \n",
       "1970-01-01 00:00:00.001  12_600back_Block3_trial_012.csv   \n",
       "1970-01-01 00:00:00.031  12_600back_Block3_trial_012.csv   \n",
       "1970-01-01 00:00:00.043  12_600back_Block3_trial_012.csv   \n",
       "1970-01-01 00:00:00.051  12_600back_Block3_trial_012.csv   \n",
       "1970-01-01 00:00:00.059  12_600back_Block3_trial_012.csv   \n",
       "\n",
       "                                                   peopleTrialKey  \n",
       "datetimeNew                                                        \n",
       "1970-01-01 00:00:00.001  1_co_P13/12_600back_Block3_trial_012.csv  \n",
       "1970-01-01 00:00:00.031  1_co_P13/12_600back_Block3_trial_012.csv  \n",
       "1970-01-01 00:00:00.043  1_co_P13/12_600back_Block3_trial_012.csv  \n",
       "1970-01-01 00:00:00.051  1_co_P13/12_600back_Block3_trial_012.csv  \n",
       "1970-01-01 00:00:00.059  1_co_P13/12_600back_Block3_trial_012.csv  "
      ]
     },
     "execution_count": 180,
     "metadata": {},
     "output_type": "execute_result"
    }
   ],
   "source": [
    "# data_all = pd.read_csv('data_all.csv')\n",
    "\n",
    "##### extract all needed columns ######\n",
    "neededCols = ['seconds','trialPhase','currentPosRoll','currentVelRoll',\\\n",
    "              'joystickX', 'peopleName', 'trialName', 'peopleTrialKey', 'datetimeNew']\n",
    "\n",
    "data_needed = data_all[neededCols]\n",
    "data_needed['datetimeNew'] = pd.to_datetime(data_needed['datetimeNew'])\n",
    "data_needed.set_index('datetimeNew', inplace =True)\n",
    "data_needed.head()"
   ]
  },
  {
   "cell_type": "code",
   "execution_count": 182,
   "metadata": {},
   "outputs": [
    {
     "data": {
      "text/html": [
       "<div>\n",
       "<style scoped>\n",
       "    .dataframe tbody tr th:only-of-type {\n",
       "        vertical-align: middle;\n",
       "    }\n",
       "\n",
       "    .dataframe tbody tr th {\n",
       "        vertical-align: top;\n",
       "    }\n",
       "\n",
       "    .dataframe thead th {\n",
       "        text-align: right;\n",
       "    }\n",
       "</style>\n",
       "<table border=\"1\" class=\"dataframe\">\n",
       "  <thead>\n",
       "    <tr style=\"text-align: right;\">\n",
       "      <th></th>\n",
       "      <th>seconds</th>\n",
       "      <th>trialPhase</th>\n",
       "      <th>currentPosRoll</th>\n",
       "      <th>currentVelRoll</th>\n",
       "      <th>joystickX</th>\n",
       "      <th>peopleName</th>\n",
       "      <th>trialName</th>\n",
       "      <th>peopleTrialKey</th>\n",
       "    </tr>\n",
       "    <tr>\n",
       "      <th>datetimeNew</th>\n",
       "      <th></th>\n",
       "      <th></th>\n",
       "      <th></th>\n",
       "      <th></th>\n",
       "      <th></th>\n",
       "      <th></th>\n",
       "      <th></th>\n",
       "      <th></th>\n",
       "    </tr>\n",
       "  </thead>\n",
       "  <tbody>\n",
       "    <tr>\n",
       "      <th>1970-01-01 00:00:00.001</th>\n",
       "      <td>0.001</td>\n",
       "      <td>1</td>\n",
       "      <td>-15.227051</td>\n",
       "      <td>0.000000</td>\n",
       "      <td>0.0</td>\n",
       "      <td>1_co_P13</td>\n",
       "      <td>12_600back_Block3_trial_012.csv</td>\n",
       "      <td>1_co_P13/12_600back_Block3_trial_012.csv</td>\n",
       "    </tr>\n",
       "    <tr>\n",
       "      <th>1970-01-01 00:00:00.031</th>\n",
       "      <td>0.031</td>\n",
       "      <td>1</td>\n",
       "      <td>-15.227051</td>\n",
       "      <td>0.000000</td>\n",
       "      <td>0.0</td>\n",
       "      <td>1_co_P13</td>\n",
       "      <td>12_600back_Block3_trial_012.csv</td>\n",
       "      <td>1_co_P13/12_600back_Block3_trial_012.csv</td>\n",
       "    </tr>\n",
       "    <tr>\n",
       "      <th>1970-01-01 00:00:00.043</th>\n",
       "      <td>0.043</td>\n",
       "      <td>1</td>\n",
       "      <td>-15.227051</td>\n",
       "      <td>0.005364</td>\n",
       "      <td>0.0</td>\n",
       "      <td>1_co_P13</td>\n",
       "      <td>12_600back_Block3_trial_012.csv</td>\n",
       "      <td>1_co_P13/12_600back_Block3_trial_012.csv</td>\n",
       "    </tr>\n",
       "    <tr>\n",
       "      <th>1970-01-01 00:00:00.051</th>\n",
       "      <td>0.051</td>\n",
       "      <td>1</td>\n",
       "      <td>-15.227051</td>\n",
       "      <td>0.005364</td>\n",
       "      <td>0.0</td>\n",
       "      <td>1_co_P13</td>\n",
       "      <td>12_600back_Block3_trial_012.csv</td>\n",
       "      <td>1_co_P13/12_600back_Block3_trial_012.csv</td>\n",
       "    </tr>\n",
       "    <tr>\n",
       "      <th>1970-01-01 00:00:00.059</th>\n",
       "      <td>0.059</td>\n",
       "      <td>1</td>\n",
       "      <td>-15.227051</td>\n",
       "      <td>0.171661</td>\n",
       "      <td>0.0</td>\n",
       "      <td>1_co_P13</td>\n",
       "      <td>12_600back_Block3_trial_012.csv</td>\n",
       "      <td>1_co_P13/12_600back_Block3_trial_012.csv</td>\n",
       "    </tr>\n",
       "    <tr>\n",
       "      <th>1970-01-01 00:00:00.069</th>\n",
       "      <td>0.069</td>\n",
       "      <td>1</td>\n",
       "      <td>-15.227051</td>\n",
       "      <td>0.386237</td>\n",
       "      <td>0.0</td>\n",
       "      <td>1_co_P13</td>\n",
       "      <td>12_600back_Block3_trial_012.csv</td>\n",
       "      <td>1_co_P13/12_600back_Block3_trial_012.csv</td>\n",
       "    </tr>\n",
       "    <tr>\n",
       "      <th>1970-01-01 00:00:00.077</th>\n",
       "      <td>0.077</td>\n",
       "      <td>1</td>\n",
       "      <td>-15.227051</td>\n",
       "      <td>0.600813</td>\n",
       "      <td>0.0</td>\n",
       "      <td>1_co_P13</td>\n",
       "      <td>12_600back_Block3_trial_012.csv</td>\n",
       "      <td>1_co_P13/12_600back_Block3_trial_012.csv</td>\n",
       "    </tr>\n",
       "    <tr>\n",
       "      <th>1970-01-01 00:00:00.085</th>\n",
       "      <td>0.085</td>\n",
       "      <td>1</td>\n",
       "      <td>-15.227051</td>\n",
       "      <td>0.815389</td>\n",
       "      <td>0.0</td>\n",
       "      <td>1_co_P13</td>\n",
       "      <td>12_600back_Block3_trial_012.csv</td>\n",
       "      <td>1_co_P13/12_600back_Block3_trial_012.csv</td>\n",
       "    </tr>\n",
       "    <tr>\n",
       "      <th>1970-01-01 00:00:00.094</th>\n",
       "      <td>0.094</td>\n",
       "      <td>1</td>\n",
       "      <td>-15.227051</td>\n",
       "      <td>1.029966</td>\n",
       "      <td>0.0</td>\n",
       "      <td>1_co_P13</td>\n",
       "      <td>12_600back_Block3_trial_012.csv</td>\n",
       "      <td>1_co_P13/12_600back_Block3_trial_012.csv</td>\n",
       "    </tr>\n",
       "    <tr>\n",
       "      <th>1970-01-01 00:00:00.104</th>\n",
       "      <td>0.104</td>\n",
       "      <td>1</td>\n",
       "      <td>-15.227051</td>\n",
       "      <td>1.244542</td>\n",
       "      <td>0.0</td>\n",
       "      <td>1_co_P13</td>\n",
       "      <td>12_600back_Block3_trial_012.csv</td>\n",
       "      <td>1_co_P13/12_600back_Block3_trial_012.csv</td>\n",
       "    </tr>\n",
       "    <tr>\n",
       "      <th>1970-01-01 00:00:00.114</th>\n",
       "      <td>0.114</td>\n",
       "      <td>1</td>\n",
       "      <td>-15.227051</td>\n",
       "      <td>1.459118</td>\n",
       "      <td>0.0</td>\n",
       "      <td>1_co_P13</td>\n",
       "      <td>12_600back_Block3_trial_012.csv</td>\n",
       "      <td>1_co_P13/12_600back_Block3_trial_012.csv</td>\n",
       "    </tr>\n",
       "    <tr>\n",
       "      <th>1970-01-01 00:00:00.122</th>\n",
       "      <td>0.122</td>\n",
       "      <td>1</td>\n",
       "      <td>-15.227051</td>\n",
       "      <td>1.673694</td>\n",
       "      <td>0.0</td>\n",
       "      <td>1_co_P13</td>\n",
       "      <td>12_600back_Block3_trial_012.csv</td>\n",
       "      <td>1_co_P13/12_600back_Block3_trial_012.csv</td>\n",
       "    </tr>\n",
       "    <tr>\n",
       "      <th>1970-01-01 00:00:00.133</th>\n",
       "      <td>0.133</td>\n",
       "      <td>1</td>\n",
       "      <td>-15.227051</td>\n",
       "      <td>1.888270</td>\n",
       "      <td>0.0</td>\n",
       "      <td>1_co_P13</td>\n",
       "      <td>12_600back_Block3_trial_012.csv</td>\n",
       "      <td>1_co_P13/12_600back_Block3_trial_012.csv</td>\n",
       "    </tr>\n",
       "    <tr>\n",
       "      <th>1970-01-01 00:00:00.142</th>\n",
       "      <td>0.142</td>\n",
       "      <td>1</td>\n",
       "      <td>-15.227051</td>\n",
       "      <td>2.102846</td>\n",
       "      <td>0.0</td>\n",
       "      <td>1_co_P13</td>\n",
       "      <td>12_600back_Block3_trial_012.csv</td>\n",
       "      <td>1_co_P13/12_600back_Block3_trial_012.csv</td>\n",
       "    </tr>\n",
       "    <tr>\n",
       "      <th>1970-01-01 00:00:00.149</th>\n",
       "      <td>0.149</td>\n",
       "      <td>1</td>\n",
       "      <td>-15.227051</td>\n",
       "      <td>2.102846</td>\n",
       "      <td>0.0</td>\n",
       "      <td>1_co_P13</td>\n",
       "      <td>12_600back_Block3_trial_012.csv</td>\n",
       "      <td>1_co_P13/12_600back_Block3_trial_012.csv</td>\n",
       "    </tr>\n",
       "    <tr>\n",
       "      <th>1970-01-01 00:00:00.156</th>\n",
       "      <td>0.156</td>\n",
       "      <td>1</td>\n",
       "      <td>-15.227051</td>\n",
       "      <td>2.317423</td>\n",
       "      <td>0.0</td>\n",
       "      <td>1_co_P13</td>\n",
       "      <td>12_600back_Block3_trial_012.csv</td>\n",
       "      <td>1_co_P13/12_600back_Block3_trial_012.csv</td>\n",
       "    </tr>\n",
       "    <tr>\n",
       "      <th>1970-01-01 00:00:00.165</th>\n",
       "      <td>0.165</td>\n",
       "      <td>1</td>\n",
       "      <td>-15.224304</td>\n",
       "      <td>2.531999</td>\n",
       "      <td>0.0</td>\n",
       "      <td>1_co_P13</td>\n",
       "      <td>12_600back_Block3_trial_012.csv</td>\n",
       "      <td>1_co_P13/12_600back_Block3_trial_012.csv</td>\n",
       "    </tr>\n",
       "    <tr>\n",
       "      <th>1970-01-01 00:00:00.174</th>\n",
       "      <td>0.174</td>\n",
       "      <td>1</td>\n",
       "      <td>-15.221558</td>\n",
       "      <td>2.746575</td>\n",
       "      <td>0.0</td>\n",
       "      <td>1_co_P13</td>\n",
       "      <td>12_600back_Block3_trial_012.csv</td>\n",
       "      <td>1_co_P13/12_600back_Block3_trial_012.csv</td>\n",
       "    </tr>\n",
       "    <tr>\n",
       "      <th>1970-01-01 00:00:00.183</th>\n",
       "      <td>0.183</td>\n",
       "      <td>1</td>\n",
       "      <td>-15.218811</td>\n",
       "      <td>2.961151</td>\n",
       "      <td>0.0</td>\n",
       "      <td>1_co_P13</td>\n",
       "      <td>12_600back_Block3_trial_012.csv</td>\n",
       "      <td>1_co_P13/12_600back_Block3_trial_012.csv</td>\n",
       "    </tr>\n",
       "    <tr>\n",
       "      <th>1970-01-01 00:00:00.193</th>\n",
       "      <td>0.193</td>\n",
       "      <td>1</td>\n",
       "      <td>-15.213318</td>\n",
       "      <td>3.175727</td>\n",
       "      <td>0.0</td>\n",
       "      <td>1_co_P13</td>\n",
       "      <td>12_600back_Block3_trial_012.csv</td>\n",
       "      <td>1_co_P13/12_600back_Block3_trial_012.csv</td>\n",
       "    </tr>\n",
       "  </tbody>\n",
       "</table>\n",
       "</div>"
      ],
      "text/plain": [
       "                         seconds  trialPhase  currentPosRoll  currentVelRoll  \\\n",
       "datetimeNew                                                                    \n",
       "1970-01-01 00:00:00.001    0.001           1      -15.227051        0.000000   \n",
       "1970-01-01 00:00:00.031    0.031           1      -15.227051        0.000000   \n",
       "1970-01-01 00:00:00.043    0.043           1      -15.227051        0.005364   \n",
       "1970-01-01 00:00:00.051    0.051           1      -15.227051        0.005364   \n",
       "1970-01-01 00:00:00.059    0.059           1      -15.227051        0.171661   \n",
       "1970-01-01 00:00:00.069    0.069           1      -15.227051        0.386237   \n",
       "1970-01-01 00:00:00.077    0.077           1      -15.227051        0.600813   \n",
       "1970-01-01 00:00:00.085    0.085           1      -15.227051        0.815389   \n",
       "1970-01-01 00:00:00.094    0.094           1      -15.227051        1.029966   \n",
       "1970-01-01 00:00:00.104    0.104           1      -15.227051        1.244542   \n",
       "1970-01-01 00:00:00.114    0.114           1      -15.227051        1.459118   \n",
       "1970-01-01 00:00:00.122    0.122           1      -15.227051        1.673694   \n",
       "1970-01-01 00:00:00.133    0.133           1      -15.227051        1.888270   \n",
       "1970-01-01 00:00:00.142    0.142           1      -15.227051        2.102846   \n",
       "1970-01-01 00:00:00.149    0.149           1      -15.227051        2.102846   \n",
       "1970-01-01 00:00:00.156    0.156           1      -15.227051        2.317423   \n",
       "1970-01-01 00:00:00.165    0.165           1      -15.224304        2.531999   \n",
       "1970-01-01 00:00:00.174    0.174           1      -15.221558        2.746575   \n",
       "1970-01-01 00:00:00.183    0.183           1      -15.218811        2.961151   \n",
       "1970-01-01 00:00:00.193    0.193           1      -15.213318        3.175727   \n",
       "\n",
       "                         joystickX peopleName  \\\n",
       "datetimeNew                                     \n",
       "1970-01-01 00:00:00.001        0.0   1_co_P13   \n",
       "1970-01-01 00:00:00.031        0.0   1_co_P13   \n",
       "1970-01-01 00:00:00.043        0.0   1_co_P13   \n",
       "1970-01-01 00:00:00.051        0.0   1_co_P13   \n",
       "1970-01-01 00:00:00.059        0.0   1_co_P13   \n",
       "1970-01-01 00:00:00.069        0.0   1_co_P13   \n",
       "1970-01-01 00:00:00.077        0.0   1_co_P13   \n",
       "1970-01-01 00:00:00.085        0.0   1_co_P13   \n",
       "1970-01-01 00:00:00.094        0.0   1_co_P13   \n",
       "1970-01-01 00:00:00.104        0.0   1_co_P13   \n",
       "1970-01-01 00:00:00.114        0.0   1_co_P13   \n",
       "1970-01-01 00:00:00.122        0.0   1_co_P13   \n",
       "1970-01-01 00:00:00.133        0.0   1_co_P13   \n",
       "1970-01-01 00:00:00.142        0.0   1_co_P13   \n",
       "1970-01-01 00:00:00.149        0.0   1_co_P13   \n",
       "1970-01-01 00:00:00.156        0.0   1_co_P13   \n",
       "1970-01-01 00:00:00.165        0.0   1_co_P13   \n",
       "1970-01-01 00:00:00.174        0.0   1_co_P13   \n",
       "1970-01-01 00:00:00.183        0.0   1_co_P13   \n",
       "1970-01-01 00:00:00.193        0.0   1_co_P13   \n",
       "\n",
       "                                               trialName  \\\n",
       "datetimeNew                                                \n",
       "1970-01-01 00:00:00.001  12_600back_Block3_trial_012.csv   \n",
       "1970-01-01 00:00:00.031  12_600back_Block3_trial_012.csv   \n",
       "1970-01-01 00:00:00.043  12_600back_Block3_trial_012.csv   \n",
       "1970-01-01 00:00:00.051  12_600back_Block3_trial_012.csv   \n",
       "1970-01-01 00:00:00.059  12_600back_Block3_trial_012.csv   \n",
       "1970-01-01 00:00:00.069  12_600back_Block3_trial_012.csv   \n",
       "1970-01-01 00:00:00.077  12_600back_Block3_trial_012.csv   \n",
       "1970-01-01 00:00:00.085  12_600back_Block3_trial_012.csv   \n",
       "1970-01-01 00:00:00.094  12_600back_Block3_trial_012.csv   \n",
       "1970-01-01 00:00:00.104  12_600back_Block3_trial_012.csv   \n",
       "1970-01-01 00:00:00.114  12_600back_Block3_trial_012.csv   \n",
       "1970-01-01 00:00:00.122  12_600back_Block3_trial_012.csv   \n",
       "1970-01-01 00:00:00.133  12_600back_Block3_trial_012.csv   \n",
       "1970-01-01 00:00:00.142  12_600back_Block3_trial_012.csv   \n",
       "1970-01-01 00:00:00.149  12_600back_Block3_trial_012.csv   \n",
       "1970-01-01 00:00:00.156  12_600back_Block3_trial_012.csv   \n",
       "1970-01-01 00:00:00.165  12_600back_Block3_trial_012.csv   \n",
       "1970-01-01 00:00:00.174  12_600back_Block3_trial_012.csv   \n",
       "1970-01-01 00:00:00.183  12_600back_Block3_trial_012.csv   \n",
       "1970-01-01 00:00:00.193  12_600back_Block3_trial_012.csv   \n",
       "\n",
       "                                                   peopleTrialKey  \n",
       "datetimeNew                                                        \n",
       "1970-01-01 00:00:00.001  1_co_P13/12_600back_Block3_trial_012.csv  \n",
       "1970-01-01 00:00:00.031  1_co_P13/12_600back_Block3_trial_012.csv  \n",
       "1970-01-01 00:00:00.043  1_co_P13/12_600back_Block3_trial_012.csv  \n",
       "1970-01-01 00:00:00.051  1_co_P13/12_600back_Block3_trial_012.csv  \n",
       "1970-01-01 00:00:00.059  1_co_P13/12_600back_Block3_trial_012.csv  \n",
       "1970-01-01 00:00:00.069  1_co_P13/12_600back_Block3_trial_012.csv  \n",
       "1970-01-01 00:00:00.077  1_co_P13/12_600back_Block3_trial_012.csv  \n",
       "1970-01-01 00:00:00.085  1_co_P13/12_600back_Block3_trial_012.csv  \n",
       "1970-01-01 00:00:00.094  1_co_P13/12_600back_Block3_trial_012.csv  \n",
       "1970-01-01 00:00:00.104  1_co_P13/12_600back_Block3_trial_012.csv  \n",
       "1970-01-01 00:00:00.114  1_co_P13/12_600back_Block3_trial_012.csv  \n",
       "1970-01-01 00:00:00.122  1_co_P13/12_600back_Block3_trial_012.csv  \n",
       "1970-01-01 00:00:00.133  1_co_P13/12_600back_Block3_trial_012.csv  \n",
       "1970-01-01 00:00:00.142  1_co_P13/12_600back_Block3_trial_012.csv  \n",
       "1970-01-01 00:00:00.149  1_co_P13/12_600back_Block3_trial_012.csv  \n",
       "1970-01-01 00:00:00.156  1_co_P13/12_600back_Block3_trial_012.csv  \n",
       "1970-01-01 00:00:00.165  1_co_P13/12_600back_Block3_trial_012.csv  \n",
       "1970-01-01 00:00:00.174  1_co_P13/12_600back_Block3_trial_012.csv  \n",
       "1970-01-01 00:00:00.183  1_co_P13/12_600back_Block3_trial_012.csv  \n",
       "1970-01-01 00:00:00.193  1_co_P13/12_600back_Block3_trial_012.csv  "
      ]
     },
     "execution_count": 182,
     "metadata": {},
     "output_type": "execute_result"
    }
   ],
   "source": [
    "data_needed.head(20)"
   ]
  },
  {
   "cell_type": "code",
   "execution_count": 5,
   "metadata": {},
   "outputs": [
    {
     "data": {
      "text/plain": [
       "0.30522222222215406"
      ]
     },
     "execution_count": 5,
     "metadata": {},
     "output_type": "execute_result"
    }
   ],
   "source": [
    "(-15.224304 + 15.227051)/(0.165 - 0.156)  "
   ]
  },
  {
   "cell_type": "markdown",
   "metadata": {},
   "source": [
    "### try define the crash on different criteria"
   ]
  },
  {
   "cell_type": "code",
   "execution_count": 184,
   "metadata": {},
   "outputs": [
    {
     "data": {
      "text/html": [
       "<div>\n",
       "<style scoped>\n",
       "    .dataframe tbody tr th:only-of-type {\n",
       "        vertical-align: middle;\n",
       "    }\n",
       "\n",
       "    .dataframe tbody tr th {\n",
       "        vertical-align: top;\n",
       "    }\n",
       "\n",
       "    .dataframe thead th {\n",
       "        text-align: right;\n",
       "    }\n",
       "</style>\n",
       "<table border=\"1\" class=\"dataframe\">\n",
       "  <thead>\n",
       "    <tr style=\"text-align: right;\">\n",
       "      <th></th>\n",
       "      <th>seconds</th>\n",
       "      <th>trialPhase</th>\n",
       "      <th>currentPosRoll</th>\n",
       "      <th>currentVelRoll</th>\n",
       "      <th>joystickX</th>\n",
       "      <th>peopleName</th>\n",
       "      <th>trialName</th>\n",
       "      <th>peopleTrialKey</th>\n",
       "      <th>crash</th>\n",
       "    </tr>\n",
       "    <tr>\n",
       "      <th>datetimeNew</th>\n",
       "      <th></th>\n",
       "      <th></th>\n",
       "      <th></th>\n",
       "      <th></th>\n",
       "      <th></th>\n",
       "      <th></th>\n",
       "      <th></th>\n",
       "      <th></th>\n",
       "      <th></th>\n",
       "    </tr>\n",
       "  </thead>\n",
       "  <tbody>\n",
       "    <tr>\n",
       "      <th>1970-01-01 00:00:00.001</th>\n",
       "      <td>0.001</td>\n",
       "      <td>1</td>\n",
       "      <td>-15.227051</td>\n",
       "      <td>0.000000</td>\n",
       "      <td>-0.0</td>\n",
       "      <td>1_co_P13</td>\n",
       "      <td>12_600back_Block3_trial_012.csv</td>\n",
       "      <td>1_co_P13/12_600back_Block3_trial_012.csv</td>\n",
       "      <td>0.0</td>\n",
       "    </tr>\n",
       "    <tr>\n",
       "      <th>1970-01-01 00:00:00.031</th>\n",
       "      <td>0.031</td>\n",
       "      <td>1</td>\n",
       "      <td>-15.227051</td>\n",
       "      <td>0.000000</td>\n",
       "      <td>-0.0</td>\n",
       "      <td>1_co_P13</td>\n",
       "      <td>12_600back_Block3_trial_012.csv</td>\n",
       "      <td>1_co_P13/12_600back_Block3_trial_012.csv</td>\n",
       "      <td>0.0</td>\n",
       "    </tr>\n",
       "    <tr>\n",
       "      <th>1970-01-01 00:00:00.043</th>\n",
       "      <td>0.043</td>\n",
       "      <td>1</td>\n",
       "      <td>-15.227051</td>\n",
       "      <td>0.005364</td>\n",
       "      <td>-0.0</td>\n",
       "      <td>1_co_P13</td>\n",
       "      <td>12_600back_Block3_trial_012.csv</td>\n",
       "      <td>1_co_P13/12_600back_Block3_trial_012.csv</td>\n",
       "      <td>0.0</td>\n",
       "    </tr>\n",
       "    <tr>\n",
       "      <th>1970-01-01 00:00:00.051</th>\n",
       "      <td>0.051</td>\n",
       "      <td>1</td>\n",
       "      <td>-15.227051</td>\n",
       "      <td>0.005364</td>\n",
       "      <td>-0.0</td>\n",
       "      <td>1_co_P13</td>\n",
       "      <td>12_600back_Block3_trial_012.csv</td>\n",
       "      <td>1_co_P13/12_600back_Block3_trial_012.csv</td>\n",
       "      <td>0.0</td>\n",
       "    </tr>\n",
       "    <tr>\n",
       "      <th>1970-01-01 00:00:00.059</th>\n",
       "      <td>0.059</td>\n",
       "      <td>1</td>\n",
       "      <td>-15.227051</td>\n",
       "      <td>0.171661</td>\n",
       "      <td>-0.0</td>\n",
       "      <td>1_co_P13</td>\n",
       "      <td>12_600back_Block3_trial_012.csv</td>\n",
       "      <td>1_co_P13/12_600back_Block3_trial_012.csv</td>\n",
       "      <td>0.0</td>\n",
       "    </tr>\n",
       "  </tbody>\n",
       "</table>\n",
       "</div>"
      ],
      "text/plain": [
       "                         seconds  trialPhase  currentPosRoll  currentVelRoll  \\\n",
       "datetimeNew                                                                    \n",
       "1970-01-01 00:00:00.001    0.001           1      -15.227051        0.000000   \n",
       "1970-01-01 00:00:00.031    0.031           1      -15.227051        0.000000   \n",
       "1970-01-01 00:00:00.043    0.043           1      -15.227051        0.005364   \n",
       "1970-01-01 00:00:00.051    0.051           1      -15.227051        0.005364   \n",
       "1970-01-01 00:00:00.059    0.059           1      -15.227051        0.171661   \n",
       "\n",
       "                         joystickX peopleName  \\\n",
       "datetimeNew                                     \n",
       "1970-01-01 00:00:00.001       -0.0   1_co_P13   \n",
       "1970-01-01 00:00:00.031       -0.0   1_co_P13   \n",
       "1970-01-01 00:00:00.043       -0.0   1_co_P13   \n",
       "1970-01-01 00:00:00.051       -0.0   1_co_P13   \n",
       "1970-01-01 00:00:00.059       -0.0   1_co_P13   \n",
       "\n",
       "                                               trialName  \\\n",
       "datetimeNew                                                \n",
       "1970-01-01 00:00:00.001  12_600back_Block3_trial_012.csv   \n",
       "1970-01-01 00:00:00.031  12_600back_Block3_trial_012.csv   \n",
       "1970-01-01 00:00:00.043  12_600back_Block3_trial_012.csv   \n",
       "1970-01-01 00:00:00.051  12_600back_Block3_trial_012.csv   \n",
       "1970-01-01 00:00:00.059  12_600back_Block3_trial_012.csv   \n",
       "\n",
       "                                                   peopleTrialKey  crash  \n",
       "datetimeNew                                                               \n",
       "1970-01-01 00:00:00.001  1_co_P13/12_600back_Block3_trial_012.csv    0.0  \n",
       "1970-01-01 00:00:00.031  1_co_P13/12_600back_Block3_trial_012.csv    0.0  \n",
       "1970-01-01 00:00:00.043  1_co_P13/12_600back_Block3_trial_012.csv    0.0  \n",
       "1970-01-01 00:00:00.051  1_co_P13/12_600back_Block3_trial_012.csv    0.0  \n",
       "1970-01-01 00:00:00.059  1_co_P13/12_600back_Block3_trial_012.csv    0.0  "
      ]
     },
     "execution_count": 184,
     "metadata": {},
     "output_type": "execute_result"
    }
   ],
   "source": [
    "###### time -1 on 'joystickX' column\n",
    "data_needed['joystickX'] = data_needed['joystickX']*-1\n",
    "\n",
    "data_test = data_needed\n",
    "\n",
    "###### flag crash event as 1 based on \"currentPosRoll\"\n",
    "data_test.loc[ (data_test['trialPhase']==4)&\\\n",
    "                ( (data_test['currentPosRoll']>=60) | (data_test['currentPosRoll']<=-60) ), 'crash']  = 1\n",
    "data_test['crash'].fillna(0, inplace=True)\n",
    "\n",
    "data_test.head()"
   ]
  },
  {
   "cell_type": "code",
   "execution_count": 4,
   "metadata": {},
   "outputs": [
    {
     "data": {
      "text/html": [
       "<div>\n",
       "<style scoped>\n",
       "    .dataframe tbody tr th:only-of-type {\n",
       "        vertical-align: middle;\n",
       "    }\n",
       "\n",
       "    .dataframe tbody tr th {\n",
       "        vertical-align: top;\n",
       "    }\n",
       "\n",
       "    .dataframe thead th {\n",
       "        text-align: right;\n",
       "    }\n",
       "</style>\n",
       "<table border=\"1\" class=\"dataframe\">\n",
       "  <thead>\n",
       "    <tr style=\"text-align: right;\">\n",
       "      <th></th>\n",
       "      <th>seconds</th>\n",
       "      <th>trialPhase</th>\n",
       "      <th>currentPosRoll</th>\n",
       "      <th>currentVelRoll</th>\n",
       "      <th>joystickX</th>\n",
       "      <th>peopleName</th>\n",
       "      <th>trialName</th>\n",
       "      <th>peopleTrialKey</th>\n",
       "      <th>datetimeNew</th>\n",
       "      <th>crash</th>\n",
       "    </tr>\n",
       "  </thead>\n",
       "  <tbody>\n",
       "    <tr>\n",
       "      <th>191</th>\n",
       "      <td>1.774</td>\n",
       "      <td>3</td>\n",
       "      <td>-0.829468</td>\n",
       "      <td>0.000000</td>\n",
       "      <td>0.0</td>\n",
       "      <td>1_co_P13</td>\n",
       "      <td>12_600back_Block3_trial_012.csv</td>\n",
       "      <td>1_co_P13/12_600back_Block3_trial_012.csv</td>\n",
       "      <td>1970-01-01 00:00:01.774</td>\n",
       "      <td>0.0</td>\n",
       "    </tr>\n",
       "    <tr>\n",
       "      <th>192</th>\n",
       "      <td>1.795</td>\n",
       "      <td>3</td>\n",
       "      <td>-0.760803</td>\n",
       "      <td>-0.171661</td>\n",
       "      <td>0.0</td>\n",
       "      <td>1_co_P13</td>\n",
       "      <td>12_600back_Block3_trial_012.csv</td>\n",
       "      <td>1_co_P13/12_600back_Block3_trial_012.csv</td>\n",
       "      <td>1970-01-01 00:00:01.795</td>\n",
       "      <td>0.0</td>\n",
       "    </tr>\n",
       "    <tr>\n",
       "      <th>193</th>\n",
       "      <td>1.817</td>\n",
       "      <td>3</td>\n",
       "      <td>-0.686646</td>\n",
       "      <td>-0.514983</td>\n",
       "      <td>0.0</td>\n",
       "      <td>1_co_P13</td>\n",
       "      <td>12_600back_Block3_trial_012.csv</td>\n",
       "      <td>1_co_P13/12_600back_Block3_trial_012.csv</td>\n",
       "      <td>1970-01-01 00:00:01.817</td>\n",
       "      <td>0.0</td>\n",
       "    </tr>\n",
       "    <tr>\n",
       "      <th>194</th>\n",
       "      <td>1.838</td>\n",
       "      <td>3</td>\n",
       "      <td>-0.620728</td>\n",
       "      <td>-0.514983</td>\n",
       "      <td>0.0</td>\n",
       "      <td>1_co_P13</td>\n",
       "      <td>12_600back_Block3_trial_012.csv</td>\n",
       "      <td>1_co_P13/12_600back_Block3_trial_012.csv</td>\n",
       "      <td>1970-01-01 00:00:01.838</td>\n",
       "      <td>0.0</td>\n",
       "    </tr>\n",
       "    <tr>\n",
       "      <th>195</th>\n",
       "      <td>1.860</td>\n",
       "      <td>3</td>\n",
       "      <td>-0.560303</td>\n",
       "      <td>-0.686644</td>\n",
       "      <td>0.0</td>\n",
       "      <td>1_co_P13</td>\n",
       "      <td>12_600back_Block3_trial_012.csv</td>\n",
       "      <td>1_co_P13/12_600back_Block3_trial_012.csv</td>\n",
       "      <td>1970-01-01 00:00:01.860</td>\n",
       "      <td>0.0</td>\n",
       "    </tr>\n",
       "  </tbody>\n",
       "</table>\n",
       "</div>"
      ],
      "text/plain": [
       "     seconds  trialPhase  currentPosRoll  currentVelRoll  joystickX  \\\n",
       "191    1.774           3       -0.829468        0.000000        0.0   \n",
       "192    1.795           3       -0.760803       -0.171661        0.0   \n",
       "193    1.817           3       -0.686646       -0.514983        0.0   \n",
       "194    1.838           3       -0.620728       -0.514983        0.0   \n",
       "195    1.860           3       -0.560303       -0.686644        0.0   \n",
       "\n",
       "    peopleName                        trialName  \\\n",
       "191   1_co_P13  12_600back_Block3_trial_012.csv   \n",
       "192   1_co_P13  12_600back_Block3_trial_012.csv   \n",
       "193   1_co_P13  12_600back_Block3_trial_012.csv   \n",
       "194   1_co_P13  12_600back_Block3_trial_012.csv   \n",
       "195   1_co_P13  12_600back_Block3_trial_012.csv   \n",
       "\n",
       "                               peopleTrialKey             datetimeNew  crash  \n",
       "191  1_co_P13/12_600back_Block3_trial_012.csv 1970-01-01 00:00:01.774    0.0  \n",
       "192  1_co_P13/12_600back_Block3_trial_012.csv 1970-01-01 00:00:01.795    0.0  \n",
       "193  1_co_P13/12_600back_Block3_trial_012.csv 1970-01-01 00:00:01.817    0.0  \n",
       "194  1_co_P13/12_600back_Block3_trial_012.csv 1970-01-01 00:00:01.838    0.0  \n",
       "195  1_co_P13/12_600back_Block3_trial_012.csv 1970-01-01 00:00:01.860    0.0  "
      ]
     },
     "execution_count": 4,
     "metadata": {},
     "output_type": "execute_result"
    }
   ],
   "source": [
    "###### find all the flagged crash events\n",
    "# crash_event = data_test[data_test.peopleTrialKey.isin(all_path)]\n",
    "\n",
    "##### excluding the trialPhase=1 and the left are human being behavior \n",
    "data_human = data_test[data_test.trialPhase!=1]\n",
    "data_human.head()"
   ]
  },
  {
   "cell_type": "code",
   "execution_count": 22,
   "metadata": {},
   "outputs": [
    {
     "data": {
      "text/html": [
       "<div>\n",
       "<style scoped>\n",
       "    .dataframe tbody tr th:only-of-type {\n",
       "        vertical-align: middle;\n",
       "    }\n",
       "\n",
       "    .dataframe tbody tr th {\n",
       "        vertical-align: top;\n",
       "    }\n",
       "\n",
       "    .dataframe thead th {\n",
       "        text-align: right;\n",
       "    }\n",
       "</style>\n",
       "<table border=\"1\" class=\"dataframe\">\n",
       "  <thead>\n",
       "    <tr style=\"text-align: right;\">\n",
       "      <th></th>\n",
       "      <th>seconds</th>\n",
       "      <th>trialPhase</th>\n",
       "      <th>currentPosRoll</th>\n",
       "      <th>currentVelRoll</th>\n",
       "      <th>joystickX</th>\n",
       "      <th>peopleName</th>\n",
       "      <th>trialName</th>\n",
       "      <th>peopleTrialKey</th>\n",
       "      <th>datetimeNew</th>\n",
       "    </tr>\n",
       "  </thead>\n",
       "  <tbody>\n",
       "    <tr>\n",
       "      <th>1177</th>\n",
       "      <td>22.398</td>\n",
       "      <td>4</td>\n",
       "      <td>59.436035</td>\n",
       "      <td>94.134567</td>\n",
       "      <td>0.880920</td>\n",
       "      <td>1_co_P13</td>\n",
       "      <td>12_600back_Block3_trial_012.csv</td>\n",
       "      <td>1_co_P13/12_600back_Block3_trial_012.csv</td>\n",
       "      <td>1970-01-01 00:00:22.398</td>\n",
       "    </tr>\n",
       "    <tr>\n",
       "      <th>2137</th>\n",
       "      <td>35.087</td>\n",
       "      <td>4</td>\n",
       "      <td>-60.455017</td>\n",
       "      <td>-11.415452</td>\n",
       "      <td>-0.843781</td>\n",
       "      <td>1_co_P13</td>\n",
       "      <td>12_600back_Block3_trial_012.csv</td>\n",
       "      <td>1_co_P13/12_600back_Block3_trial_012.csv</td>\n",
       "      <td>1970-01-01 00:00:35.087</td>\n",
       "    </tr>\n",
       "    <tr>\n",
       "      <th>4174</th>\n",
       "      <td>71.218</td>\n",
       "      <td>4</td>\n",
       "      <td>-60.578613</td>\n",
       "      <td>2.456897</td>\n",
       "      <td>-0.820343</td>\n",
       "      <td>1_co_P13</td>\n",
       "      <td>12_600back_Block3_trial_012.csv</td>\n",
       "      <td>1_co_P13/12_600back_Block3_trial_012.csv</td>\n",
       "      <td>1970-01-01 00:01:11.218</td>\n",
       "    </tr>\n",
       "    <tr>\n",
       "      <th>5255</th>\n",
       "      <td>87.480</td>\n",
       "      <td>4</td>\n",
       "      <td>60.262756</td>\n",
       "      <td>44.052488</td>\n",
       "      <td>0.579346</td>\n",
       "      <td>1_co_P13</td>\n",
       "      <td>12_600back_Block3_trial_012.csv</td>\n",
       "      <td>1_co_P13/12_600back_Block3_trial_012.csv</td>\n",
       "      <td>1970-01-01 00:01:27.480</td>\n",
       "    </tr>\n",
       "    <tr>\n",
       "      <th>6060</th>\n",
       "      <td>97.565</td>\n",
       "      <td>4</td>\n",
       "      <td>-60.367126</td>\n",
       "      <td>-27.508665</td>\n",
       "      <td>-0.796906</td>\n",
       "      <td>1_co_P13</td>\n",
       "      <td>12_600back_Block3_trial_012.csv</td>\n",
       "      <td>1_co_P13/12_600back_Block3_trial_012.csv</td>\n",
       "      <td>1970-01-01 00:01:37.565</td>\n",
       "    </tr>\n",
       "  </tbody>\n",
       "</table>\n",
       "</div>"
      ],
      "text/plain": [
       "      seconds  trialPhase  currentPosRoll  currentVelRoll  joystickX  \\\n",
       "1177   22.398           4       59.436035       94.134567   0.880920   \n",
       "2137   35.087           4      -60.455017      -11.415452  -0.843781   \n",
       "4174   71.218           4      -60.578613        2.456897  -0.820343   \n",
       "5255   87.480           4       60.262756       44.052488   0.579346   \n",
       "6060   97.565           4      -60.367126      -27.508665  -0.796906   \n",
       "\n",
       "     peopleName                        trialName  \\\n",
       "1177   1_co_P13  12_600back_Block3_trial_012.csv   \n",
       "2137   1_co_P13  12_600back_Block3_trial_012.csv   \n",
       "4174   1_co_P13  12_600back_Block3_trial_012.csv   \n",
       "5255   1_co_P13  12_600back_Block3_trial_012.csv   \n",
       "6060   1_co_P13  12_600back_Block3_trial_012.csv   \n",
       "\n",
       "                                peopleTrialKey             datetimeNew  \n",
       "1177  1_co_P13/12_600back_Block3_trial_012.csv 1970-01-01 00:00:22.398  \n",
       "2137  1_co_P13/12_600back_Block3_trial_012.csv 1970-01-01 00:00:35.087  \n",
       "4174  1_co_P13/12_600back_Block3_trial_012.csv 1970-01-01 00:01:11.218  \n",
       "5255  1_co_P13/12_600back_Block3_trial_012.csv 1970-01-01 00:01:27.480  \n",
       "6060  1_co_P13/12_600back_Block3_trial_012.csv 1970-01-01 00:01:37.565  "
      ]
     },
     "execution_count": 22,
     "metadata": {},
     "output_type": "execute_result"
    }
   ],
   "source": [
    "##### define crash event by trialPhase \n",
    "crashed_on_trialPhase = data_needed[data_needed.trialPhase==4]\n",
    "\n",
    "##### excluding the trialPhase=1 and the left are human being behavior \n",
    "crashed_on_trialPhase = crashed_on_trialPhase[crashed_on_trialPhase.trialPhase!=1]\n",
    "crashed_on_trialPhase.head()"
   ]
  },
  {
   "cell_type": "code",
   "execution_count": 6,
   "metadata": {},
   "outputs": [
    {
     "name": "stdout",
     "output_type": "stream",
     "text": [
      "There are 4300 crash event based on +- 60 degrees\n"
     ]
    }
   ],
   "source": [
    "print('There are %s crash event based on +- 60 degrees'%len(data_human[data_human.crash==1]) )  "
   ]
  },
  {
   "cell_type": "code",
   "execution_count": 7,
   "metadata": {},
   "outputs": [
    {
     "name": "stdout",
     "output_type": "stream",
     "text": [
      "There are 6251 crash event based on trialPhase\n"
     ]
    }
   ],
   "source": [
    "print('There are %s crash event based on trialPhase'% len(crashed_on_trialPhase))"
   ]
  },
  {
   "cell_type": "code",
   "execution_count": 8,
   "metadata": {},
   "outputs": [
    {
     "name": "stdout",
     "output_type": "stream",
     "text": [
      "There are 1087 unique peopleTrial has at least one crash based on trialPhase\n",
      "There are 1052 unique peopleTrial has at least one crash based on +- 60 degrees\n"
     ]
    }
   ],
   "source": [
    "print('There are %s unique peopleTrial has at least one crash based on trialPhase'\\\n",
    "      %len(data_needed[data_needed.trialPhase==4].peopleTrialKey.unique())) \n",
    "\n",
    "print('There are %s unique peopleTrial has at least one crash based on +- 60 degrees'\\\n",
    "      %len(data_human[data_human.crash==1].peopleTrialKey.unique())) "
   ]
  },
  {
   "cell_type": "markdown",
   "metadata": {},
   "source": [
    "#### Conclustion 1 : there are some difference about total number of crash events based on two criteria (1 trialPhase ==4, (2 currentPosRoll >= 60 degrees or <= -60 degrees. The reason is there's some bias/tiny error about the machine. But in the end we decided to believe in the machine and use the first criterition trialPhase ==4 to define a crash event.  "
   ]
  },
  {
   "cell_type": "markdown",
   "metadata": {},
   "source": [
    "### explore total number of two consecutive crashes happened within a short time interval"
   ]
  },
  {
   "cell_type": "code",
   "execution_count": 23,
   "metadata": {},
   "outputs": [
    {
     "data": {
      "text/plain": [
       "array(['1_co_P13/12_600back_Block3_trial_012.csv',\n",
       "       '1_co_P13/20_600back_Block5_trial_020.csv',\n",
       "       '1_co_P13/06_600back_Block2_trial_006.csv', ...,\n",
       "       '2_xz_P11/07_600back_Block2_trial_007.csv',\n",
       "       '2_xz_P11/09_600back_Block3_trial_009.csv',\n",
       "       '2_xz_P11/04_600back_Block1_trial_004.csv'], dtype=object)"
      ]
     },
     "execution_count": 23,
     "metadata": {},
     "output_type": "execute_result"
    }
   ],
   "source": [
    "###### use the data based on trialPhase and get all the unique peopleTrialKey has a crash\n",
    "crash_event = crashed_on_trialPhase\n",
    "peopleTrialHasCrash = crash_event.peopleTrialKey.unique()\n",
    "peopleTrialHasCrash"
   ]
  },
  {
   "cell_type": "code",
   "execution_count": 185,
   "metadata": {},
   "outputs": [],
   "source": [
    "####### give a threshold of a time interval between two consecutive crashes within one trial #######  \n",
    "####### how to set up the threshold? 1) how much time it will take to reset the machine??? \n",
    "\n",
    "time_interval = [x for x in np.arange(0, 10, 0.5)]\n",
    "num_crash_event = []\n",
    "for t in time_interval:\n",
    "    crash_excludeShortT = pd.DataFrame()\n",
    "    for x in range(len(peopleTrialHasCrash)):\n",
    "        trial = peopleTrialHasCrash[x]\n",
    "        df = crash_event[crash_event.peopleTrialKey == trial]\n",
    "        df['seconds_shift'] = df['seconds'].shift(1)\n",
    "        df.fillna(0, inplace=True)\n",
    "        df['time_gap'] = df['seconds'] - df['seconds_shift']\n",
    "        # now we try to set as 5 seconds as a short-time crash\n",
    "        df = df[df.time_gap > t]\n",
    "        crash_excludeShortT = pd.concat([crash_excludeShortT, df])\n",
    "    num_crash_event.append((len(crash_event) - len(crash_excludeShortT)))\n",
    "    \n",
    "#     for i in range(len(df)):\n",
    "#         sec_1 = df.seconds_shift.iloc[i]\n",
    "#         sec_2 = df.seconds.iloc[i] \n",
    "#         temp = data_needed[ (data_needed.peopleTrialKey == trial ) &\\\n",
    "#          (data_needed.seconds > sec_1) & (data_needed.seconds <= sec_2 ) ] \n",
    "#         crash_event_withInfo = pd.concat([crash_event_withInfo,temp])"
   ]
  },
  {
   "cell_type": "code",
   "execution_count": 225,
   "metadata": {},
   "outputs": [
    {
     "data": {
      "text/plain": [
       "[<matplotlib.lines.Line2D at 0x11c168470>]"
      ]
     },
     "execution_count": 225,
     "metadata": {},
     "output_type": "execute_result"
    },
    {
     "data": {
      "image/png": "[encoded data removed]",
      "text/plain": [
       "<Figure size 576x288 with 1 Axes>"
      ]
     },
     "metadata": {},
     "output_type": "display_data"
    }
   ],
   "source": [
    "plt.style.use('seaborn-whitegrid')\n",
    "fig = plt.figure(figsize=(8,4))\n",
    "ax = plt.axes()\n",
    "ax.plot(time_interval, num_crash_event)"
   ]
  },
  {
   "cell_type": "code",
   "execution_count": 186,
   "metadata": {},
   "outputs": [],
   "source": [
    "####### give a threshold of a time interval between two consecutive crashes within one trial #######  \n",
    "####### how to set up the threshold? 1) how much time it will take to reset the machine??? \n",
    "\n",
    "crash_excludeShortT = pd.DataFrame()\n",
    "for x in range(len(peopleTrialHasCrash)):\n",
    "    trial = peopleTrialHasCrash[x]\n",
    "    df = crash_event[crash_event.peopleTrialKey == trial]\n",
    "    df['seconds_shift'] = df['seconds'].shift(1)\n",
    "    df.fillna(0, inplace=True)\n",
    "    df['time_gap'] = df['seconds'] - df['seconds_shift']\n",
    "    # now we try to set as 2 seconds as a short-time crash\n",
    "    df = df[df.time_gap > 2]\n",
    "    crash_excludeShortT = pd.concat([crash_excludeShortT, df])\n",
    "    \n",
    "    \n",
    "#     for i in range(len(df)):\n",
    "#         sec_1 = df.seconds_shift.iloc[i]\n",
    "#         sec_2 = df.seconds.iloc[i] \n",
    "#         temp = data_needed[ (data_needed.peopleTrialKey == trial ) &\\\n",
    "#          (data_needed.seconds > sec_1) & (data_needed.seconds <= sec_2 ) ] \n",
    "#         crash_event_withInfo = pd.concat([crash_event_withInfo,temp])"
   ]
  },
  {
   "cell_type": "code",
   "execution_count": 25,
   "metadata": {},
   "outputs": [
    {
     "data": {
      "text/plain": [
       "6235"
      ]
     },
     "execution_count": 25,
     "metadata": {},
     "output_type": "execute_result"
    }
   ],
   "source": [
    "len(crash_excludeShortT)"
   ]
  },
  {
   "cell_type": "code",
   "execution_count": 6,
   "metadata": {},
   "outputs": [
    {
     "data": {
      "text/html": [
       "<div>\n",
       "<style scoped>\n",
       "    .dataframe tbody tr th:only-of-type {\n",
       "        vertical-align: middle;\n",
       "    }\n",
       "\n",
       "    .dataframe tbody tr th {\n",
       "        vertical-align: top;\n",
       "    }\n",
       "\n",
       "    .dataframe thead th {\n",
       "        text-align: right;\n",
       "    }\n",
       "</style>\n",
       "<table border=\"1\" class=\"dataframe\">\n",
       "  <thead>\n",
       "    <tr style=\"text-align: right;\">\n",
       "      <th></th>\n",
       "      <th>seconds</th>\n",
       "      <th>trialPhase</th>\n",
       "      <th>currentPosRoll</th>\n",
       "      <th>currentVelRoll</th>\n",
       "      <th>joystickX</th>\n",
       "      <th>peopleName</th>\n",
       "      <th>trialName</th>\n",
       "      <th>peopleTrialKey</th>\n",
       "      <th>datetimeNew</th>\n",
       "      <th>crash</th>\n",
       "      <th>seconds_shift</th>\n",
       "      <th>time_gap</th>\n",
       "    </tr>\n",
       "  </thead>\n",
       "  <tbody>\n",
       "    <tr>\n",
       "      <th>1177</th>\n",
       "      <td>22.398</td>\n",
       "      <td>4</td>\n",
       "      <td>59.436035</td>\n",
       "      <td>94.134567</td>\n",
       "      <td>-0.880920</td>\n",
       "      <td>1_co_P13</td>\n",
       "      <td>12_600back_Block3_trial_012.csv</td>\n",
       "      <td>1_co_P13/12_600back_Block3_trial_012.csv</td>\n",
       "      <td>1970-01-01 00:00:22.398</td>\n",
       "      <td>0.0</td>\n",
       "      <td>0.000</td>\n",
       "      <td>22.398</td>\n",
       "    </tr>\n",
       "    <tr>\n",
       "      <th>2137</th>\n",
       "      <td>35.087</td>\n",
       "      <td>4</td>\n",
       "      <td>-60.455017</td>\n",
       "      <td>-11.415452</td>\n",
       "      <td>0.843781</td>\n",
       "      <td>1_co_P13</td>\n",
       "      <td>12_600back_Block3_trial_012.csv</td>\n",
       "      <td>1_co_P13/12_600back_Block3_trial_012.csv</td>\n",
       "      <td>1970-01-01 00:00:35.087</td>\n",
       "      <td>1.0</td>\n",
       "      <td>22.398</td>\n",
       "      <td>12.689</td>\n",
       "    </tr>\n",
       "    <tr>\n",
       "      <th>4174</th>\n",
       "      <td>71.218</td>\n",
       "      <td>4</td>\n",
       "      <td>-60.578613</td>\n",
       "      <td>2.456897</td>\n",
       "      <td>0.820343</td>\n",
       "      <td>1_co_P13</td>\n",
       "      <td>12_600back_Block3_trial_012.csv</td>\n",
       "      <td>1_co_P13/12_600back_Block3_trial_012.csv</td>\n",
       "      <td>1970-01-01 00:01:11.218</td>\n",
       "      <td>1.0</td>\n",
       "      <td>35.087</td>\n",
       "      <td>36.131</td>\n",
       "    </tr>\n",
       "    <tr>\n",
       "      <th>5255</th>\n",
       "      <td>87.480</td>\n",
       "      <td>4</td>\n",
       "      <td>60.262756</td>\n",
       "      <td>44.052488</td>\n",
       "      <td>-0.579346</td>\n",
       "      <td>1_co_P13</td>\n",
       "      <td>12_600back_Block3_trial_012.csv</td>\n",
       "      <td>1_co_P13/12_600back_Block3_trial_012.csv</td>\n",
       "      <td>1970-01-01 00:01:27.480</td>\n",
       "      <td>1.0</td>\n",
       "      <td>71.218</td>\n",
       "      <td>16.262</td>\n",
       "    </tr>\n",
       "    <tr>\n",
       "      <th>6060</th>\n",
       "      <td>97.565</td>\n",
       "      <td>4</td>\n",
       "      <td>-60.367126</td>\n",
       "      <td>-27.508665</td>\n",
       "      <td>0.796906</td>\n",
       "      <td>1_co_P13</td>\n",
       "      <td>12_600back_Block3_trial_012.csv</td>\n",
       "      <td>1_co_P13/12_600back_Block3_trial_012.csv</td>\n",
       "      <td>1970-01-01 00:01:37.565</td>\n",
       "      <td>1.0</td>\n",
       "      <td>87.480</td>\n",
       "      <td>10.085</td>\n",
       "    </tr>\n",
       "  </tbody>\n",
       "</table>\n",
       "</div>"
      ],
      "text/plain": [
       "      seconds  trialPhase  currentPosRoll  currentVelRoll  joystickX  \\\n",
       "1177   22.398           4       59.436035       94.134567  -0.880920   \n",
       "2137   35.087           4      -60.455017      -11.415452   0.843781   \n",
       "4174   71.218           4      -60.578613        2.456897   0.820343   \n",
       "5255   87.480           4       60.262756       44.052488  -0.579346   \n",
       "6060   97.565           4      -60.367126      -27.508665   0.796906   \n",
       "\n",
       "     peopleName                        trialName  \\\n",
       "1177   1_co_P13  12_600back_Block3_trial_012.csv   \n",
       "2137   1_co_P13  12_600back_Block3_trial_012.csv   \n",
       "4174   1_co_P13  12_600back_Block3_trial_012.csv   \n",
       "5255   1_co_P13  12_600back_Block3_trial_012.csv   \n",
       "6060   1_co_P13  12_600back_Block3_trial_012.csv   \n",
       "\n",
       "                                peopleTrialKey             datetimeNew  crash  \\\n",
       "1177  1_co_P13/12_600back_Block3_trial_012.csv 1970-01-01 00:00:22.398    0.0   \n",
       "2137  1_co_P13/12_600back_Block3_trial_012.csv 1970-01-01 00:00:35.087    1.0   \n",
       "4174  1_co_P13/12_600back_Block3_trial_012.csv 1970-01-01 00:01:11.218    1.0   \n",
       "5255  1_co_P13/12_600back_Block3_trial_012.csv 1970-01-01 00:01:27.480    1.0   \n",
       "6060  1_co_P13/12_600back_Block3_trial_012.csv 1970-01-01 00:01:37.565    1.0   \n",
       "\n",
       "      seconds_shift  time_gap  \n",
       "1177          0.000    22.398  \n",
       "2137         22.398    12.689  \n",
       "4174         35.087    36.131  \n",
       "5255         71.218    16.262  \n",
       "6060         87.480    10.085  "
      ]
     },
     "execution_count": 6,
     "metadata": {},
     "output_type": "execute_result"
    }
   ],
   "source": [
    "crash_excludeShortT.head()"
   ]
  },
  {
   "cell_type": "code",
   "execution_count": 207,
   "metadata": {},
   "outputs": [
    {
     "name": "stdout",
     "output_type": "stream",
     "text": [
      "There are 189 crash events that have less than 7 seconds time interval between next crash\n"
     ]
    }
   ],
   "source": [
    "print('There are %s crash events that have less than 7 seconds time interval between next crash'\\\n",
    "      % (len(crash_event) - len(crash_excludeShortT)))"
   ]
  },
  {
   "cell_type": "code",
   "execution_count": 183,
   "metadata": {},
   "outputs": [
    {
     "name": "stdout",
     "output_type": "stream",
     "text": [
      "There are 90 crash events that have less than 5 seconds time interval between next crash\n"
     ]
    }
   ],
   "source": [
    "print('There are %s crash events that have less than 5 seconds time interval between next crash'\\\n",
    "      % (len(crash_event) - len(crash_excludeShortT)))"
   ]
  },
  {
   "cell_type": "code",
   "execution_count": 245,
   "metadata": {},
   "outputs": [
    {
     "name": "stdout",
     "output_type": "stream",
     "text": [
      "There are 26 crash events that have less than 3 seconds time interval between next crash\n"
     ]
    }
   ],
   "source": [
    "print('There are %s crash events that have less than 3 seconds time interval between next crash'\\\n",
    "      % (len(crash_event) - len(crash_excludeShortT)))"
   ]
  },
  {
   "cell_type": "markdown",
   "metadata": {},
   "source": [
    "### get the crash event label and features"
   ]
  },
  {
   "cell_type": "code",
   "execution_count": 187,
   "metadata": {},
   "outputs": [
    {
     "name": "stdout",
     "output_type": "stream",
     "text": [
      "0\n",
      "1\n",
      "2\n"
     ]
    }
   ],
   "source": [
    "np.set_printoptions(suppress=True)\n",
    "####### crash event data info with features within 300 ms previous data ######\n",
    "time_scale_train = 0.5\n",
    "time_ahead = 0.3\n",
    "crash_feature_label_300ms_500ms_test = pd.DataFrame()\n",
    "peopleTrialHasCrash_ex = crash_excludeShortT.peopleTrialKey.unique()\n",
    "for num in range(len(peopleTrialHasCrash[0:3])):\n",
    "    j = peopleTrialHasCrash[0:3][num]\n",
    "    print(num)\n",
    "    for i in (crash_excludeShortT.loc[\n",
    "                        ((crash_excludeShortT['peopleTrialKey'] == j)),'seconds']):\n",
    "        \n",
    "        temp_df = pd.concat([data_needed[(data_needed.seconds <= i - time_ahead) &\\\n",
    "                        (data_needed.seconds >= i - time_scale_train - time_ahead) \\\n",
    "                      &(data_needed['peopleTrialKey'] == j)]]) \n",
    "        \n",
    "        ##### resample & interpolate\n",
    "        temp_df = temp_df[['seconds', 'currentPosRoll','currentVelRoll','joystickX']]\n",
    "        temp_df = temp_df.resample('0.001S').asfreq().interpolate(method='linear')\n",
    "\n",
    "        arr1 = np.array(temp_df[['seconds', 'currentPosRoll','currentVelRoll','joystickX']])\n",
    "#         arr2 = np.array(temp_df['crash'].iloc[-1])\n",
    "        arr2 = 1\n",
    "#         arr3 = np.mean(np.array(temp_df[['seconds']]))\n",
    "#         arr4 = np.mean(np.array(temp_df[['currentPosRoll']]))\n",
    "#         arr5 = np.mean(np.array(temp_df[['currentVelRoll']]))\n",
    "#         arr6 = np.mean(np.array(temp_df[['joystickX']]))\n",
    "#         arr7 = np.std(np.array(temp_df[['currentPosRoll']]))\n",
    "        crash_feature_label_300ms_500ms_test = pd.concat(\\\n",
    "                            [crash_feature_label_300ms_500ms_test, pd.DataFrame([[arr1, arr2]],\\\n",
    "                            columns=[\"features\",'label']) ])                           "
   ]
  },
  {
   "cell_type": "code",
   "execution_count": 189,
   "metadata": {},
   "outputs": [
    {
     "data": {
      "text/plain": [
       "[478,\n",
       " 483,\n",
       " 480,\n",
       " 482,\n",
       " 483,\n",
       " 464,\n",
       " 484,\n",
       " 484,\n",
       " 481,\n",
       " 476,\n",
       " 461,\n",
       " 483,\n",
       " 465,\n",
       " 488,\n",
       " 466,\n",
       " 485]"
      ]
     },
     "execution_count": 189,
     "metadata": {},
     "output_type": "execute_result"
    }
   ],
   "source": [
    "leng = []\n",
    "for i in range(len(crash_feature_label_300ms_500ms_test)):\n",
    "    leng.append(crash_feature_label_300ms_500ms_test.features.iloc[i].shape[0])\n",
    "leng"
   ]
  },
  {
   "cell_type": "code",
   "execution_count": 191,
   "metadata": {},
   "outputs": [
    {
     "data": {
      "text/html": [
       "<div>\n",
       "<style scoped>\n",
       "    .dataframe tbody tr th:only-of-type {\n",
       "        vertical-align: middle;\n",
       "    }\n",
       "\n",
       "    .dataframe tbody tr th {\n",
       "        vertical-align: top;\n",
       "    }\n",
       "\n",
       "    .dataframe thead th {\n",
       "        text-align: right;\n",
       "    }\n",
       "</style>\n",
       "<table border=\"1\" class=\"dataframe\">\n",
       "  <thead>\n",
       "    <tr style=\"text-align: right;\">\n",
       "      <th></th>\n",
       "      <th>features</th>\n",
       "      <th>label</th>\n",
       "    </tr>\n",
       "  </thead>\n",
       "  <tbody>\n",
       "    <tr>\n",
       "      <th>0</th>\n",
       "      <td>[[21.6, 51.1962890625, -40.039914, -0.349182],...</td>\n",
       "      <td>1</td>\n",
       "    </tr>\n",
       "    <tr>\n",
       "      <th>0</th>\n",
       "      <td>[[34.298, -33.7417602539063, -39.396185, 0.640...</td>\n",
       "      <td>1</td>\n",
       "    </tr>\n",
       "    <tr>\n",
       "      <th>0</th>\n",
       "      <td>[[70.438, -34.5712280273438, -29.26819, 0.0547...</td>\n",
       "      <td>1</td>\n",
       "    </tr>\n",
       "    <tr>\n",
       "      <th>0</th>\n",
       "      <td>[[86.681, 48.592529296875, -2.875321, -0.54757...</td>\n",
       "      <td>1</td>\n",
       "    </tr>\n",
       "    <tr>\n",
       "      <th>0</th>\n",
       "      <td>[[96.783, -36.5240478515625, -12.187927, 0.320...</td>\n",
       "      <td>1</td>\n",
       "    </tr>\n",
       "    <tr>\n",
       "      <th>0</th>\n",
       "      <td>[[39.514, 43.7503051757813, -9.398436, -0.5079...</td>\n",
       "      <td>1</td>\n",
       "    </tr>\n",
       "    <tr>\n",
       "      <th>0</th>\n",
       "      <td>[[52.792, -50.5014038085938, 4.109134, 0.53128...</td>\n",
       "      <td>1</td>\n",
       "    </tr>\n",
       "    <tr>\n",
       "      <th>0</th>\n",
       "      <td>[[97.171, -58.3511352539063, 27.691055, 0.6797...</td>\n",
       "      <td>1</td>\n",
       "    </tr>\n",
       "    <tr>\n",
       "      <th>0</th>\n",
       "      <td>[[8.267000000000001, -27.677307128906303, -51....</td>\n",
       "      <td>1</td>\n",
       "    </tr>\n",
       "    <tr>\n",
       "      <th>0</th>\n",
       "      <td>[[20.774, 25.106506347656303, 31.762638, 0.867...</td>\n",
       "      <td>1</td>\n",
       "    </tr>\n",
       "    <tr>\n",
       "      <th>0</th>\n",
       "      <td>[[32.663000000000004, -40.0643920898438, -8.02...</td>\n",
       "      <td>1</td>\n",
       "    </tr>\n",
       "    <tr>\n",
       "      <th>0</th>\n",
       "      <td>[[50.737, 33.2611083984375, 58.965532, -0.9682...</td>\n",
       "      <td>1</td>\n",
       "    </tr>\n",
       "    <tr>\n",
       "      <th>0</th>\n",
       "      <td>[[59.021, -18.0587768554688, -52.571162, -0.17...</td>\n",
       "      <td>1</td>\n",
       "    </tr>\n",
       "    <tr>\n",
       "      <th>0</th>\n",
       "      <td>[[69.732, -28.748474121093803, -26.993682, -0....</td>\n",
       "      <td>1</td>\n",
       "    </tr>\n",
       "    <tr>\n",
       "      <th>0</th>\n",
       "      <td>[[90.097, -11.8075561523438, -52.785738, 0.234...</td>\n",
       "      <td>1</td>\n",
       "    </tr>\n",
       "    <tr>\n",
       "      <th>0</th>\n",
       "      <td>[[103.975, 48.7051391601563, -22.573413, -0.38...</td>\n",
       "      <td>1</td>\n",
       "    </tr>\n",
       "  </tbody>\n",
       "</table>\n",
       "</div>"
      ],
      "text/plain": [
       "                                            features  label\n",
       "0  [[21.6, 51.1962890625, -40.039914, -0.349182],...      1\n",
       "0  [[34.298, -33.7417602539063, -39.396185, 0.640...      1\n",
       "0  [[70.438, -34.5712280273438, -29.26819, 0.0547...      1\n",
       "0  [[86.681, 48.592529296875, -2.875321, -0.54757...      1\n",
       "0  [[96.783, -36.5240478515625, -12.187927, 0.320...      1\n",
       "0  [[39.514, 43.7503051757813, -9.398436, -0.5079...      1\n",
       "0  [[52.792, -50.5014038085938, 4.109134, 0.53128...      1\n",
       "0  [[97.171, -58.3511352539063, 27.691055, 0.6797...      1\n",
       "0  [[8.267000000000001, -27.677307128906303, -51....      1\n",
       "0  [[20.774, 25.106506347656303, 31.762638, 0.867...      1\n",
       "0  [[32.663000000000004, -40.0643920898438, -8.02...      1\n",
       "0  [[50.737, 33.2611083984375, 58.965532, -0.9682...      1\n",
       "0  [[59.021, -18.0587768554688, -52.571162, -0.17...      1\n",
       "0  [[69.732, -28.748474121093803, -26.993682, -0....      1\n",
       "0  [[90.097, -11.8075561523438, -52.785738, 0.234...      1\n",
       "0  [[103.975, 48.7051391601563, -22.573413, -0.38...      1"
      ]
     },
     "execution_count": 191,
     "metadata": {},
     "output_type": "execute_result"
    }
   ],
   "source": [
    "crash_feature_label_300ms_500ms_test"
   ]
  },
  {
   "cell_type": "code",
   "execution_count": null,
   "metadata": {},
   "outputs": [],
   "source": []
  },
  {
   "cell_type": "code",
   "execution_count": null,
   "metadata": {},
   "outputs": [],
   "source": []
  },
  {
   "cell_type": "code",
   "execution_count": null,
   "metadata": {},
   "outputs": [],
   "source": []
  },
  {
   "cell_type": "code",
   "execution_count": null,
   "metadata": {},
   "outputs": [],
   "source": []
  },
  {
   "cell_type": "code",
   "execution_count": null,
   "metadata": {},
   "outputs": [],
   "source": []
  },
  {
   "cell_type": "code",
   "execution_count": 1,
   "metadata": {},
   "outputs": [
    {
     "data": {
      "text/html": [
       "<div>\n",
       "<style scoped>\n",
       "    .dataframe tbody tr th:only-of-type {\n",
       "        vertical-align: middle;\n",
       "    }\n",
       "\n",
       "    .dataframe tbody tr th {\n",
       "        vertical-align: top;\n",
       "    }\n",
       "\n",
       "    .dataframe thead th {\n",
       "        text-align: right;\n",
       "    }\n",
       "</style>\n",
       "<table border=\"1\" class=\"dataframe\">\n",
       "  <thead>\n",
       "    <tr style=\"text-align: right;\">\n",
       "      <th></th>\n",
       "      <th>features</th>\n",
       "      <th>label</th>\n",
       "    </tr>\n",
       "  </thead>\n",
       "  <tbody>\n",
       "    <tr>\n",
       "      <th>0</th>\n",
       "      <td>[[21.6, 51.1962890625, -40.039914, 0.349182], ...</td>\n",
       "      <td>1</td>\n",
       "    </tr>\n",
       "    <tr>\n",
       "      <th>0</th>\n",
       "      <td>[[34.298, -33.7417602539063, -39.396185, -0.64...</td>\n",
       "      <td>1</td>\n",
       "    </tr>\n",
       "    <tr>\n",
       "      <th>0</th>\n",
       "      <td>[[70.438, -34.5712280273438, -29.26819, -0.054...</td>\n",
       "      <td>1</td>\n",
       "    </tr>\n",
       "    <tr>\n",
       "      <th>0</th>\n",
       "      <td>[[86.681, 48.592529296875, -2.875321, 0.547577...</td>\n",
       "      <td>1</td>\n",
       "    </tr>\n",
       "    <tr>\n",
       "      <th>0</th>\n",
       "      <td>[[96.783, -36.5240478515625, -12.187927, -0.32...</td>\n",
       "      <td>1</td>\n",
       "    </tr>\n",
       "  </tbody>\n",
       "</table>\n",
       "</div>"
      ],
      "text/plain": [
       "                                            features  label\n",
       "0  [[21.6, 51.1962890625, -40.039914, 0.349182], ...      1\n",
       "0  [[34.298, -33.7417602539063, -39.396185, -0.64...      1\n",
       "0  [[70.438, -34.5712280273438, -29.26819, -0.054...      1\n",
       "0  [[86.681, 48.592529296875, -2.875321, 0.547577...      1\n",
       "0  [[96.783, -36.5240478515625, -12.187927, -0.32...      1"
      ]
     },
     "execution_count": 1,
     "metadata": {},
     "output_type": "execute_result"
    }
   ],
   "source": [
    "# crash_feature_label_300ms_500ms.to_pickle('crash_feature_label_300ms_500ms')\n",
    "crash_feature_label_300ms_500ms = pd.read_pickle('crash_feature_label_300ms_500ms')\n",
    "crash_feature_label_300ms_500ms.head()"
   ]
  },
  {
   "cell_type": "code",
   "execution_count": 12,
   "metadata": {},
   "outputs": [
    {
     "data": {
      "text/plain": [
       "count        6251\n",
       "unique          5\n",
       "top       (24, 4)\n",
       "freq         4432\n",
       "dtype: object"
      ]
     },
     "execution_count": 12,
     "metadata": {},
     "output_type": "execute_result"
    }
   ],
   "source": [
    "#### Check the length distribution of series\n",
    "len_distribution = []\n",
    "for i in range(len(crash_feature_label_300ms_500ms)):\n",
    "    len_distribution.append(crash_feature_label_300ms_500ms.features.iloc[i].shape)\n",
    "tmp = pd.Series(len_distribution)\n",
    "tmp.describe()"
   ]
  },
  {
   "cell_type": "code",
   "execution_count": 26,
   "metadata": {},
   "outputs": [
    {
     "data": {
      "image/png": "[encoded data removed]",
      "text/plain": [
       "<Figure size 576x288 with 1 Axes>"
      ]
     },
     "metadata": {
      "needs_background": "light"
     },
     "output_type": "display_data"
    }
   ],
   "source": [
    "unique_pair = set(tmp)\n",
    "num_pair = {}\n",
    "for i in unique_pair:\n",
    "    num_pair[i[0]]= sum((tmp.isin([i])))\n",
    "num_pair\n",
    "\n",
    "\n",
    "lists = sorted(num_pair.items()) # sorted by key, return a list of tuples\n",
    "x, y = zip(*lists) # unpack a list of pairs into two tuples\n",
    "\n",
    "fig = plt.figure(figsize=(8,4))\n",
    "plt.plot(x, y)\n",
    "plt.xlabel('Series length')\n",
    "plt.ylabel('Total number of series')\n",
    "plt.show() ### sampling rate "
   ]
  },
  {
   "cell_type": "markdown",
   "metadata": {},
   "source": [
    "### get all non crash event with label and features"
   ]
  },
  {
   "cell_type": "code",
   "execution_count": 27,
   "metadata": {},
   "outputs": [],
   "source": [
    "####### define my own sliding window function\n",
    "def sliding_window(data, buck_size, step):\n",
    "    list_all = []\n",
    "    temp_len = len(data[data.between(data.iloc[0], data.iloc[0] + buck_size)])\n",
    "    for i in range(len(data)): \n",
    "        left = data.iloc[i] + i * step \n",
    "        right = data.iloc[i] + i * step  + buck_size\n",
    "        series1 = data[data.between(left, right)] \n",
    "        if data.iloc[-1] - left < 0.5:\n",
    "            break\n",
    "        list_all.append(series1)\n",
    "    return list_all"
   ]
  },
  {
   "cell_type": "code",
   "execution_count": 193,
   "metadata": {},
   "outputs": [
    {
     "name": "stdout",
     "output_type": "stream",
     "text": [
      "0\n",
      "1\n",
      "2\n"
     ]
    }
   ],
   "source": [
    "np.set_printoptions(suppress=True)\n",
    "####### crash event data info with features within 0.5 second previous data ######\n",
    "time_scale_train = 0.5\n",
    "time_ahead = 0.3\n",
    "machine_reset_time = 0.3\n",
    "time_step = 0.3\n",
    "peopleTrialHasCrash_ex = crash_excludeShortT.peopleTrialKey.unique()\n",
    "\n",
    "noncrash_feature_label_300ms_500ms_test = pd.DataFrame()\n",
    "for num in range(len(peopleTrialHasCrash_ex[0:3])):\n",
    "    j = peopleTrialHasCrash_ex[0:3][num]\n",
    "    print(num) \n",
    "    df = crash_excludeShortT[crash_excludeShortT.peopleTrialKey == j]\n",
    "    df['seconds_shift'] = df['seconds'].shift(1)\n",
    "    df.fillna(0, inplace=True)\n",
    "    df['time_gap'] = df['seconds'] - df['seconds_shift']\n",
    "    \n",
    "    df_trial = data_needed[(data_needed['peopleTrialKey'] == j)]\n",
    "\n",
    "    for i in (crash_excludeShortT.loc[\n",
    "                        (crash_excludeShortT['peopleTrialKey'] == j),'seconds']):\n",
    "        left = df.seconds_shift[df.seconds==i].iloc[0] + machine_reset_time\n",
    "        right = i - time_scale_train - time_ahead\n",
    "        noncrash_time_range = [left, right]\n",
    "#         print(left, right)\n",
    "        temp_serie = data_needed.loc[(data_needed.seconds>=left) & (data_needed.seconds<=right) \\\n",
    "                      &(data_needed['peopleTrialKey'] == j),'seconds'] \n",
    "        \n",
    "        list_all = sliding_window(temp_serie, time_scale_train, time_step) \n",
    "#         print('11111' , len(list_all))\n",
    "        \n",
    "        for x in range(len(list_all)):\n",
    "            temp_df = df_trial[(df_trial.seconds >= list_all[x].iloc[0])\\\n",
    "                           & (df_trial.seconds <= list_all[x].iloc[-1])]\n",
    "            ### resample\n",
    "#             temp_df = temp_df[['seconds', 'currentPosRoll','currentVelRoll','joystickX']]\n",
    "            temp_df = temp_df.resample('0.001S').asfreq().interpolate(method='linear')\n",
    "            \n",
    "            \n",
    "            \n",
    "            arr1 = np.array(temp_df[['seconds', 'currentPosRoll','currentVelRoll','joystickX']])\n",
    "            arr2 = 0\n",
    "            arr3 = temp_df['peopleTrialKey'].iloc[0]\n",
    "            arr4 = temp_df['seconds'].iloc[0]\n",
    "            arr5 = temp_df['seconds'].iloc[-1]\n",
    "            noncrash_feature_label_300ms_500ms_test = pd.concat(\\\n",
    "                            [noncrash_feature_label_300ms_500ms_test, pd.DataFrame([[arr1, arr2]],\\\n",
    "                            columns=[\"features\",'label']) ]) \n",
    "            \n",
    "            \n",
    "            \n",
    "            \n",
    "            \n",
    "            \n",
    "        \n",
    "#         temp_df =  pd.concat([\n",
    "#                           df_trial[(df_trial.seconds >= list_all[x].iloc[0])\\\n",
    "#                            & (df_trial.seconds <= list_all[x].iloc[-1])]\\\n",
    "#                             for x in range(len(list_all)) ] )\n",
    "            \n",
    "        \n",
    "        \n",
    "\n",
    "# #         print(noncrash_time_range, temp_serie.index)\n",
    "#         temp_df = pd.concat([data_needed[(data_needed.seconds <= i - time_scale_train - time_ahead) &\\\n",
    "#                         (data_needed.seconds_shift >= i - time_gap - time_ahead) \\\n",
    "#                       &(data_needed['peopleTrialKey'] == j)]]) \n",
    "\n",
    "#         arr1 = np.array(temp_df[['seconds', 'currentPosRoll','currentVelRoll','joystickX']])\n",
    "# #         arr2 = np.array(temp_df['crash'].iloc[-1])\n",
    "#         arr2 = 0\n",
    "# #         arr3 = np.mean(np.array(temp_df[['seconds']]))\n",
    "# #         arr4 = np.mean(np.array(temp_df[['currentPosRoll']]))\n",
    "# #         arr5 = np.mean(np.array(temp_df[['currentVelRoll']]))\n",
    "# #         arr6 = np.mean(np.array(temp_df[['joystickX']]))\n",
    "# #         arr7 = np.std(np.array(temp_df[['currentPosRoll']]))\n",
    "#         noncrash_feature_label_300ms_500ms = pd.concat(\\\n",
    "#                             [noncrash_feature_label_300ms_500ms, pd.DataFrame([[arr1, arr2]],\\\n",
    "#                             columns=[\"features\",'label']) ])                           "
   ]
  },
  {
   "cell_type": "code",
   "execution_count": 177,
   "metadata": {},
   "outputs": [
    {
     "data": {
      "text/html": [
       "<div>\n",
       "<style scoped>\n",
       "    .dataframe tbody tr th:only-of-type {\n",
       "        vertical-align: middle;\n",
       "    }\n",
       "\n",
       "    .dataframe tbody tr th {\n",
       "        vertical-align: top;\n",
       "    }\n",
       "\n",
       "    .dataframe thead th {\n",
       "        text-align: right;\n",
       "    }\n",
       "</style>\n",
       "<table border=\"1\" class=\"dataframe\">\n",
       "  <thead>\n",
       "    <tr style=\"text-align: right;\">\n",
       "      <th></th>\n",
       "      <th>seconds</th>\n",
       "      <th>currentPosRoll</th>\n",
       "      <th>currentVelRoll</th>\n",
       "      <th>joystickX</th>\n",
       "    </tr>\n",
       "    <tr>\n",
       "      <th>datetimeNew</th>\n",
       "      <th></th>\n",
       "      <th></th>\n",
       "      <th></th>\n",
       "      <th></th>\n",
       "    </tr>\n",
       "  </thead>\n",
       "  <tbody>\n",
       "    <tr>\n",
       "      <th>1970-01-01 00:00:00.508</th>\n",
       "      <td>0.508</td>\n",
       "      <td>-14.191589</td>\n",
       "      <td>9.827589</td>\n",
       "      <td>0.0</td>\n",
       "    </tr>\n",
       "    <tr>\n",
       "      <th>1970-01-01 00:00:00.509</th>\n",
       "      <td>0.509</td>\n",
       "      <td>-14.186096</td>\n",
       "      <td>9.849047</td>\n",
       "      <td>0.0</td>\n",
       "    </tr>\n",
       "    <tr>\n",
       "      <th>1970-01-01 00:00:00.510</th>\n",
       "      <td>0.510</td>\n",
       "      <td>-14.180603</td>\n",
       "      <td>9.870504</td>\n",
       "      <td>0.0</td>\n",
       "    </tr>\n",
       "    <tr>\n",
       "      <th>1970-01-01 00:00:00.511</th>\n",
       "      <td>0.511</td>\n",
       "      <td>-14.175110</td>\n",
       "      <td>9.891962</td>\n",
       "      <td>0.0</td>\n",
       "    </tr>\n",
       "    <tr>\n",
       "      <th>1970-01-01 00:00:00.512</th>\n",
       "      <td>0.512</td>\n",
       "      <td>-14.169617</td>\n",
       "      <td>9.913419</td>\n",
       "      <td>0.0</td>\n",
       "    </tr>\n",
       "    <tr>\n",
       "      <th>...</th>\n",
       "      <td>...</td>\n",
       "      <td>...</td>\n",
       "      <td>...</td>\n",
       "      <td>...</td>\n",
       "    </tr>\n",
       "    <tr>\n",
       "      <th>1970-01-01 00:00:00.993</th>\n",
       "      <td>0.993</td>\n",
       "      <td>-9.074097</td>\n",
       "      <td>15.004239</td>\n",
       "      <td>0.0</td>\n",
       "    </tr>\n",
       "    <tr>\n",
       "      <th>1970-01-01 00:00:00.994</th>\n",
       "      <td>0.994</td>\n",
       "      <td>-9.061890</td>\n",
       "      <td>15.004239</td>\n",
       "      <td>0.0</td>\n",
       "    </tr>\n",
       "    <tr>\n",
       "      <th>1970-01-01 00:00:00.995</th>\n",
       "      <td>0.995</td>\n",
       "      <td>-9.049683</td>\n",
       "      <td>15.004239</td>\n",
       "      <td>0.0</td>\n",
       "    </tr>\n",
       "    <tr>\n",
       "      <th>1970-01-01 00:00:00.996</th>\n",
       "      <td>0.996</td>\n",
       "      <td>-9.037476</td>\n",
       "      <td>15.004239</td>\n",
       "      <td>0.0</td>\n",
       "    </tr>\n",
       "    <tr>\n",
       "      <th>1970-01-01 00:00:00.997</th>\n",
       "      <td>0.997</td>\n",
       "      <td>-9.025269</td>\n",
       "      <td>15.004239</td>\n",
       "      <td>0.0</td>\n",
       "    </tr>\n",
       "  </tbody>\n",
       "</table>\n",
       "<p>490 rows × 4 columns</p>\n",
       "</div>"
      ],
      "text/plain": [
       "                         seconds  currentPosRoll  currentVelRoll  joystickX\n",
       "datetimeNew                                                                \n",
       "1970-01-01 00:00:00.508    0.508      -14.191589        9.827589        0.0\n",
       "1970-01-01 00:00:00.509    0.509      -14.186096        9.849047        0.0\n",
       "1970-01-01 00:00:00.510    0.510      -14.180603        9.870504        0.0\n",
       "1970-01-01 00:00:00.511    0.511      -14.175110        9.891962        0.0\n",
       "1970-01-01 00:00:00.512    0.512      -14.169617        9.913419        0.0\n",
       "...                          ...             ...             ...        ...\n",
       "1970-01-01 00:00:00.993    0.993       -9.074097       15.004239        0.0\n",
       "1970-01-01 00:00:00.994    0.994       -9.061890       15.004239        0.0\n",
       "1970-01-01 00:00:00.995    0.995       -9.049683       15.004239        0.0\n",
       "1970-01-01 00:00:00.996    0.996       -9.037476       15.004239        0.0\n",
       "1970-01-01 00:00:00.997    0.997       -9.025269       15.004239        0.0\n",
       "\n",
       "[490 rows x 4 columns]"
      ]
     },
     "execution_count": 177,
     "metadata": {},
     "output_type": "execute_result"
    }
   ],
   "source": [
    "xx = data_needed[(data_needed['peopleTrialKey'] == '1_co_P13/12_600back_Block3_trial_012.csv')]\n",
    "temp_df = xx[(xx.seconds >= 0.5)\\\n",
    "                           & (xx.seconds <= 1.0)]\n",
    "temp_df = temp_df[['seconds', 'currentPosRoll','currentVelRoll','joystickX']]\n",
    "temp_df = temp_df.resample('0.001S').asfreq().interpolate(method='linear')\n",
    "temp_df"
   ]
  },
  {
   "cell_type": "code",
   "execution_count": 197,
   "metadata": {},
   "outputs": [
    {
     "data": {
      "text/plain": [
       "(481, 4)"
      ]
     },
     "execution_count": 197,
     "metadata": {},
     "output_type": "execute_result"
    }
   ],
   "source": [
    "noncrash_feature_label_300ms_500ms_test.features.iloc[12].shape\n"
   ]
  },
  {
   "cell_type": "code",
   "execution_count": 195,
   "metadata": {},
   "outputs": [
    {
     "data": {
      "text/html": [
       "<div>\n",
       "<style scoped>\n",
       "    .dataframe tbody tr th:only-of-type {\n",
       "        vertical-align: middle;\n",
       "    }\n",
       "\n",
       "    .dataframe tbody tr th {\n",
       "        vertical-align: top;\n",
       "    }\n",
       "\n",
       "    .dataframe thead th {\n",
       "        text-align: right;\n",
       "    }\n",
       "</style>\n",
       "<table border=\"1\" class=\"dataframe\">\n",
       "  <thead>\n",
       "    <tr style=\"text-align: right;\">\n",
       "      <th></th>\n",
       "      <th>features</th>\n",
       "      <th>label</th>\n",
       "    </tr>\n",
       "  </thead>\n",
       "  <tbody>\n",
       "    <tr>\n",
       "      <th>0</th>\n",
       "      <td>[[0.304, -15.0430297851563, 5.536065, -0.0], [...</td>\n",
       "      <td>0</td>\n",
       "    </tr>\n",
       "    <tr>\n",
       "      <th>0</th>\n",
       "      <td>[[0.615, -13.4225463867188, 12.187927, -0.0], ...</td>\n",
       "      <td>0</td>\n",
       "    </tr>\n",
       "    <tr>\n",
       "      <th>0</th>\n",
       "      <td>[[0.933, -9.89593505859375, 15.004239000000002...</td>\n",
       "      <td>0</td>\n",
       "    </tr>\n",
       "    <tr>\n",
       "      <th>0</th>\n",
       "      <td>[[1.238, -5.6304931640625, 11.249156, -0.0], [...</td>\n",
       "      <td>0</td>\n",
       "    </tr>\n",
       "    <tr>\n",
       "      <th>0</th>\n",
       "      <td>[[1.543, -2.25494384765625, 4.5972940000000015...</td>\n",
       "      <td>0</td>\n",
       "    </tr>\n",
       "    <tr>\n",
       "      <th>...</th>\n",
       "      <td>...</td>\n",
       "      <td>...</td>\n",
       "    </tr>\n",
       "    <tr>\n",
       "      <th>0</th>\n",
       "      <td>[[102.012, 32.4041748046875, 14.746747, -0.626...</td>\n",
       "      <td>0</td>\n",
       "    </tr>\n",
       "    <tr>\n",
       "      <th>0</th>\n",
       "      <td>[[102.324, 37.4221801757813, -5.57898000000000...</td>\n",
       "      <td>0</td>\n",
       "    </tr>\n",
       "    <tr>\n",
       "      <th>0</th>\n",
       "      <td>[[102.637, 37.1200561523438, -7.896403, -0.436...</td>\n",
       "      <td>0</td>\n",
       "    </tr>\n",
       "    <tr>\n",
       "      <th>0</th>\n",
       "      <td>[[102.954, 34.9200439453125, 4.479278, -0.0158...</td>\n",
       "      <td>0</td>\n",
       "    </tr>\n",
       "    <tr>\n",
       "      <th>0</th>\n",
       "      <td>[[103.267, 37.5897216796875, 35.925416, -0.492...</td>\n",
       "      <td>0</td>\n",
       "    </tr>\n",
       "  </tbody>\n",
       "</table>\n",
       "<p>897 rows × 2 columns</p>\n",
       "</div>"
      ],
      "text/plain": [
       "                                             features  label\n",
       "0   [[0.304, -15.0430297851563, 5.536065, -0.0], [...      0\n",
       "0   [[0.615, -13.4225463867188, 12.187927, -0.0], ...      0\n",
       "0   [[0.933, -9.89593505859375, 15.004239000000002...      0\n",
       "0   [[1.238, -5.6304931640625, 11.249156, -0.0], [...      0\n",
       "0   [[1.543, -2.25494384765625, 4.5972940000000015...      0\n",
       "..                                                ...    ...\n",
       "0   [[102.012, 32.4041748046875, 14.746747, -0.626...      0\n",
       "0   [[102.324, 37.4221801757813, -5.57898000000000...      0\n",
       "0   [[102.637, 37.1200561523438, -7.896403, -0.436...      0\n",
       "0   [[102.954, 34.9200439453125, 4.479278, -0.0158...      0\n",
       "0   [[103.267, 37.5897216796875, 35.925416, -0.492...      0\n",
       "\n",
       "[897 rows x 2 columns]"
      ]
     },
     "execution_count": 195,
     "metadata": {},
     "output_type": "execute_result"
    }
   ],
   "source": [
    "noncrash_feature_label_300ms_500ms_test"
   ]
  },
  {
   "cell_type": "code",
   "execution_count": 196,
   "metadata": {},
   "outputs": [
    {
     "data": {
      "text/html": [
       "<div>\n",
       "<style scoped>\n",
       "    .dataframe tbody tr th:only-of-type {\n",
       "        vertical-align: middle;\n",
       "    }\n",
       "\n",
       "    .dataframe tbody tr th {\n",
       "        vertical-align: top;\n",
       "    }\n",
       "\n",
       "    .dataframe thead th {\n",
       "        text-align: right;\n",
       "    }\n",
       "</style>\n",
       "<table border=\"1\" class=\"dataframe\">\n",
       "  <thead>\n",
       "    <tr style=\"text-align: right;\">\n",
       "      <th></th>\n",
       "      <th>features</th>\n",
       "      <th>label</th>\n",
       "    </tr>\n",
       "  </thead>\n",
       "  <tbody>\n",
       "    <tr>\n",
       "      <th>0</th>\n",
       "      <td>[[0.304, -15.0430297851563, 5.536065, -0.0], [...</td>\n",
       "      <td>0</td>\n",
       "    </tr>\n",
       "    <tr>\n",
       "      <th>1</th>\n",
       "      <td>[[0.615, -13.4225463867188, 12.187927, -0.0], ...</td>\n",
       "      <td>0</td>\n",
       "    </tr>\n",
       "    <tr>\n",
       "      <th>2</th>\n",
       "      <td>[[0.933, -9.89593505859375, 15.004239000000002...</td>\n",
       "      <td>0</td>\n",
       "    </tr>\n",
       "    <tr>\n",
       "      <th>3</th>\n",
       "      <td>[[1.238, -5.6304931640625, 11.249156, -0.0], [...</td>\n",
       "      <td>0</td>\n",
       "    </tr>\n",
       "    <tr>\n",
       "      <th>4</th>\n",
       "      <td>[[1.543, -2.25494384765625, 4.5972940000000015...</td>\n",
       "      <td>0</td>\n",
       "    </tr>\n",
       "    <tr>\n",
       "      <th>...</th>\n",
       "      <td>...</td>\n",
       "      <td>...</td>\n",
       "    </tr>\n",
       "    <tr>\n",
       "      <th>892</th>\n",
       "      <td>[[102.012, 32.4041748046875, 14.746747, -0.626...</td>\n",
       "      <td>0</td>\n",
       "    </tr>\n",
       "    <tr>\n",
       "      <th>893</th>\n",
       "      <td>[[102.324, 37.4221801757813, -5.57898000000000...</td>\n",
       "      <td>0</td>\n",
       "    </tr>\n",
       "    <tr>\n",
       "      <th>894</th>\n",
       "      <td>[[102.637, 37.1200561523438, -7.896403, -0.436...</td>\n",
       "      <td>0</td>\n",
       "    </tr>\n",
       "    <tr>\n",
       "      <th>895</th>\n",
       "      <td>[[102.954, 34.9200439453125, 4.479278, -0.0158...</td>\n",
       "      <td>0</td>\n",
       "    </tr>\n",
       "    <tr>\n",
       "      <th>896</th>\n",
       "      <td>[[103.267, 37.5897216796875, 35.925416, -0.492...</td>\n",
       "      <td>0</td>\n",
       "    </tr>\n",
       "  </tbody>\n",
       "</table>\n",
       "<p>897 rows × 2 columns</p>\n",
       "</div>"
      ],
      "text/plain": [
       "                                              features  label\n",
       "0    [[0.304, -15.0430297851563, 5.536065, -0.0], [...      0\n",
       "1    [[0.615, -13.4225463867188, 12.187927, -0.0], ...      0\n",
       "2    [[0.933, -9.89593505859375, 15.004239000000002...      0\n",
       "3    [[1.238, -5.6304931640625, 11.249156, -0.0], [...      0\n",
       "4    [[1.543, -2.25494384765625, 4.5972940000000015...      0\n",
       "..                                                 ...    ...\n",
       "892  [[102.012, 32.4041748046875, 14.746747, -0.626...      0\n",
       "893  [[102.324, 37.4221801757813, -5.57898000000000...      0\n",
       "894  [[102.637, 37.1200561523438, -7.896403, -0.436...      0\n",
       "895  [[102.954, 34.9200439453125, 4.479278, -0.0158...      0\n",
       "896  [[103.267, 37.5897216796875, 35.925416, -0.492...      0\n",
       "\n",
       "[897 rows x 2 columns]"
      ]
     },
     "execution_count": 196,
     "metadata": {},
     "output_type": "execute_result"
    }
   ],
   "source": [
    "test = []\n",
    "for i in range(len(noncrash_feature_label_300ms_500ms_test)):\n",
    "    if noncrash_feature_label_300ms_500ms_test.features.iloc[i].shape[0] > 50:\n",
    "        tmp_df = noncrash_feature_label_300ms_500ms_test.iloc[i:i+1, :]\n",
    "    test.append(tmp_df)\n",
    "test_all = pd.concat(test, ignore_index=True)\n",
    "test_all"
   ]
  },
  {
   "cell_type": "code",
   "execution_count": 74,
   "metadata": {},
   "outputs": [],
   "source": [
    "test_all.to_csv('50over_sampling_rate_example.csv')"
   ]
  },
  {
   "cell_type": "code",
   "execution_count": 150,
   "metadata": {},
   "outputs": [
    {
     "data": {
      "text/html": [
       "<div>\n",
       "<style scoped>\n",
       "    .dataframe tbody tr th:only-of-type {\n",
       "        vertical-align: middle;\n",
       "    }\n",
       "\n",
       "    .dataframe tbody tr th {\n",
       "        vertical-align: top;\n",
       "    }\n",
       "\n",
       "    .dataframe thead th {\n",
       "        text-align: right;\n",
       "    }\n",
       "</style>\n",
       "<table border=\"1\" class=\"dataframe\">\n",
       "  <thead>\n",
       "    <tr style=\"text-align: right;\">\n",
       "      <th></th>\n",
       "      <th>features</th>\n",
       "      <th>label</th>\n",
       "      <th>Key</th>\n",
       "      <th>seconds_start</th>\n",
       "      <th>seconds_end</th>\n",
       "    </tr>\n",
       "  </thead>\n",
       "  <tbody>\n",
       "    <tr>\n",
       "      <th>0</th>\n",
       "      <td>[[0.304, -15.0430297851563, 5.536065, 0.0], [0...</td>\n",
       "      <td>0</td>\n",
       "      <td>1_co_P13/12_600back_Block3_trial_012.csv</td>\n",
       "      <td>0.304</td>\n",
       "      <td>0.803</td>\n",
       "    </tr>\n",
       "    <tr>\n",
       "      <th>1</th>\n",
       "      <td>[[0.615, -13.4225463867188, 12.187927, 0.0], [...</td>\n",
       "      <td>0</td>\n",
       "      <td>1_co_P13/12_600back_Block3_trial_012.csv</td>\n",
       "      <td>0.615</td>\n",
       "      <td>1.112</td>\n",
       "    </tr>\n",
       "    <tr>\n",
       "      <th>2</th>\n",
       "      <td>[[0.933, -9.89593505859375, 15.004239000000002...</td>\n",
       "      <td>0</td>\n",
       "      <td>1_co_P13/12_600back_Block3_trial_012.csv</td>\n",
       "      <td>0.933</td>\n",
       "      <td>1.422</td>\n",
       "    </tr>\n",
       "    <tr>\n",
       "      <th>3</th>\n",
       "      <td>[[1.238, -5.6304931640625, 11.249156, 0.0], [1...</td>\n",
       "      <td>0</td>\n",
       "      <td>1_co_P13/12_600back_Block3_trial_012.csv</td>\n",
       "      <td>1.238</td>\n",
       "      <td>1.730</td>\n",
       "    </tr>\n",
       "    <tr>\n",
       "      <th>4</th>\n",
       "      <td>[[1.238, -5.6304931640625, 11.249156, 0.0], [1...</td>\n",
       "      <td>0</td>\n",
       "      <td>1_co_P13/12_600back_Block3_trial_012.csv</td>\n",
       "      <td>1.238</td>\n",
       "      <td>1.730</td>\n",
       "    </tr>\n",
       "    <tr>\n",
       "      <th>...</th>\n",
       "      <td>...</td>\n",
       "      <td>...</td>\n",
       "      <td>...</td>\n",
       "      <td>...</td>\n",
       "      <td>...</td>\n",
       "    </tr>\n",
       "    <tr>\n",
       "      <th>892</th>\n",
       "      <td>[[96.754, -6.40228271484375, 12.02163, 0.0], [...</td>\n",
       "      <td>0</td>\n",
       "      <td>1_co_P13/06_600back_Block2_trial_006.csv</td>\n",
       "      <td>96.754</td>\n",
       "      <td>97.251</td>\n",
       "    </tr>\n",
       "    <tr>\n",
       "      <th>893</th>\n",
       "      <td>[[96.754, -6.40228271484375, 12.02163, 0.0], [...</td>\n",
       "      <td>0</td>\n",
       "      <td>1_co_P13/06_600back_Block2_trial_006.csv</td>\n",
       "      <td>96.754</td>\n",
       "      <td>97.251</td>\n",
       "    </tr>\n",
       "    <tr>\n",
       "      <th>894</th>\n",
       "      <td>[[96.754, -6.40228271484375, 12.02163, 0.0], [...</td>\n",
       "      <td>0</td>\n",
       "      <td>1_co_P13/06_600back_Block2_trial_006.csv</td>\n",
       "      <td>96.754</td>\n",
       "      <td>97.251</td>\n",
       "    </tr>\n",
       "    <tr>\n",
       "      <th>895</th>\n",
       "      <td>[[96.754, -6.40228271484375, 12.02163, 0.0], [...</td>\n",
       "      <td>0</td>\n",
       "      <td>1_co_P13/06_600back_Block2_trial_006.csv</td>\n",
       "      <td>96.754</td>\n",
       "      <td>97.251</td>\n",
       "    </tr>\n",
       "    <tr>\n",
       "      <th>896</th>\n",
       "      <td>[[96.754, -6.40228271484375, 12.02163, 0.0], [...</td>\n",
       "      <td>0</td>\n",
       "      <td>1_co_P13/06_600back_Block2_trial_006.csv</td>\n",
       "      <td>96.754</td>\n",
       "      <td>97.251</td>\n",
       "    </tr>\n",
       "  </tbody>\n",
       "</table>\n",
       "<p>897 rows × 5 columns</p>\n",
       "</div>"
      ],
      "text/plain": [
       "                                              features  label  \\\n",
       "0    [[0.304, -15.0430297851563, 5.536065, 0.0], [0...      0   \n",
       "1    [[0.615, -13.4225463867188, 12.187927, 0.0], [...      0   \n",
       "2    [[0.933, -9.89593505859375, 15.004239000000002...      0   \n",
       "3    [[1.238, -5.6304931640625, 11.249156, 0.0], [1...      0   \n",
       "4    [[1.238, -5.6304931640625, 11.249156, 0.0], [1...      0   \n",
       "..                                                 ...    ...   \n",
       "892  [[96.754, -6.40228271484375, 12.02163, 0.0], [...      0   \n",
       "893  [[96.754, -6.40228271484375, 12.02163, 0.0], [...      0   \n",
       "894  [[96.754, -6.40228271484375, 12.02163, 0.0], [...      0   \n",
       "895  [[96.754, -6.40228271484375, 12.02163, 0.0], [...      0   \n",
       "896  [[96.754, -6.40228271484375, 12.02163, 0.0], [...      0   \n",
       "\n",
       "                                          Key  seconds_start  seconds_end  \n",
       "0    1_co_P13/12_600back_Block3_trial_012.csv          0.304        0.803  \n",
       "1    1_co_P13/12_600back_Block3_trial_012.csv          0.615        1.112  \n",
       "2    1_co_P13/12_600back_Block3_trial_012.csv          0.933        1.422  \n",
       "3    1_co_P13/12_600back_Block3_trial_012.csv          1.238        1.730  \n",
       "4    1_co_P13/12_600back_Block3_trial_012.csv          1.238        1.730  \n",
       "..                                        ...            ...          ...  \n",
       "892  1_co_P13/06_600back_Block2_trial_006.csv         96.754       97.251  \n",
       "893  1_co_P13/06_600back_Block2_trial_006.csv         96.754       97.251  \n",
       "894  1_co_P13/06_600back_Block2_trial_006.csv         96.754       97.251  \n",
       "895  1_co_P13/06_600back_Block2_trial_006.csv         96.754       97.251  \n",
       "896  1_co_P13/06_600back_Block2_trial_006.csv         96.754       97.251  \n",
       "\n",
       "[897 rows x 5 columns]"
      ]
     },
     "execution_count": 150,
     "metadata": {},
     "output_type": "execute_result"
    }
   ],
   "source": [
    "test_all"
   ]
  },
  {
   "cell_type": "code",
   "execution_count": null,
   "metadata": {},
   "outputs": [],
   "source": []
  },
  {
   "cell_type": "code",
   "execution_count": null,
   "metadata": {},
   "outputs": [],
   "source": []
  },
  {
   "cell_type": "code",
   "execution_count": 2,
   "metadata": {},
   "outputs": [
    {
     "data": {
      "text/html": [
       "<div>\n",
       "<style scoped>\n",
       "    .dataframe tbody tr th:only-of-type {\n",
       "        vertical-align: middle;\n",
       "    }\n",
       "\n",
       "    .dataframe tbody tr th {\n",
       "        vertical-align: top;\n",
       "    }\n",
       "\n",
       "    .dataframe thead th {\n",
       "        text-align: right;\n",
       "    }\n",
       "</style>\n",
       "<table border=\"1\" class=\"dataframe\">\n",
       "  <thead>\n",
       "    <tr style=\"text-align: right;\">\n",
       "      <th></th>\n",
       "      <th>features</th>\n",
       "      <th>label</th>\n",
       "    </tr>\n",
       "  </thead>\n",
       "  <tbody>\n",
       "    <tr>\n",
       "      <th>0</th>\n",
       "      <td>[[0.304, -15.0430297851563, 5.536065, -0.0], [...</td>\n",
       "      <td>0</td>\n",
       "    </tr>\n",
       "    <tr>\n",
       "      <th>0</th>\n",
       "      <td>[[0.615, -13.4225463867188, 12.187927, -0.0], ...</td>\n",
       "      <td>0</td>\n",
       "    </tr>\n",
       "    <tr>\n",
       "      <th>0</th>\n",
       "      <td>[[0.933, -9.89593505859375, 15.004239000000002...</td>\n",
       "      <td>0</td>\n",
       "    </tr>\n",
       "    <tr>\n",
       "      <th>0</th>\n",
       "      <td>[[1.238, -5.6304931640625, 11.249156, -0.0], [...</td>\n",
       "      <td>0</td>\n",
       "    </tr>\n",
       "    <tr>\n",
       "      <th>0</th>\n",
       "      <td>[[1.543, -2.25494384765625, 4.5972940000000015...</td>\n",
       "      <td>0</td>\n",
       "    </tr>\n",
       "  </tbody>\n",
       "</table>\n",
       "</div>"
      ],
      "text/plain": [
       "                                            features  label\n",
       "0  [[0.304, -15.0430297851563, 5.536065, -0.0], [...      0\n",
       "0  [[0.615, -13.4225463867188, 12.187927, -0.0], ...      0\n",
       "0  [[0.933, -9.89593505859375, 15.004239000000002...      0\n",
       "0  [[1.238, -5.6304931640625, 11.249156, -0.0], [...      0\n",
       "0  [[1.543, -2.25494384765625, 4.5972940000000015...      0"
      ]
     },
     "execution_count": 2,
     "metadata": {},
     "output_type": "execute_result"
    }
   ],
   "source": [
    "# noncrash_feature_label_300ms_500ms.to_pickle('noncrash_feature_label_300ms_500ms')\n",
    "noncrash_feature_label_300ms_500ms = pd.read_pickle('noncrash_feature_label_300ms_500ms')\n",
    "noncrash_feature_label_300ms_500ms.head()"
   ]
  },
  {
   "cell_type": "code",
   "execution_count": 29,
   "metadata": {},
   "outputs": [
    {
     "data": {
      "text/plain": [
       "309792"
      ]
     },
     "execution_count": 29,
     "metadata": {},
     "output_type": "execute_result"
    }
   ],
   "source": [
    "len(noncrash_feature_label_300ms_500ms)"
   ]
  },
  {
   "cell_type": "code",
   "execution_count": 33,
   "metadata": {},
   "outputs": [
    {
     "data": {
      "text/plain": [
       "count      309792\n",
       "unique         45\n",
       "top       (24, 4)\n",
       "freq       138468\n",
       "dtype: object"
      ]
     },
     "execution_count": 33,
     "metadata": {},
     "output_type": "execute_result"
    }
   ],
   "source": [
    "len_distribution_noncrash = []\n",
    "for i in range(len(noncrash_feature_label_300ms_500ms)):\n",
    "    len_distribution_noncrash.append(noncrash_feature_label_300ms_500ms.features.iloc[i].shape)\n",
    "tmp_noncrash = pd.Series(len_distribution_noncrash)\n",
    "tmp_noncrash.describe()"
   ]
  },
  {
   "cell_type": "code",
   "execution_count": 36,
   "metadata": {},
   "outputs": [
    {
     "data": {
      "image/png": "[encoded data removed]",
      "text/plain": [
       "<Figure size 576x288 with 1 Axes>"
      ]
     },
     "metadata": {
      "needs_background": "light"
     },
     "output_type": "display_data"
    }
   ],
   "source": [
    "unique_pair = set(tmp_noncrash)\n",
    "num_pair_non = {}\n",
    "for i in unique_pair:\n",
    "    num_pair_non[i[0]]= sum((tmp_noncrash.isin([i])))\n",
    "\n",
    "import matplotlib.pylab as plt\n",
    "lists = sorted(num_pair_non.items()) # sorted by key, return a list of tuples\n",
    "x, y = zip(*lists) # unpack a list of pairs into two tuples\n",
    "\n",
    "fig = plt.figure(figsize=(8,4))\n",
    "plt.plot(x, y)\n",
    "plt.xlabel('Series length')\n",
    "plt.ylabel('Total number of series') \n",
    "plt.show() ##### why this happen sampling rate 50 - 60 "
   ]
  },
  {
   "cell_type": "code",
   "execution_count": 15,
   "metadata": {},
   "outputs": [
    {
     "data": {
      "text/html": [
       "<div>\n",
       "<style scoped>\n",
       "    .dataframe tbody tr th:only-of-type {\n",
       "        vertical-align: middle;\n",
       "    }\n",
       "\n",
       "    .dataframe tbody tr th {\n",
       "        vertical-align: top;\n",
       "    }\n",
       "\n",
       "    .dataframe thead th {\n",
       "        text-align: right;\n",
       "    }\n",
       "</style>\n",
       "<table border=\"1\" class=\"dataframe\">\n",
       "  <thead>\n",
       "    <tr style=\"text-align: right;\">\n",
       "      <th></th>\n",
       "      <th>features</th>\n",
       "      <th>label</th>\n",
       "    </tr>\n",
       "  </thead>\n",
       "  <tbody>\n",
       "    <tr>\n",
       "      <th>0</th>\n",
       "      <td>[[0.304, -15.0430297851563, 5.536065, -0.0], [...</td>\n",
       "      <td>0</td>\n",
       "    </tr>\n",
       "    <tr>\n",
       "      <th>0</th>\n",
       "      <td>[[0.615, -13.4225463867188, 12.187927, -0.0], ...</td>\n",
       "      <td>0</td>\n",
       "    </tr>\n",
       "    <tr>\n",
       "      <th>0</th>\n",
       "      <td>[[0.933, -9.89593505859375, 15.004239000000002...</td>\n",
       "      <td>0</td>\n",
       "    </tr>\n",
       "    <tr>\n",
       "      <th>0</th>\n",
       "      <td>[[1.238, -5.6304931640625, 11.249156, -0.0], [...</td>\n",
       "      <td>0</td>\n",
       "    </tr>\n",
       "    <tr>\n",
       "      <th>0</th>\n",
       "      <td>[[1.543, -2.25494384765625, 4.5972940000000015...</td>\n",
       "      <td>0</td>\n",
       "    </tr>\n",
       "  </tbody>\n",
       "</table>\n",
       "</div>"
      ],
      "text/plain": [
       "                                            features  label\n",
       "0  [[0.304, -15.0430297851563, 5.536065, -0.0], [...      0\n",
       "0  [[0.615, -13.4225463867188, 12.187927, -0.0], ...      0\n",
       "0  [[0.933, -9.89593505859375, 15.004239000000002...      0\n",
       "0  [[1.238, -5.6304931640625, 11.249156, -0.0], [...      0\n",
       "0  [[1.543, -2.25494384765625, 4.5972940000000015...      0"
      ]
     },
     "execution_count": 15,
     "metadata": {},
     "output_type": "execute_result"
    }
   ],
   "source": [
    "noncrash_feature_label_300ms_500ms.head()"
   ]
  },
  {
   "cell_type": "code",
   "execution_count": null,
   "metadata": {},
   "outputs": [],
   "source": [
    "for i in range(len(noncrash_feature_label_300ms_500ms)):\n",
    "    noncrash_feature_label_300ms_500ms[noncrash_feature_label_300ms_500ms.features.iloc[i].shape[0]]"
   ]
  },
  {
   "cell_type": "code",
   "execution_count": 18,
   "metadata": {},
   "outputs": [
    {
     "data": {
      "text/plain": [
       "55"
      ]
     },
     "execution_count": 18,
     "metadata": {},
     "output_type": "execute_result"
    }
   ],
   "source": [
    "noncrash_feature_label_300ms_500ms.features.iloc[1].shape[0]"
   ]
  },
  {
   "cell_type": "code",
   "execution_count": null,
   "metadata": {},
   "outputs": [],
   "source": []
  },
  {
   "cell_type": "code",
   "execution_count": null,
   "metadata": {},
   "outputs": [],
   "source": []
  },
  {
   "cell_type": "code",
   "execution_count": null,
   "metadata": {},
   "outputs": [],
   "source": []
  },
  {
   "cell_type": "code",
   "execution_count": null,
   "metadata": {},
   "outputs": [],
   "source": []
  },
  {
   "cell_type": "code",
   "execution_count": null,
   "metadata": {},
   "outputs": [],
   "source": []
  },
  {
   "cell_type": "markdown",
   "metadata": {},
   "source": [
    "### First try the fixed time series length = 24 for both crash/noncrash event"
   ]
  },
  {
   "cell_type": "code",
   "execution_count": 145,
   "metadata": {},
   "outputs": [],
   "source": [
    "def find_length(data):\n",
    "    return data.shape[0]"
   ]
  },
  {
   "cell_type": "code",
   "execution_count": 146,
   "metadata": {},
   "outputs": [
    {
     "data": {
      "text/plain": [
       "4432"
      ]
     },
     "execution_count": 146,
     "metadata": {},
     "output_type": "execute_result"
    }
   ],
   "source": [
    "##### find the crash events with 24 time series length\n",
    "crash_feature_label_300ms_500ms['series_length'] = crash_feature_label_300ms_500ms['features'].apply(find_length)\n",
    "\n",
    "crash_fixed_length  = crash_feature_label_300ms_500ms[crash_feature_label_300ms_500ms.series_length==24]\n",
    "len(crash_fixed_length)"
   ]
  },
  {
   "cell_type": "code",
   "execution_count": 147,
   "metadata": {},
   "outputs": [
    {
     "data": {
      "text/plain": [
       "138468"
      ]
     },
     "execution_count": 147,
     "metadata": {},
     "output_type": "execute_result"
    }
   ],
   "source": [
    "##### find the noncrash events with 24 time series length\n",
    "noncrash_feature_label_300ms_500ms['series_length'] = noncrash_feature_label_300ms_500ms['features'].apply(find_length)\n",
    "noncrash_fixed_length  = noncrash_feature_label_300ms_500ms[noncrash_feature_label_300ms_500ms.series_length==24]\n",
    "len(noncrash_fixed_length)"
   ]
  },
  {
   "cell_type": "code",
   "execution_count": 6,
   "metadata": {},
   "outputs": [
    {
     "data": {
      "text/html": [
       "<div>\n",
       "<style scoped>\n",
       "    .dataframe tbody tr th:only-of-type {\n",
       "        vertical-align: middle;\n",
       "    }\n",
       "\n",
       "    .dataframe tbody tr th {\n",
       "        vertical-align: top;\n",
       "    }\n",
       "\n",
       "    .dataframe thead th {\n",
       "        text-align: right;\n",
       "    }\n",
       "</style>\n",
       "<table border=\"1\" class=\"dataframe\">\n",
       "  <thead>\n",
       "    <tr style=\"text-align: right;\">\n",
       "      <th></th>\n",
       "      <th>features</th>\n",
       "      <th>label</th>\n",
       "      <th>series_length</th>\n",
       "    </tr>\n",
       "  </thead>\n",
       "  <tbody>\n",
       "    <tr>\n",
       "      <th>0</th>\n",
       "      <td>[[34.298, -33.7417602539063, -39.396185, -0.64...</td>\n",
       "      <td>1</td>\n",
       "      <td>24</td>\n",
       "    </tr>\n",
       "    <tr>\n",
       "      <th>0</th>\n",
       "      <td>[[70.438, -34.5712280273438, -29.26819, -0.054...</td>\n",
       "      <td>1</td>\n",
       "      <td>24</td>\n",
       "    </tr>\n",
       "    <tr>\n",
       "      <th>0</th>\n",
       "      <td>[[86.681, 48.592529296875, -2.875321, 0.547577...</td>\n",
       "      <td>1</td>\n",
       "      <td>24</td>\n",
       "    </tr>\n",
       "    <tr>\n",
       "      <th>0</th>\n",
       "      <td>[[96.783, -36.5240478515625, -12.187927, -0.32...</td>\n",
       "      <td>1</td>\n",
       "      <td>24</td>\n",
       "    </tr>\n",
       "    <tr>\n",
       "      <th>0</th>\n",
       "      <td>[[52.792, -50.5014038085938, 4.109134, -0.5312...</td>\n",
       "      <td>1</td>\n",
       "      <td>24</td>\n",
       "    </tr>\n",
       "  </tbody>\n",
       "</table>\n",
       "</div>"
      ],
      "text/plain": [
       "                                            features label  series_length\n",
       "0  [[34.298, -33.7417602539063, -39.396185, -0.64...     1             24\n",
       "0  [[70.438, -34.5712280273438, -29.26819, -0.054...     1             24\n",
       "0  [[86.681, 48.592529296875, -2.875321, 0.547577...     1             24\n",
       "0  [[96.783, -36.5240478515625, -12.187927, -0.32...     1             24\n",
       "0  [[52.792, -50.5014038085938, 4.109134, -0.5312...     1             24"
      ]
     },
     "execution_count": 6,
     "metadata": {},
     "output_type": "execute_result"
    }
   ],
   "source": [
    "##### concat both data sets for training\n",
    "final_data = pd.concat([crash_fixed_length, noncrash_fixed_length])\n",
    "final_data['label'] = final_data['label'].apply(str) \n",
    "# final_data['label'] = pd.get_dummies(final_data['label']).values\n",
    "final_data.head()"
   ]
  },
  {
   "cell_type": "markdown",
   "metadata": {},
   "source": [
    "Since we found the data is imbalanced, so I first decided to sample among noncrash event "
   ]
  },
  {
   "cell_type": "code",
   "execution_count": 148,
   "metadata": {},
   "outputs": [
    {
     "data": {
      "text/plain": [
       "8864"
      ]
     },
     "execution_count": 148,
     "metadata": {},
     "output_type": "execute_result"
    }
   ],
   "source": [
    "df1 = final_data[final_data.label=='1']\n",
    "df2 = final_data[final_data.label=='0'].sample(n=len(df1), random_state=1)\n",
    "df3 = pd.concat([df1, df2])\n",
    "len(df3)"
   ]
  },
  {
   "cell_type": "code",
   "execution_count": 149,
   "metadata": {},
   "outputs": [
    {
     "data": {
      "text/plain": [
       "(8864, 24, 4)"
      ]
     },
     "execution_count": 149,
     "metadata": {},
     "output_type": "execute_result"
    }
   ],
   "source": [
    "##### train and test data sets split\n",
    "from sklearn.model_selection import train_test_split\n",
    "X = df3.features\n",
    "X = np.array([np.vstack(i) for i in X])\n",
    "y = np.array(df3.label)\n",
    "X.shape"
   ]
  },
  {
   "cell_type": "code",
   "execution_count": null,
   "metadata": {},
   "outputs": [],
   "source": [
    "# Y = pd.get_dummies(final_data['label']).values\n",
    "# print('Shape of label tensor:', Y.shape)"
   ]
  },
  {
   "cell_type": "markdown",
   "metadata": {},
   "source": [
    "### Model"
   ]
  },
  {
   "cell_type": "code",
   "execution_count": 15,
   "metadata": {},
   "outputs": [],
   "source": [
    "from keras.preprocessing import sequence\n",
    "import tensorflow as tf\n",
    "from keras.models import Sequential\n",
    "from keras.layers import Dense\n",
    "from keras.layers import LSTM\n",
    "import numpy as np\n",
    "import pandas as pd\n",
    "\n",
    "from keras.optimizers import Adam\n",
    "from keras.models import load_model\n",
    "from keras.callbacks import ModelCheckpoint"
   ]
  },
  {
   "cell_type": "code",
   "execution_count": 100,
   "metadata": {},
   "outputs": [
    {
     "data": {
      "text/plain": [
       "8864"
      ]
     },
     "execution_count": 100,
     "metadata": {},
     "output_type": "execute_result"
    }
   ],
   "source": [
    "df1 = final_data[final_data.label=='1']\n",
    "df2 = final_data[final_data.label=='0'].sample(n=4432, random_state=1)\n",
    "df3 = pd.concat([df1, df2])\n",
    "len(df3)"
   ]
  },
  {
   "cell_type": "code",
   "execution_count": 150,
   "metadata": {},
   "outputs": [
    {
     "data": {
      "text/plain": [
       "((7091, 24, 4), (7091,), (1773, 24, 4), (1773,))"
      ]
     },
     "execution_count": 150,
     "metadata": {},
     "output_type": "execute_result"
    }
   ],
   "source": [
    "from sklearn.model_selection import train_test_split\n",
    "X = df3.features\n",
    "X = np.array([np.vstack(i) for i in X])\n",
    "y = np.array(df3.label)\n",
    "X.shape\n",
    "\n",
    "X_train, X_test, y_train, y_test = train_test_split(X, y, test_size=0.2, random_state=42)\n",
    "\n",
    "# X_train, X_test, y_train, y_test = train_test_split(X, y, test_size=0.33, random_state=42)\n",
    "X_train.shape, y_train.shape, X_test.shape, y_test.shape"
   ]
  },
  {
   "cell_type": "code",
   "execution_count": 151,
   "metadata": {},
   "outputs": [
    {
     "data": {
      "text/plain": [
       "((1773, 24, 4), (1773, 1))"
      ]
     },
     "execution_count": 151,
     "metadata": {},
     "output_type": "execute_result"
    }
   ],
   "source": [
    "# X_train = np.array(X_train).reshape(len(X_train),1)\n",
    "y_train = np.array(y_train).reshape(len(y_train),1)\n",
    "# X_test = np.array(X_test).reshape(len(X_test),1)\n",
    "y_test = np.array(y_test).reshape(len(y_test),1)\n",
    "\n",
    "X_train = sequence.pad_sequences(X_train, maxlen=24, padding='post', dtype='float', truncating='post')\n",
    "# y_train = sequence.pad_sequences(y_train, maxlen=1, padding='post', dtype='float', truncating='post')\n",
    "X_test = sequence.pad_sequences(X_test, maxlen=24, padding='post', dtype='float', truncating='post')\n",
    "# y_test = sequence.pad_sequences(y_test, maxlen=1, padding='post', dtype='float', truncating='post')\n",
    "X_test.shape, y_test.shape"
   ]
  },
  {
   "cell_type": "code",
   "execution_count": 152,
   "metadata": {},
   "outputs": [],
   "source": [
    "from sklearn.preprocessing import OneHotEncoder\n",
    "enc = OneHotEncoder(handle_unknown='ignore', sparse=False)\n",
    "enc = enc.fit(y_train)\n",
    "y_train = enc.transform(y_train)\n",
    "y_test = enc.transform(y_test)"
   ]
  },
  {
   "cell_type": "code",
   "execution_count": 153,
   "metadata": {},
   "outputs": [],
   "source": [
    "### train model\n",
    "import keras\n",
    "model = keras.Sequential()\n",
    "model.add(\n",
    "    keras.layers.Bidirectional(\n",
    "      keras.layers.LSTM(\n",
    "          units=128,\n",
    "          input_shape=[X_train.shape[1], X_train.shape[2]]\n",
    "      )\n",
    "    )\n",
    ")\n",
    "model.add(keras.layers.Dropout(rate=0.5))\n",
    "model.add(keras.layers.Dense(units=128, activation='relu'))\n",
    "model.add(keras.layers.Dense(y_train.shape[1], activation='softmax'))\n",
    "model.compile(\n",
    "  loss='categorical_crossentropy',\n",
    "  optimizer='adam',\n",
    "  metrics=['categorical_accuracy']\n",
    ")"
   ]
  },
  {
   "cell_type": "code",
   "execution_count": 154,
   "metadata": {},
   "outputs": [
    {
     "name": "stdout",
     "output_type": "stream",
     "text": [
      "Epoch 1/15\n",
      "200/200 [==============================] - 6s 28ms/step - loss: 0.1840 - categorical_accuracy: 0.9278 - val_loss: 0.1061 - val_categorical_accuracy: 0.9634\n",
      "Epoch 2/15\n",
      "200/200 [==============================] - 5s 25ms/step - loss: 0.0802 - categorical_accuracy: 0.9740 - val_loss: 0.1013 - val_categorical_accuracy: 0.9676\n",
      "Epoch 3/15\n",
      "200/200 [==============================] - 5s 25ms/step - loss: 0.0639 - categorical_accuracy: 0.9790 - val_loss: 0.0953 - val_categorical_accuracy: 0.9704\n",
      "Epoch 4/15\n",
      "200/200 [==============================] - 5s 25ms/step - loss: 0.0452 - categorical_accuracy: 0.9848 - val_loss: 0.0708 - val_categorical_accuracy: 0.9775\n",
      "Epoch 5/15\n",
      "200/200 [==============================] - 5s 24ms/step - loss: 0.0464 - categorical_accuracy: 0.9845 - val_loss: 0.0455 - val_categorical_accuracy: 0.9831\n",
      "Epoch 6/15\n",
      "200/200 [==============================] - 5s 23ms/step - loss: 0.0307 - categorical_accuracy: 0.9911 - val_loss: 0.0400 - val_categorical_accuracy: 0.9873\n",
      "Epoch 7/15\n",
      "200/200 [==============================] - 5s 25ms/step - loss: 0.0340 - categorical_accuracy: 0.9871 - val_loss: 0.0270 - val_categorical_accuracy: 0.9901\n",
      "Epoch 8/15\n",
      "200/200 [==============================] - 5s 25ms/step - loss: 0.0268 - categorical_accuracy: 0.9934 - val_loss: 0.0309 - val_categorical_accuracy: 0.9873\n",
      "Epoch 9/15\n",
      "200/200 [==============================] - 5s 24ms/step - loss: 0.0263 - categorical_accuracy: 0.9906 - val_loss: 0.0340 - val_categorical_accuracy: 0.9901\n",
      "Epoch 10/15\n",
      "200/200 [==============================] - 5s 23ms/step - loss: 0.0219 - categorical_accuracy: 0.9931 - val_loss: 0.0387 - val_categorical_accuracy: 0.9887\n",
      "Epoch 11/15\n",
      "200/200 [==============================] - 5s 23ms/step - loss: 0.0311 - categorical_accuracy: 0.9901 - val_loss: 0.0377 - val_categorical_accuracy: 0.9859\n",
      "Epoch 12/15\n",
      "200/200 [==============================] - 4s 22ms/step - loss: 0.0203 - categorical_accuracy: 0.9933 - val_loss: 0.0280 - val_categorical_accuracy: 0.9901\n",
      "Epoch 13/15\n",
      "200/200 [==============================] - 4s 22ms/step - loss: 0.0204 - categorical_accuracy: 0.9937 - val_loss: 0.0371 - val_categorical_accuracy: 0.9901\n",
      "Epoch 14/15\n",
      "200/200 [==============================] - 4s 22ms/step - loss: 0.0228 - categorical_accuracy: 0.9926 - val_loss: 0.0371 - val_categorical_accuracy: 0.9845\n",
      "Epoch 15/15\n",
      "200/200 [==============================] - 5s 23ms/step - loss: 0.0179 - categorical_accuracy: 0.9942 - val_loss: 0.0402 - val_categorical_accuracy: 0.9873\n"
     ]
    }
   ],
   "source": [
    "class_weight ={\n",
    "    0:1,\n",
    "    1:10\n",
    "}\n",
    "history = model.fit(\n",
    "    X_train, y_train,\n",
    "    epochs=15,\n",
    "    batch_size=32,\n",
    "    validation_split=0.1,\n",
    "    shuffle=False,\n",
    "    class_weight = \n",
    ")"
   ]
  },
  {
   "cell_type": "code",
   "execution_count": 155,
   "metadata": {},
   "outputs": [
    {
     "name": "stdout",
     "output_type": "stream",
     "text": [
      "56/56 [==============================] - 0s 7ms/step - loss: 0.0211 - categorical_accuracy: 0.9938\n"
     ]
    },
    {
     "data": {
      "text/plain": [
       "[0.021135224029421806, 0.9937958121299744]"
      ]
     },
     "execution_count": 155,
     "metadata": {},
     "output_type": "execute_result"
    }
   ],
   "source": [
    "model.evaluate(X_test, y_test)"
   ]
  },
  {
   "cell_type": "code",
   "execution_count": 156,
   "metadata": {},
   "outputs": [
    {
     "data": {
      "text/plain": [
       "array([[9.9999988e-01, 1.6012771e-07],\n",
       "       [9.9999774e-01, 2.2549912e-06],\n",
       "       [9.9999952e-01, 4.2241402e-07],\n",
       "       ...,\n",
       "       [9.9999189e-01, 8.1015442e-06],\n",
       "       [7.8125493e-05, 9.9992192e-01],\n",
       "       [1.0000000e+00, 2.1751786e-08]], dtype=float32)"
      ]
     },
     "execution_count": 156,
     "metadata": {},
     "output_type": "execute_result"
    }
   ],
   "source": [
    "y_pred"
   ]
  },
  {
   "cell_type": "markdown",
   "metadata": {},
   "source": [
    "Questions:   \n",
    "           1) how to deal with those events with different time length    \n",
    "           2) how to deal with the imbalanced data, under-sampling?   \n",
    "           3) why the accuracy is so high? I guess is because the time scale we get.   "
   ]
  },
  {
   "cell_type": "code",
   "execution_count": null,
   "metadata": {},
   "outputs": [],
   "source": [
    "4432 4432 "
   ]
  },
  {
   "cell_type": "code",
   "execution_count": null,
   "metadata": {},
   "outputs": [],
   "source": []
  },
  {
   "cell_type": "code",
   "execution_count": null,
   "metadata": {},
   "outputs": [],
   "source": []
  },
  {
   "cell_type": "markdown",
   "metadata": {},
   "source": [
    "## Below is draft"
   ]
  },
  {
   "cell_type": "code",
   "execution_count": 98,
   "metadata": {},
   "outputs": [
    {
     "data": {
      "text/html": [
       "<div>\n",
       "<style scoped>\n",
       "    .dataframe tbody tr th:only-of-type {\n",
       "        vertical-align: middle;\n",
       "    }\n",
       "\n",
       "    .dataframe tbody tr th {\n",
       "        vertical-align: top;\n",
       "    }\n",
       "\n",
       "    .dataframe thead th {\n",
       "        text-align: right;\n",
       "    }\n",
       "</style>\n",
       "<table border=\"1\" class=\"dataframe\">\n",
       "  <thead>\n",
       "    <tr style=\"text-align: right;\">\n",
       "      <th></th>\n",
       "      <th>0</th>\n",
       "      <th>pos</th>\n",
       "    </tr>\n",
       "  </thead>\n",
       "  <tbody>\n",
       "    <tr>\n",
       "      <th>2000-01-01 00:00:00</th>\n",
       "      <td>0</td>\n",
       "      <td>10</td>\n",
       "    </tr>\n",
       "    <tr>\n",
       "      <th>2000-01-01 00:00:01</th>\n",
       "      <td>1</td>\n",
       "      <td>11</td>\n",
       "    </tr>\n",
       "    <tr>\n",
       "      <th>2000-01-01 00:00:02</th>\n",
       "      <td>2</td>\n",
       "      <td>12</td>\n",
       "    </tr>\n",
       "    <tr>\n",
       "      <th>2000-01-01 00:00:03</th>\n",
       "      <td>3</td>\n",
       "      <td>13</td>\n",
       "    </tr>\n",
       "    <tr>\n",
       "      <th>2000-01-01 00:00:04</th>\n",
       "      <td>4</td>\n",
       "      <td>14</td>\n",
       "    </tr>\n",
       "    <tr>\n",
       "      <th>2000-01-01 00:00:05</th>\n",
       "      <td>5</td>\n",
       "      <td>15</td>\n",
       "    </tr>\n",
       "    <tr>\n",
       "      <th>2000-01-01 00:00:06</th>\n",
       "      <td>6</td>\n",
       "      <td>16</td>\n",
       "    </tr>\n",
       "    <tr>\n",
       "      <th>2000-01-01 00:00:07</th>\n",
       "      <td>7</td>\n",
       "      <td>17</td>\n",
       "    </tr>\n",
       "    <tr>\n",
       "      <th>2000-01-01 00:00:08</th>\n",
       "      <td>8</td>\n",
       "      <td>18</td>\n",
       "    </tr>\n",
       "  </tbody>\n",
       "</table>\n",
       "</div>"
      ],
      "text/plain": [
       "                     0  pos\n",
       "2000-01-01 00:00:00  0   10\n",
       "2000-01-01 00:00:01  1   11\n",
       "2000-01-01 00:00:02  2   12\n",
       "2000-01-01 00:00:03  3   13\n",
       "2000-01-01 00:00:04  4   14\n",
       "2000-01-01 00:00:05  5   15\n",
       "2000-01-01 00:00:06  6   16\n",
       "2000-01-01 00:00:07  7   17\n",
       "2000-01-01 00:00:08  8   18"
      ]
     },
     "execution_count": 98,
     "metadata": {},
     "output_type": "execute_result"
    }
   ],
   "source": [
    "import pandas as pd\n",
    "index1 = pd.date_range('1/1/2000', periods=9, freq='S')\n",
    "series1 = pd.Series(range(9), index=index1)\n",
    "series1 = pd.DataFrame(series1)\n",
    "series1['pos'] = [x for x in range(10,19)]\n",
    "series1"
   ]
  },
  {
   "cell_type": "code",
   "execution_count": 86,
   "metadata": {},
   "outputs": [
    {
     "data": {
      "text/plain": [
       "2000-01-01 00:00:00    0\n",
       "2000-01-01 00:00:01    1\n",
       "2000-01-01 00:00:02    2\n",
       "2000-01-01 00:00:03    3\n",
       "2000-01-01 00:00:04    4\n",
       "Freq: S, dtype: int64"
      ]
     },
     "execution_count": 86,
     "metadata": {},
     "output_type": "execute_result"
    }
   ],
   "source": [
    "index2 = pd.date_range('1/1/2000', periods=5, freq='S')\n",
    "series2 = pd.Series(range(5), index=index2)\n",
    "series2"
   ]
  },
  {
   "cell_type": "code",
   "execution_count": 117,
   "metadata": {},
   "outputs": [
    {
     "data": {
      "text/html": [
       "<div>\n",
       "<style scoped>\n",
       "    .dataframe tbody tr th:only-of-type {\n",
       "        vertical-align: middle;\n",
       "    }\n",
       "\n",
       "    .dataframe tbody tr th {\n",
       "        vertical-align: top;\n",
       "    }\n",
       "\n",
       "    .dataframe thead th {\n",
       "        text-align: right;\n",
       "    }\n",
       "</style>\n",
       "<table border=\"1\" class=\"dataframe\">\n",
       "  <thead>\n",
       "    <tr style=\"text-align: right;\">\n",
       "      <th></th>\n",
       "      <th>0</th>\n",
       "      <th>pos</th>\n",
       "    </tr>\n",
       "  </thead>\n",
       "  <tbody>\n",
       "    <tr>\n",
       "      <th>2000-01-01 00:00:01.000</th>\n",
       "      <td>1.0</td>\n",
       "      <td>11.0</td>\n",
       "    </tr>\n",
       "    <tr>\n",
       "      <th>2000-01-01 00:00:01.500</th>\n",
       "      <td>1.5</td>\n",
       "      <td>11.5</td>\n",
       "    </tr>\n",
       "    <tr>\n",
       "      <th>2000-01-01 00:00:02.000</th>\n",
       "      <td>2.0</td>\n",
       "      <td>12.0</td>\n",
       "    </tr>\n",
       "    <tr>\n",
       "      <th>2000-01-01 00:00:02.500</th>\n",
       "      <td>2.5</td>\n",
       "      <td>12.5</td>\n",
       "    </tr>\n",
       "    <tr>\n",
       "      <th>2000-01-01 00:00:03.000</th>\n",
       "      <td>3.0</td>\n",
       "      <td>13.0</td>\n",
       "    </tr>\n",
       "    <tr>\n",
       "      <th>2000-01-01 00:00:03.500</th>\n",
       "      <td>3.5</td>\n",
       "      <td>13.5</td>\n",
       "    </tr>\n",
       "    <tr>\n",
       "      <th>2000-01-01 00:00:04.000</th>\n",
       "      <td>4.0</td>\n",
       "      <td>14.0</td>\n",
       "    </tr>\n",
       "    <tr>\n",
       "      <th>2000-01-01 00:00:04.500</th>\n",
       "      <td>4.5</td>\n",
       "      <td>14.5</td>\n",
       "    </tr>\n",
       "    <tr>\n",
       "      <th>2000-01-01 00:00:05.000</th>\n",
       "      <td>5.0</td>\n",
       "      <td>15.0</td>\n",
       "    </tr>\n",
       "  </tbody>\n",
       "</table>\n",
       "</div>"
      ],
      "text/plain": [
       "                           0   pos\n",
       "2000-01-01 00:00:01.000  1.0  11.0\n",
       "2000-01-01 00:00:01.500  1.5  11.5\n",
       "2000-01-01 00:00:02.000  2.0  12.0\n",
       "2000-01-01 00:00:02.500  2.5  12.5\n",
       "2000-01-01 00:00:03.000  3.0  13.0\n",
       "2000-01-01 00:00:03.500  3.5  13.5\n",
       "2000-01-01 00:00:04.000  4.0  14.0\n",
       "2000-01-01 00:00:04.500  4.5  14.5\n",
       "2000-01-01 00:00:05.000  5.0  15.0"
      ]
     },
     "execution_count": 117,
     "metadata": {},
     "output_type": "execute_result"
    }
   ],
   "source": [
    "a = series1.resample('0.5S').asfreq().interpolate(method='linear').iloc[2:11, :]\n",
    "b = pd.DataFrame(series2)\n",
    "a"
   ]
  },
  {
   "cell_type": "code",
   "execution_count": 119,
   "metadata": {},
   "outputs": [
    {
     "data": {
      "text/plain": [
       "9"
      ]
     },
     "execution_count": 119,
     "metadata": {},
     "output_type": "execute_result"
    }
   ],
   "source": [
    "aa = a.resample('0.5S').asfreq().interpolate(method='linear')\n",
    "len(aa)"
   ]
  },
  {
   "cell_type": "code",
   "execution_count": 120,
   "metadata": {},
   "outputs": [
    {
     "data": {
      "text/plain": [
       "9"
      ]
     },
     "execution_count": 120,
     "metadata": {},
     "output_type": "execute_result"
    }
   ],
   "source": [
    "bb=b.resample('0.5S').asfreq().interpolate(method='linear')\n",
    "len(bb)"
   ]
  },
  {
   "cell_type": "code",
   "execution_count": 121,
   "metadata": {},
   "outputs": [
    {
     "data": {
      "text/html": [
       "<div>\n",
       "<style scoped>\n",
       "    .dataframe tbody tr th:only-of-type {\n",
       "        vertical-align: middle;\n",
       "    }\n",
       "\n",
       "    .dataframe tbody tr th {\n",
       "        vertical-align: top;\n",
       "    }\n",
       "\n",
       "    .dataframe thead th {\n",
       "        text-align: right;\n",
       "    }\n",
       "</style>\n",
       "<table border=\"1\" class=\"dataframe\">\n",
       "  <thead>\n",
       "    <tr style=\"text-align: right;\">\n",
       "      <th></th>\n",
       "      <th>0</th>\n",
       "      <th>pos</th>\n",
       "    </tr>\n",
       "  </thead>\n",
       "  <tbody>\n",
       "    <tr>\n",
       "      <th>2000-01-01</th>\n",
       "      <td>0</td>\n",
       "      <td>10</td>\n",
       "    </tr>\n",
       "  </tbody>\n",
       "</table>\n",
       "</div>"
      ],
      "text/plain": [
       "            0  pos\n",
       "2000-01-01  0   10"
      ]
     },
     "execution_count": 121,
     "metadata": {},
     "output_type": "execute_result"
    }
   ],
   "source": [
    "series1.resample('30S').pad()[0:5]"
   ]
  },
  {
   "cell_type": "code",
   "execution_count": null,
   "metadata": {},
   "outputs": [],
   "source": []
  },
  {
   "cell_type": "code",
   "execution_count": null,
   "metadata": {},
   "outputs": [],
   "source": []
  },
  {
   "cell_type": "code",
   "execution_count": null,
   "metadata": {},
   "outputs": [],
   "source": []
  },
  {
   "cell_type": "code",
   "execution_count": null,
   "metadata": {},
   "outputs": [],
   "source": []
  },
  {
   "cell_type": "code",
   "execution_count": null,
   "metadata": {},
   "outputs": [],
   "source": []
  },
  {
   "cell_type": "code",
   "execution_count": null,
   "metadata": {},
   "outputs": [],
   "source": []
  },
  {
   "cell_type": "code",
   "execution_count": 80,
   "metadata": {},
   "outputs": [],
   "source": [
    "# Xo,yo = oversample.fit_resample(X[:,:,1], y)\n",
    "# Xo.shape"
   ]
  },
  {
   "cell_type": "code",
   "execution_count": 81,
   "metadata": {},
   "outputs": [],
   "source": [
    "# Xo"
   ]
  },
  {
   "cell_type": "code",
   "execution_count": 66,
   "metadata": {},
   "outputs": [
    {
     "name": "stdout",
     "output_type": "stream",
     "text": [
      "Original dataset shape Counter({'0': 138468, '1': 4432})\n",
      "Resampled dataset shape Counter({'1': 138468, '0': 138468})\n"
     ]
    }
   ],
   "source": [
    "from collections import Counter\n",
    "from sklearn.datasets import make_classification\n",
    "from imblearn.over_sampling import RandomOverSampler \n",
    "import numpy as np \n",
    "oversample = RandomOverSampler(sampling_strategy='minority')\n",
    "from imblearn.over_sampling import SMOTE # doctest: +NORMALIZE_WHITESPACE\n",
    "# X, y = make_classification(n_classes=2, class_sep=2,\n",
    "#     weights=[0.1, 0.9], n_informative=3, n_redundant=1, flip_y=0,\n",
    "#     n_features=20, n_clusters_per_class=1, n_samples=1000, random_state=10)\n",
    "print('Original dataset shape %s' % Counter(y))\n",
    "\n",
    "sm = SMOTE(random_state=42)\n",
    "X_res, y_res = sm.fit_resample(Xo, yo)\n",
    "print('Resampled dataset shape %s' % Counter(y_res))"
   ]
  },
  {
   "cell_type": "code",
   "execution_count": 105,
   "metadata": {},
   "outputs": [],
   "source": [
    "X_train, X_test, y_train, y_test = train_test_split(X, y, test_size=0.2, random_state=42)"
   ]
  },
  {
   "cell_type": "code",
   "execution_count": 131,
   "metadata": {},
   "outputs": [
    {
     "data": {
      "text/plain": [
       "3548"
      ]
     },
     "execution_count": 131,
     "metadata": {},
     "output_type": "execute_result"
    }
   ],
   "source": [
    "len(y_train[:,0:1][y_train[:,0:1] == 1])"
   ]
  },
  {
   "cell_type": "code",
   "execution_count": 132,
   "metadata": {},
   "outputs": [
    {
     "data": {
      "text/plain": [
       "7091"
      ]
     },
     "execution_count": 132,
     "metadata": {},
     "output_type": "execute_result"
    }
   ],
   "source": [
    "len(y_train)"
   ]
  },
  {
   "cell_type": "code",
   "execution_count": null,
   "metadata": {},
   "outputs": [],
   "source": []
  },
  {
   "cell_type": "code",
   "execution_count": 106,
   "metadata": {},
   "outputs": [
    {
     "data": {
      "text/plain": [
       "((1773, 24, 4), (1773, 1))"
      ]
     },
     "execution_count": 106,
     "metadata": {},
     "output_type": "execute_result"
    }
   ],
   "source": [
    "# X_train = np.array(X_train).reshape(len(X_train),1)\n",
    "y_train = np.array(y_train).reshape(len(y_train),1)\n",
    "# X_test = np.array(X_test).reshape(len(X_test),1)\n",
    "y_test = np.array(y_test).reshape(len(y_test),1)\n",
    "\n",
    "X_train = sequence.pad_sequences(X_train, maxlen=24, padding='post', dtype='float', truncating='post')\n",
    "# y_train = sequence.pad_sequences(y_train, maxlen=1, padding='post', dtype='float', truncating='post')\n",
    "X_test = sequence.pad_sequences(X_test, maxlen=24, padding='post', dtype='float', truncating='post')\n",
    "# y_test = sequence.pad_sequences(y_test, maxlen=1, padding='post', dtype='float', truncating='post')\n",
    "X_test.shape, y_test.shape"
   ]
  },
  {
   "cell_type": "code",
   "execution_count": 107,
   "metadata": {},
   "outputs": [],
   "source": [
    "from sklearn.preprocessing import OneHotEncoder\n",
    "enc = OneHotEncoder(handle_unknown='ignore', sparse=False)\n",
    "enc = enc.fit(y_train)\n",
    "y_train = enc.transform(y_train)\n",
    "y_test = enc.transform(y_test)"
   ]
  },
  {
   "cell_type": "code",
   "execution_count": 109,
   "metadata": {},
   "outputs": [
    {
     "data": {
      "text/plain": [
       "(24, 4, 2)"
      ]
     },
     "execution_count": 109,
     "metadata": {},
     "output_type": "execute_result"
    }
   ],
   "source": [
    "X_train.shape[1], X_train.shape[2], y_train.shape[1]"
   ]
  },
  {
   "cell_type": "code",
   "execution_count": 110,
   "metadata": {},
   "outputs": [
    {
     "data": {
      "text/plain": [
       "((7091, 24, 4), (7091, 2), (1773, 24, 4), (1773, 2))"
      ]
     },
     "execution_count": 110,
     "metadata": {},
     "output_type": "execute_result"
    }
   ],
   "source": [
    "X_train.shape, y_train.shape, X_test.shape, y_test.shape"
   ]
  },
  {
   "cell_type": "code",
   "execution_count": 142,
   "metadata": {},
   "outputs": [],
   "source": [
    "import keras\n",
    "model = keras.Sequential()\n",
    "model.add(\n",
    "    keras.layers.Bidirectional(\n",
    "      keras.layers.LSTM(\n",
    "          units=128,\n",
    "          input_shape=[X_train.shape[1], X_train.shape[2]]\n",
    "      )\n",
    "    )\n",
    ")\n",
    "model.add(keras.layers.Dropout(rate=0.5))\n",
    "model.add(keras.layers.Dense(units=128, activation='relu'))\n",
    "model.add(keras.layers.Dense(y_train.shape[1], activation='softmax'))\n",
    "model.compile(\n",
    "  loss='categorical_crossentropy',\n",
    "  optimizer='adam',\n",
    "  metrics=['categorical_accuracy']\n",
    ")\n",
    "# BinaryCrossentropy\n",
    "# categorical_crossentropy "
   ]
  },
  {
   "cell_type": "code",
   "execution_count": 143,
   "metadata": {},
   "outputs": [
    {
     "name": "stdout",
     "output_type": "stream",
     "text": [
      "Epoch 1/15\n",
      "200/200 [==============================] - 5s 26ms/step - loss: 0.1802 - categorical_accuracy: 0.9312 - val_loss: 0.0842 - val_categorical_accuracy: 0.9718\n",
      "Epoch 2/15\n",
      "200/200 [==============================] - 5s 25ms/step - loss: 0.0772 - categorical_accuracy: 0.9749 - val_loss: 0.0811 - val_categorical_accuracy: 0.9746\n",
      "Epoch 3/15\n",
      "200/200 [==============================] - 5s 25ms/step - loss: 0.0644 - categorical_accuracy: 0.9776 - val_loss: 0.0629 - val_categorical_accuracy: 0.9789\n",
      "Epoch 4/15\n",
      "200/200 [==============================] - 4s 22ms/step - loss: 0.0483 - categorical_accuracy: 0.9829 - val_loss: 0.0391 - val_categorical_accuracy: 0.9873\n",
      "Epoch 5/15\n",
      "200/200 [==============================] - 5s 24ms/step - loss: 0.0383 - categorical_accuracy: 0.9862 - val_loss: 0.0537 - val_categorical_accuracy: 0.9859\n",
      "Epoch 6/15\n",
      "200/200 [==============================] - 5s 23ms/step - loss: 0.0363 - categorical_accuracy: 0.9884 - val_loss: 0.0479 - val_categorical_accuracy: 0.9845\n",
      "Epoch 7/15\n",
      "200/200 [==============================] - 5s 23ms/step - loss: 0.0259 - categorical_accuracy: 0.9912 - val_loss: 0.0437 - val_categorical_accuracy: 0.9831\n",
      "Epoch 8/15\n",
      "200/200 [==============================] - 4s 22ms/step - loss: 0.0276 - categorical_accuracy: 0.9922 - val_loss: 0.0342 - val_categorical_accuracy: 0.9901\n",
      "Epoch 9/15\n",
      "200/200 [==============================] - 5s 23ms/step - loss: 0.0265 - categorical_accuracy: 0.9912 - val_loss: 0.0781 - val_categorical_accuracy: 0.9761\n",
      "Epoch 10/15\n",
      "200/200 [==============================] - 5s 23ms/step - loss: 0.0229 - categorical_accuracy: 0.9915 - val_loss: 0.0227 - val_categorical_accuracy: 0.9915\n",
      "Epoch 11/15\n",
      "200/200 [==============================] - 4s 22ms/step - loss: 0.0248 - categorical_accuracy: 0.9911 - val_loss: 0.0244 - val_categorical_accuracy: 0.9915\n",
      "Epoch 12/15\n",
      "200/200 [==============================] - 5s 24ms/step - loss: 0.0249 - categorical_accuracy: 0.9904 - val_loss: 0.0227 - val_categorical_accuracy: 0.9930\n",
      "Epoch 13/15\n",
      "200/200 [==============================] - 5s 23ms/step - loss: 0.0194 - categorical_accuracy: 0.9936 - val_loss: 0.0329 - val_categorical_accuracy: 0.9873\n",
      "Epoch 14/15\n",
      "200/200 [==============================] - 5s 24ms/step - loss: 0.0203 - categorical_accuracy: 0.9944 - val_loss: 0.0292 - val_categorical_accuracy: 0.9887\n",
      "Epoch 15/15\n",
      "200/200 [==============================] - 5s 23ms/step - loss: 0.0244 - categorical_accuracy: 0.9912 - val_loss: 0.0439 - val_categorical_accuracy: 0.9859\n"
     ]
    }
   ],
   "source": [
    "history = model.fit(\n",
    "    X_train, y_train,\n",
    "    epochs=15,\n",
    "    batch_size=32,\n",
    "    validation_split=0.1,\n",
    "    shuffle=False\n",
    ")"
   ]
  },
  {
   "cell_type": "code",
   "execution_count": 144,
   "metadata": {},
   "outputs": [
    {
     "name": "stdout",
     "output_type": "stream",
     "text": [
      "56/56 [==============================] - 0s 8ms/step - loss: 0.0217 - categorical_accuracy: 0.9921\n"
     ]
    },
    {
     "data": {
      "text/plain": [
       "[0.021665647625923157, 0.9921037554740906]"
      ]
     },
     "execution_count": 144,
     "metadata": {},
     "output_type": "execute_result"
    }
   ],
   "source": [
    "model.evaluate(X_test, y_test)"
   ]
  },
  {
   "cell_type": "code",
   "execution_count": 114,
   "metadata": {},
   "outputs": [],
   "source": [
    "y_pred = model.predict(X_test)"
   ]
  },
  {
   "cell_type": "code",
   "execution_count": 115,
   "metadata": {},
   "outputs": [
    {
     "data": {
      "text/plain": [
       "array([[9.9999988e-01, 1.6012771e-07],\n",
       "       [9.9999774e-01, 2.2549912e-06],\n",
       "       [9.9999952e-01, 4.2241402e-07],\n",
       "       ...,\n",
       "       [9.9999189e-01, 8.1015442e-06],\n",
       "       [7.8125493e-05, 9.9992192e-01],\n",
       "       [1.0000000e+00, 2.1751786e-08]], dtype=float32)"
      ]
     },
     "execution_count": 115,
     "metadata": {},
     "output_type": "execute_result"
    }
   ],
   "source": [
    "y_pred"
   ]
  },
  {
   "cell_type": "code",
   "execution_count": 223,
   "metadata": {},
   "outputs": [],
   "source": [
    "# confusion_matrix(y_pred, y_test)"
   ]
  },
  {
   "cell_type": "code",
   "execution_count": 192,
   "metadata": {},
   "outputs": [],
   "source": [
    "def first_element(data):\n",
    "    return data[0][0]"
   ]
  },
  {
   "cell_type": "code",
   "execution_count": 116,
   "metadata": {},
   "outputs": [],
   "source": [
    "# bb = pd.DataFrame(y_pred)\n",
    "# bb.iloc[:, 0:1][bb.iloc[:, 0:1] >=0.5]\n",
    "# bb"
   ]
  },
  {
   "cell_type": "code",
   "execution_count": 177,
   "metadata": {},
   "outputs": [],
   "source": [
    "from sklearn.metrics import *\n",
    "# precision_score(y_test, y_pred)"
   ]
  },
  {
   "cell_type": "code",
   "execution_count": null,
   "metadata": {},
   "outputs": [],
   "source": []
  },
  {
   "cell_type": "code",
   "execution_count": null,
   "metadata": {},
   "outputs": [],
   "source": []
  },
  {
   "cell_type": "code",
   "execution_count": null,
   "metadata": {},
   "outputs": [],
   "source": []
  },
  {
   "cell_type": "code",
   "execution_count": null,
   "metadata": {},
   "outputs": [],
   "source": []
  },
  {
   "cell_type": "code",
   "execution_count": null,
   "metadata": {},
   "outputs": [],
   "source": []
  },
  {
   "cell_type": "code",
   "execution_count": null,
   "metadata": {},
   "outputs": [],
   "source": []
  },
  {
   "cell_type": "code",
   "execution_count": 224,
   "metadata": {},
   "outputs": [],
   "source": [
    "# fit and evaluate a model\n",
    "def evaluate_model(trainX, trainy, testX, testy):\n",
    "    verbose, epochs, batch_size = 0, 15, 64\n",
    "    n_timesteps, n_features, n_outputs = 24, 4, trainy.shape[0]\n",
    "    model = Sequential()\n",
    "    model.add(LSTM(100, input_shape=(n_timesteps,n_features)))\n",
    "#     model.add(Dropout(0.5))\n",
    "    model.add(Dense(100, activation='relu'))\n",
    "    model.add(Dense(n_outputs, activation='softmax'))\n",
    "    model.compile(loss='categorical_crossentropy', optimizer='adam', metrics=['accuracy'])\n",
    "    # fit network\n",
    "    model.fit(trainX, trainy, epochs=epochs, batch_size=batch_size, verbose=verbose)\n",
    "    # evaluate model\n",
    "    _, accuracy = model.evaluate(testX, testy, batch_size=batch_size, verbose=0)\n",
    "    return accuracy\n",
    "\n",
    "# BinaryCrossentropy"
   ]
  },
  {
   "cell_type": "code",
   "execution_count": 226,
   "metadata": {},
   "outputs": [],
   "source": [
    "# evaluate_model(X_train, y_train, X_test, y_test)"
   ]
  },
  {
   "cell_type": "code",
   "execution_count": 106,
   "metadata": {},
   "outputs": [],
   "source": [
    "#truncate the sequence to length 60\n",
    "from keras.preprocessing import sequence\n",
    "import numpy as np\n",
    "final_seq = final_data.features\n",
    "final_target = pd.get_dummies(final_data['label']).values\n",
    "seq_len = 24\n",
    "final_seq = sequence.pad_sequences(final_seq, maxlen=seq_len, padding='post', dtype='float', truncating='post')\n",
    "final_target = sequence.pad_sequences(final_target, maxlen=2, padding='post', dtype='float', truncating='post')"
   ]
  },
  {
   "cell_type": "code",
   "execution_count": 107,
   "metadata": {},
   "outputs": [
    {
     "data": {
      "text/plain": [
       "(142900, 2)"
      ]
     },
     "execution_count": 107,
     "metadata": {},
     "output_type": "execute_result"
    }
   ],
   "source": [
    "final_target.shape"
   ]
  },
  {
   "cell_type": "code",
   "execution_count": 103,
   "metadata": {},
   "outputs": [],
   "source": [
    "# final_seq"
   ]
  },
  {
   "cell_type": "code",
   "execution_count": 33,
   "metadata": {},
   "outputs": [
    {
     "data": {
      "text/plain": [
       "True"
      ]
     },
     "execution_count": 33,
     "metadata": {},
     "output_type": "execute_result"
    }
   ],
   "source": []
  },
  {
   "cell_type": "code",
   "execution_count": null,
   "metadata": {},
   "outputs": [],
   "source": []
  },
  {
   "cell_type": "code",
   "execution_count": null,
   "metadata": {},
   "outputs": [],
   "source": []
  },
  {
   "cell_type": "code",
   "execution_count": null,
   "metadata": {},
   "outputs": [],
   "source": []
  },
  {
   "cell_type": "code",
   "execution_count": null,
   "metadata": {},
   "outputs": [],
   "source": []
  },
  {
   "cell_type": "code",
   "execution_count": null,
   "metadata": {},
   "outputs": [],
   "source": []
  },
  {
   "cell_type": "code",
   "execution_count": null,
   "metadata": {},
   "outputs": [],
   "source": []
  },
  {
   "cell_type": "code",
   "execution_count": null,
   "metadata": {},
   "outputs": [],
   "source": []
  },
  {
   "cell_type": "code",
   "execution_count": 301,
   "metadata": {},
   "outputs": [
    {
     "name": "stderr",
     "output_type": "stream",
     "text": [
      "//anaconda3/lib/python3.7/site-packages/ipykernel_launcher.py:2: SettingWithCopyWarning: \n",
      "A value is trying to be set on a copy of a slice from a DataFrame.\n",
      "Try using .loc[row_indexer,col_indexer] = value instead\n",
      "\n",
      "See the caveats in the documentation: https://pandas.pydata.org/pandas-docs/stable/user_guide/indexing.html#returning-a-view-versus-a-copy\n",
      "  \n",
      "//anaconda3/lib/python3.7/site-packages/pandas/core/frame.py:4153: SettingWithCopyWarning: \n",
      "A value is trying to be set on a copy of a slice from a DataFrame\n",
      "\n",
      "See the caveats in the documentation: https://pandas.pydata.org/pandas-docs/stable/user_guide/indexing.html#returning-a-view-versus-a-copy\n",
      "  downcast=downcast,\n",
      "//anaconda3/lib/python3.7/site-packages/ipykernel_launcher.py:4: SettingWithCopyWarning: \n",
      "A value is trying to be set on a copy of a slice from a DataFrame.\n",
      "Try using .loc[row_indexer,col_indexer] = value instead\n",
      "\n",
      "See the caveats in the documentation: https://pandas.pydata.org/pandas-docs/stable/user_guide/indexing.html#returning-a-view-versus-a-copy\n",
      "  after removing the cwd from sys.path.\n"
     ]
    }
   ],
   "source": [
    "df = crash_event[crash_event.peopleTrialKey == err]\n",
    "df['seconds_shift'] = df['seconds'].shift(1)\n",
    "df.fillna(0, inplace=True)\n",
    "df['time_gap'] = df['seconds'] - df['seconds_shift']\n",
    "\n",
    "df_trial = data_needed[(data_needed['peopleTrialKey'] == j)]\n",
    "\n",
    "for i in (crash_event.loc[\n",
    "                    (crash_event['peopleTrialKey'] == err),'seconds']):\n",
    "    left = df.seconds_shift[df.seconds==i].iloc[0] + machine_reset_time\n",
    "    right = i - time_scale_train - time_ahead\n",
    "    noncrash_time_range = [left, right]\n",
    "\n",
    "    temp_serie = data_needed.loc[(data_needed.seconds>=left) & (data_needed.seconds<=right) \\\n",
    "                  &(data_needed['peopleTrialKey'] == j),'seconds'] \n",
    "\n",
    "    list_all = sliding_window(temp_serie, time_scale_train, time_step) "
   ]
  },
  {
   "cell_type": "code",
   "execution_count": 11,
   "metadata": {},
   "outputs": [],
   "source": [
    "# list_all"
   ]
  },
  {
   "cell_type": "code",
   "execution_count": null,
   "metadata": {},
   "outputs": [],
   "source": []
  },
  {
   "cell_type": "code",
   "execution_count": 12,
   "metadata": {},
   "outputs": [
    {
     "data": {
      "text/plain": [
       "{(2, 4),\n",
       " (16, 4),\n",
       " (20, 4),\n",
       " (21, 4),\n",
       " (22, 4),\n",
       " (23, 4),\n",
       " (24, 4),\n",
       " (25, 4),\n",
       " (26, 4),\n",
       " (27, 4),\n",
       " (28, 4),\n",
       " (29, 4),\n",
       " (30, 4),\n",
       " (31, 4),\n",
       " (32, 4),\n",
       " (33, 4),\n",
       " (34, 4),\n",
       " (35, 4),\n",
       " (36, 4),\n",
       " (37, 4),\n",
       " (38, 4),\n",
       " (39, 4),\n",
       " (40, 4),\n",
       " (41, 4),\n",
       " (42, 4),\n",
       " (43, 4),\n",
       " (44, 4),\n",
       " (45, 4),\n",
       " (46, 4),\n",
       " (47, 4),\n",
       " (48, 4),\n",
       " (49, 4),\n",
       " (50, 4),\n",
       " (51, 4),\n",
       " (52, 4),\n",
       " (53, 4),\n",
       " (54, 4),\n",
       " (55, 4),\n",
       " (56, 4),\n",
       " (57, 4),\n",
       " (58, 4),\n",
       " (59, 4),\n",
       " (60, 4),\n",
       " (61, 4),\n",
       " (62, 4)}"
      ]
     },
     "execution_count": 12,
     "metadata": {},
     "output_type": "execute_result"
    }
   ],
   "source": [
    "n = []\n",
    "for i in range(len(noncrash_feature_label_300ms_500ms)):\n",
    "    n.append(noncrash_feature_label_300ms_500ms.features.iloc[i].shape)\n",
    "set(n)"
   ]
  },
  {
   "cell_type": "code",
   "execution_count": 272,
   "metadata": {},
   "outputs": [
    {
     "data": {
      "text/html": [
       "<div>\n",
       "<style scoped>\n",
       "    .dataframe tbody tr th:only-of-type {\n",
       "        vertical-align: middle;\n",
       "    }\n",
       "\n",
       "    .dataframe tbody tr th {\n",
       "        vertical-align: top;\n",
       "    }\n",
       "\n",
       "    .dataframe thead th {\n",
       "        text-align: right;\n",
       "    }\n",
       "</style>\n",
       "<table border=\"1\" class=\"dataframe\">\n",
       "  <thead>\n",
       "    <tr style=\"text-align: right;\">\n",
       "      <th></th>\n",
       "      <th>seconds</th>\n",
       "      <th>trialPhase</th>\n",
       "      <th>currentPosRoll</th>\n",
       "      <th>currentVelRoll</th>\n",
       "      <th>joystickX</th>\n",
       "      <th>peopleName</th>\n",
       "      <th>trialName</th>\n",
       "      <th>peopleTrialKey</th>\n",
       "      <th>datetimeNew</th>\n",
       "      <th>crash</th>\n",
       "    </tr>\n",
       "  </thead>\n",
       "  <tbody>\n",
       "    <tr>\n",
       "      <th>5657</th>\n",
       "      <td>91.195</td>\n",
       "      <td>1</td>\n",
       "      <td>21.555176</td>\n",
       "      <td>-15.020332</td>\n",
       "      <td>0.007935</td>\n",
       "      <td>1_co_P13</td>\n",
       "      <td>12_600back_Block3_trial_012.csv</td>\n",
       "      <td>1_co_P13/12_600back_Block3_trial_012.csv</td>\n",
       "      <td>1970-01-01 00:01:31.195</td>\n",
       "      <td>0.0</td>\n",
       "    </tr>\n",
       "    <tr>\n",
       "      <th>5658</th>\n",
       "      <td>91.205</td>\n",
       "      <td>1</td>\n",
       "      <td>21.404114</td>\n",
       "      <td>-15.020332</td>\n",
       "      <td>0.007935</td>\n",
       "      <td>1_co_P13</td>\n",
       "      <td>12_600back_Block3_trial_012.csv</td>\n",
       "      <td>1_co_P13/12_600back_Block3_trial_012.csv</td>\n",
       "      <td>1970-01-01 00:01:31.205</td>\n",
       "      <td>0.0</td>\n",
       "    </tr>\n",
       "    <tr>\n",
       "      <th>5659</th>\n",
       "      <td>91.214</td>\n",
       "      <td>1</td>\n",
       "      <td>21.253052</td>\n",
       "      <td>-15.020332</td>\n",
       "      <td>0.007935</td>\n",
       "      <td>1_co_P13</td>\n",
       "      <td>12_600back_Block3_trial_012.csv</td>\n",
       "      <td>1_co_P13/12_600back_Block3_trial_012.csv</td>\n",
       "      <td>1970-01-01 00:01:31.214</td>\n",
       "      <td>0.0</td>\n",
       "    </tr>\n",
       "    <tr>\n",
       "      <th>5660</th>\n",
       "      <td>91.224</td>\n",
       "      <td>1</td>\n",
       "      <td>21.115723</td>\n",
       "      <td>-15.020332</td>\n",
       "      <td>0.007935</td>\n",
       "      <td>1_co_P13</td>\n",
       "      <td>12_600back_Block3_trial_012.csv</td>\n",
       "      <td>1_co_P13/12_600back_Block3_trial_012.csv</td>\n",
       "      <td>1970-01-01 00:01:31.224</td>\n",
       "      <td>0.0</td>\n",
       "    </tr>\n",
       "    <tr>\n",
       "      <th>5661</th>\n",
       "      <td>91.234</td>\n",
       "      <td>1</td>\n",
       "      <td>20.964661</td>\n",
       "      <td>-15.020332</td>\n",
       "      <td>0.007935</td>\n",
       "      <td>1_co_P13</td>\n",
       "      <td>12_600back_Block3_trial_012.csv</td>\n",
       "      <td>1_co_P13/12_600back_Block3_trial_012.csv</td>\n",
       "      <td>1970-01-01 00:01:31.234</td>\n",
       "      <td>0.0</td>\n",
       "    </tr>\n",
       "    <tr>\n",
       "      <th>...</th>\n",
       "      <td>...</td>\n",
       "      <td>...</td>\n",
       "      <td>...</td>\n",
       "      <td>...</td>\n",
       "      <td>...</td>\n",
       "      <td>...</td>\n",
       "      <td>...</td>\n",
       "      <td>...</td>\n",
       "      <td>...</td>\n",
       "      <td>...</td>\n",
       "    </tr>\n",
       "    <tr>\n",
       "      <th>9726138</th>\n",
       "      <td>103.918</td>\n",
       "      <td>1</td>\n",
       "      <td>-70.806885</td>\n",
       "      <td>15.004239</td>\n",
       "      <td>-0.015656</td>\n",
       "      <td>2_xz_P11</td>\n",
       "      <td>04_600back_Block1_trial_004.csv</td>\n",
       "      <td>2_xz_P11/04_600back_Block1_trial_004.csv</td>\n",
       "      <td>1970-01-01 00:01:43.918</td>\n",
       "      <td>0.0</td>\n",
       "    </tr>\n",
       "    <tr>\n",
       "      <th>9726139</th>\n",
       "      <td>103.926</td>\n",
       "      <td>1</td>\n",
       "      <td>-70.708008</td>\n",
       "      <td>15.004239</td>\n",
       "      <td>-0.000031</td>\n",
       "      <td>2_xz_P11</td>\n",
       "      <td>04_600back_Block1_trial_004.csv</td>\n",
       "      <td>2_xz_P11/04_600back_Block1_trial_004.csv</td>\n",
       "      <td>1970-01-01 00:01:43.926</td>\n",
       "      <td>0.0</td>\n",
       "    </tr>\n",
       "    <tr>\n",
       "      <th>9726140</th>\n",
       "      <td>103.935</td>\n",
       "      <td>1</td>\n",
       "      <td>-70.620117</td>\n",
       "      <td>15.004239</td>\n",
       "      <td>-0.000031</td>\n",
       "      <td>2_xz_P11</td>\n",
       "      <td>04_600back_Block1_trial_004.csv</td>\n",
       "      <td>2_xz_P11/04_600back_Block1_trial_004.csv</td>\n",
       "      <td>1970-01-01 00:01:43.935</td>\n",
       "      <td>0.0</td>\n",
       "    </tr>\n",
       "    <tr>\n",
       "      <th>9726141</th>\n",
       "      <td>103.943</td>\n",
       "      <td>1</td>\n",
       "      <td>-70.510254</td>\n",
       "      <td>15.004239</td>\n",
       "      <td>-0.000031</td>\n",
       "      <td>2_xz_P11</td>\n",
       "      <td>04_600back_Block1_trial_004.csv</td>\n",
       "      <td>2_xz_P11/04_600back_Block1_trial_004.csv</td>\n",
       "      <td>1970-01-01 00:01:43.943</td>\n",
       "      <td>0.0</td>\n",
       "    </tr>\n",
       "    <tr>\n",
       "      <th>9726142</th>\n",
       "      <td>103.951</td>\n",
       "      <td>1</td>\n",
       "      <td>-70.408630</td>\n",
       "      <td>15.004239</td>\n",
       "      <td>-0.000031</td>\n",
       "      <td>2_xz_P11</td>\n",
       "      <td>04_600back_Block1_trial_004.csv</td>\n",
       "      <td>2_xz_P11/04_600back_Block1_trial_004.csv</td>\n",
       "      <td>1970-01-01 00:01:43.951</td>\n",
       "      <td>0.0</td>\n",
       "    </tr>\n",
       "  </tbody>\n",
       "</table>\n",
       "<p>1040858 rows × 10 columns</p>\n",
       "</div>"
      ],
      "text/plain": [
       "         seconds  trialPhase  currentPosRoll  currentVelRoll  joystickX  \\\n",
       "5657      91.195           1       21.555176      -15.020332   0.007935   \n",
       "5658      91.205           1       21.404114      -15.020332   0.007935   \n",
       "5659      91.214           1       21.253052      -15.020332   0.007935   \n",
       "5660      91.224           1       21.115723      -15.020332   0.007935   \n",
       "5661      91.234           1       20.964661      -15.020332   0.007935   \n",
       "...          ...         ...             ...             ...        ...   \n",
       "9726138  103.918           1      -70.806885       15.004239  -0.015656   \n",
       "9726139  103.926           1      -70.708008       15.004239  -0.000031   \n",
       "9726140  103.935           1      -70.620117       15.004239  -0.000031   \n",
       "9726141  103.943           1      -70.510254       15.004239  -0.000031   \n",
       "9726142  103.951           1      -70.408630       15.004239  -0.000031   \n",
       "\n",
       "        peopleName                        trialName  \\\n",
       "5657      1_co_P13  12_600back_Block3_trial_012.csv   \n",
       "5658      1_co_P13  12_600back_Block3_trial_012.csv   \n",
       "5659      1_co_P13  12_600back_Block3_trial_012.csv   \n",
       "5660      1_co_P13  12_600back_Block3_trial_012.csv   \n",
       "5661      1_co_P13  12_600back_Block3_trial_012.csv   \n",
       "...            ...                              ...   \n",
       "9726138   2_xz_P11  04_600back_Block1_trial_004.csv   \n",
       "9726139   2_xz_P11  04_600back_Block1_trial_004.csv   \n",
       "9726140   2_xz_P11  04_600back_Block1_trial_004.csv   \n",
       "9726141   2_xz_P11  04_600back_Block1_trial_004.csv   \n",
       "9726142   2_xz_P11  04_600back_Block1_trial_004.csv   \n",
       "\n",
       "                                   peopleTrialKey             datetimeNew  \\\n",
       "5657     1_co_P13/12_600back_Block3_trial_012.csv 1970-01-01 00:01:31.195   \n",
       "5658     1_co_P13/12_600back_Block3_trial_012.csv 1970-01-01 00:01:31.205   \n",
       "5659     1_co_P13/12_600back_Block3_trial_012.csv 1970-01-01 00:01:31.214   \n",
       "5660     1_co_P13/12_600back_Block3_trial_012.csv 1970-01-01 00:01:31.224   \n",
       "5661     1_co_P13/12_600back_Block3_trial_012.csv 1970-01-01 00:01:31.234   \n",
       "...                                           ...                     ...   \n",
       "9726138  2_xz_P11/04_600back_Block1_trial_004.csv 1970-01-01 00:01:43.918   \n",
       "9726139  2_xz_P11/04_600back_Block1_trial_004.csv 1970-01-01 00:01:43.926   \n",
       "9726140  2_xz_P11/04_600back_Block1_trial_004.csv 1970-01-01 00:01:43.935   \n",
       "9726141  2_xz_P11/04_600back_Block1_trial_004.csv 1970-01-01 00:01:43.943   \n",
       "9726142  2_xz_P11/04_600back_Block1_trial_004.csv 1970-01-01 00:01:43.951   \n",
       "\n",
       "         crash  \n",
       "5657       0.0  \n",
       "5658       0.0  \n",
       "5659       0.0  \n",
       "5660       0.0  \n",
       "5661       0.0  \n",
       "...        ...  \n",
       "9726138    0.0  \n",
       "9726139    0.0  \n",
       "9726140    0.0  \n",
       "9726141    0.0  \n",
       "9726142    0.0  \n",
       "\n",
       "[1040858 rows x 10 columns]"
      ]
     },
     "execution_count": 272,
     "metadata": {},
     "output_type": "execute_result"
    }
   ],
   "source": [
    "# data_needed[data_needed.seconds.isin(aaa)] \n",
    "data_needed[(data_needed.seconds >= aaa.iloc[0]) & (data_needed.seconds <= aaa.iloc[-1])]"
   ]
  },
  {
   "cell_type": "code",
   "execution_count": 149,
   "metadata": {},
   "outputs": [
    {
     "data": {
      "text/plain": [
       "(24, 4)"
      ]
     },
     "execution_count": 149,
     "metadata": {},
     "output_type": "execute_result"
    }
   ],
   "source": [
    "noncrash_feature_label_300ms_500ms.features.iloc[0].shape"
   ]
  },
  {
   "cell_type": "code",
   "execution_count": null,
   "metadata": {},
   "outputs": [],
   "source": [
    "def sliding_window(data, buck_size, step):\n",
    "    list_all = []\n",
    "    temp_len = len(data[data.between(data.iloc[0], data.iloc[0] + buck_size)])\n",
    "    for i in range(len(data)): \n",
    "        left = data.iloc[i] + i * step \n",
    "        right = data.iloc[i] + i * step  + buck_size\n",
    "        series1 = data[data.between(left, right)] \n",
    "        if data.iloc[-1] - left < 0.5:\n",
    "            break\n",
    "        list_all.append(series1)\n",
    "    return list_all"
   ]
  },
  {
   "cell_type": "code",
   "execution_count": null,
   "metadata": {},
   "outputs": [],
   "source": []
  },
  {
   "cell_type": "code",
   "execution_count": null,
   "metadata": {},
   "outputs": [],
   "source": []
  },
  {
   "cell_type": "code",
   "execution_count": null,
   "metadata": {},
   "outputs": [],
   "source": []
  },
  {
   "cell_type": "code",
   "execution_count": null,
   "metadata": {},
   "outputs": [],
   "source": []
  },
  {
   "cell_type": "code",
   "execution_count": 176,
   "metadata": {},
   "outputs": [
    {
     "data": {
      "text/plain": [
       "0          False\n",
       "1          False\n",
       "2          False\n",
       "3          False\n",
       "4          False\n",
       "           ...  \n",
       "9726876    False\n",
       "9726877    False\n",
       "9726878    False\n",
       "9726879    False\n",
       "9726880    False\n",
       "Name: seconds, Length: 9726881, dtype: bool"
      ]
     },
     "execution_count": 176,
     "metadata": {},
     "output_type": "execute_result"
    }
   ],
   "source": [
    "data_needed.seconds.isin()"
   ]
  },
  {
   "cell_type": "code",
   "execution_count": 224,
   "metadata": {},
   "outputs": [
    {
     "data": {
      "text/plain": [
       "91.187"
      ]
     },
     "execution_count": 224,
     "metadata": {},
     "output_type": "execute_result"
    }
   ],
   "source": [
    "min(temp_serie)"
   ]
  },
  {
   "cell_type": "code",
   "execution_count": null,
   "metadata": {},
   "outputs": [],
   "source": []
  },
  {
   "cell_type": "code",
   "execution_count": 134,
   "metadata": {},
   "outputs": [
    {
     "name": "stderr",
     "output_type": "stream",
     "text": [
      "//anaconda3/lib/python3.7/site-packages/ipykernel_launcher.py:6: SettingWithCopyWarning: \n",
      "A value is trying to be set on a copy of a slice from a DataFrame.\n",
      "Try using .loc[row_indexer,col_indexer] = value instead\n",
      "\n",
      "See the caveats in the documentation: https://pandas.pydata.org/pandas-docs/stable/user_guide/indexing.html#returning-a-view-versus-a-copy\n",
      "  \n",
      "//anaconda3/lib/python3.7/site-packages/pandas/core/frame.py:4153: SettingWithCopyWarning: \n",
      "A value is trying to be set on a copy of a slice from a DataFrame\n",
      "\n",
      "See the caveats in the documentation: https://pandas.pydata.org/pandas-docs/stable/user_guide/indexing.html#returning-a-view-versus-a-copy\n",
      "  downcast=downcast,\n",
      "//anaconda3/lib/python3.7/site-packages/ipykernel_launcher.py:8: SettingWithCopyWarning: \n",
      "A value is trying to be set on a copy of a slice from a DataFrame.\n",
      "Try using .loc[row_indexer,col_indexer] = value instead\n",
      "\n",
      "See the caveats in the documentation: https://pandas.pydata.org/pandas-docs/stable/user_guide/indexing.html#returning-a-view-versus-a-copy\n",
      "  \n"
     ]
    },
    {
     "data": {
      "text/html": [
       "<div>\n",
       "<style scoped>\n",
       "    .dataframe tbody tr th:only-of-type {\n",
       "        vertical-align: middle;\n",
       "    }\n",
       "\n",
       "    .dataframe tbody tr th {\n",
       "        vertical-align: top;\n",
       "    }\n",
       "\n",
       "    .dataframe thead th {\n",
       "        text-align: right;\n",
       "    }\n",
       "</style>\n",
       "<table border=\"1\" class=\"dataframe\">\n",
       "  <thead>\n",
       "    <tr style=\"text-align: right;\">\n",
       "      <th></th>\n",
       "      <th>seconds</th>\n",
       "      <th>trialPhase</th>\n",
       "      <th>currentPosRoll</th>\n",
       "      <th>currentVelRoll</th>\n",
       "      <th>joystickX</th>\n",
       "      <th>peopleName</th>\n",
       "      <th>trialName</th>\n",
       "      <th>peopleTrialKey</th>\n",
       "      <th>datetimeNew</th>\n",
       "      <th>crash</th>\n",
       "      <th>seconds_shift</th>\n",
       "      <th>time_gap</th>\n",
       "    </tr>\n",
       "  </thead>\n",
       "  <tbody>\n",
       "    <tr>\n",
       "      <th>1177</th>\n",
       "      <td>22.398</td>\n",
       "      <td>4</td>\n",
       "      <td>59.436035</td>\n",
       "      <td>94.134567</td>\n",
       "      <td>0.880920</td>\n",
       "      <td>1_co_P13</td>\n",
       "      <td>12_600back_Block3_trial_012.csv</td>\n",
       "      <td>1_co_P13/12_600back_Block3_trial_012.csv</td>\n",
       "      <td>1970-01-01 00:00:22.398</td>\n",
       "      <td>0.0</td>\n",
       "      <td>0.000</td>\n",
       "      <td>22.398</td>\n",
       "    </tr>\n",
       "    <tr>\n",
       "      <th>2137</th>\n",
       "      <td>35.087</td>\n",
       "      <td>4</td>\n",
       "      <td>-60.455017</td>\n",
       "      <td>-11.415452</td>\n",
       "      <td>-0.843781</td>\n",
       "      <td>1_co_P13</td>\n",
       "      <td>12_600back_Block3_trial_012.csv</td>\n",
       "      <td>1_co_P13/12_600back_Block3_trial_012.csv</td>\n",
       "      <td>1970-01-01 00:00:35.087</td>\n",
       "      <td>1.0</td>\n",
       "      <td>22.398</td>\n",
       "      <td>12.689</td>\n",
       "    </tr>\n",
       "    <tr>\n",
       "      <th>4174</th>\n",
       "      <td>71.218</td>\n",
       "      <td>4</td>\n",
       "      <td>-60.578613</td>\n",
       "      <td>2.456897</td>\n",
       "      <td>-0.820343</td>\n",
       "      <td>1_co_P13</td>\n",
       "      <td>12_600back_Block3_trial_012.csv</td>\n",
       "      <td>1_co_P13/12_600back_Block3_trial_012.csv</td>\n",
       "      <td>1970-01-01 00:01:11.218</td>\n",
       "      <td>1.0</td>\n",
       "      <td>35.087</td>\n",
       "      <td>36.131</td>\n",
       "    </tr>\n",
       "    <tr>\n",
       "      <th>5255</th>\n",
       "      <td>87.480</td>\n",
       "      <td>4</td>\n",
       "      <td>60.262756</td>\n",
       "      <td>44.052488</td>\n",
       "      <td>0.579346</td>\n",
       "      <td>1_co_P13</td>\n",
       "      <td>12_600back_Block3_trial_012.csv</td>\n",
       "      <td>1_co_P13/12_600back_Block3_trial_012.csv</td>\n",
       "      <td>1970-01-01 00:01:27.480</td>\n",
       "      <td>1.0</td>\n",
       "      <td>71.218</td>\n",
       "      <td>16.262</td>\n",
       "    </tr>\n",
       "    <tr>\n",
       "      <th>6060</th>\n",
       "      <td>97.565</td>\n",
       "      <td>4</td>\n",
       "      <td>-60.367126</td>\n",
       "      <td>-27.508665</td>\n",
       "      <td>-0.796906</td>\n",
       "      <td>1_co_P13</td>\n",
       "      <td>12_600back_Block3_trial_012.csv</td>\n",
       "      <td>1_co_P13/12_600back_Block3_trial_012.csv</td>\n",
       "      <td>1970-01-01 00:01:37.565</td>\n",
       "      <td>1.0</td>\n",
       "      <td>87.480</td>\n",
       "      <td>10.085</td>\n",
       "    </tr>\n",
       "  </tbody>\n",
       "</table>\n",
       "</div>"
      ],
      "text/plain": [
       "      seconds  trialPhase  currentPosRoll  currentVelRoll  joystickX  \\\n",
       "1177   22.398           4       59.436035       94.134567   0.880920   \n",
       "2137   35.087           4      -60.455017      -11.415452  -0.843781   \n",
       "4174   71.218           4      -60.578613        2.456897  -0.820343   \n",
       "5255   87.480           4       60.262756       44.052488   0.579346   \n",
       "6060   97.565           4      -60.367126      -27.508665  -0.796906   \n",
       "\n",
       "     peopleName                        trialName  \\\n",
       "1177   1_co_P13  12_600back_Block3_trial_012.csv   \n",
       "2137   1_co_P13  12_600back_Block3_trial_012.csv   \n",
       "4174   1_co_P13  12_600back_Block3_trial_012.csv   \n",
       "5255   1_co_P13  12_600back_Block3_trial_012.csv   \n",
       "6060   1_co_P13  12_600back_Block3_trial_012.csv   \n",
       "\n",
       "                                peopleTrialKey             datetimeNew  crash  \\\n",
       "1177  1_co_P13/12_600back_Block3_trial_012.csv 1970-01-01 00:00:22.398    0.0   \n",
       "2137  1_co_P13/12_600back_Block3_trial_012.csv 1970-01-01 00:00:35.087    1.0   \n",
       "4174  1_co_P13/12_600back_Block3_trial_012.csv 1970-01-01 00:01:11.218    1.0   \n",
       "5255  1_co_P13/12_600back_Block3_trial_012.csv 1970-01-01 00:01:27.480    1.0   \n",
       "6060  1_co_P13/12_600back_Block3_trial_012.csv 1970-01-01 00:01:37.565    1.0   \n",
       "\n",
       "      seconds_shift  time_gap  \n",
       "1177          0.000    22.398  \n",
       "2137         22.398    12.689  \n",
       "4174         35.087    36.131  \n",
       "5255         71.218    16.262  \n",
       "6060         87.480    10.085  "
      ]
     },
     "execution_count": 134,
     "metadata": {},
     "output_type": "execute_result"
    }
   ],
   "source": [
    "\n",
    "crash_excludeShortT = pd.DataFrame()\n",
    "for x in range(len(peopleTrialHasCrash[0:1])):\n",
    "    trial = peopleTrialHasCrash[x]\n",
    "    df = crash_event[crash_event.peopleTrialKey == trial]\n",
    "    df['seconds_shift'] = df['seconds'].shift(1)\n",
    "    df.fillna(0, inplace=True)\n",
    "    df['time_gap'] = df['seconds'] - df['seconds_shift']\n",
    "# # now we try to set as 5 seconds as a short-time crash\n",
    "# df = df[df.time_gap > t]\n",
    "#     crash_excludeShortT = pd.concat([crash_excludeShortT, df])\n",
    "# num_crash_event.append((len(crash_event) - len(crash_excludeShortT)))\n",
    "df \n"
   ]
  },
  {
   "cell_type": "code",
   "execution_count": null,
   "metadata": {},
   "outputs": [],
   "source": []
  },
  {
   "cell_type": "code",
   "execution_count": 180,
   "metadata": {},
   "outputs": [
    {
     "ename": "TypeError",
     "evalue": "'numpy.ndarray' object is not callable",
     "output_type": "error",
     "traceback": [
      "\u001b[0;31m---------------------------------------------------------------------------\u001b[0m",
      "\u001b[0;31mTypeError\u001b[0m                                 Traceback (most recent call last)",
      "\u001b[0;32m<ipython-input-180-e4bf39c81add>\u001b[0m in \u001b[0;36m<module>\u001b[0;34m()\u001b[0m\n\u001b[1;32m      9\u001b[0m \u001b[0mlist_of_indexes\u001b[0m\u001b[0;34m\u001b[0m\u001b[0m\n\u001b[1;32m     10\u001b[0m \u001b[0;34m\u001b[0m\u001b[0m\n\u001b[0;32m---> 11\u001b[0;31m \u001b[0md1\u001b[0m \u001b[0;34m=\u001b[0m \u001b[0mdf\u001b[0m\u001b[0;34m.\u001b[0m\u001b[0mapply\u001b[0m\u001b[0;34m(\u001b[0m\u001b[0mtuple\u001b[0m\u001b[0;34m,\u001b[0m\u001b[0maxis\u001b[0m\u001b[0;34m=\u001b[0m\u001b[0;36m1\u001b[0m\u001b[0;34m)\u001b[0m\u001b[0;34m.\u001b[0m\u001b[0mapply\u001b[0m\u001b[0;34m(\u001b[0m\u001b[0mlist\u001b[0m\u001b[0;34m)\u001b[0m\u001b[0;34m\u001b[0m\u001b[0m\n\u001b[0m\u001b[1;32m     12\u001b[0m \u001b[0;34m[\u001b[0m\u001b[0;34m[\u001b[0m\u001b[0md1\u001b[0m\u001b[0;34m[\u001b[0m\u001b[0mix\u001b[0m\u001b[0;34m]\u001b[0m \u001b[0;32mfor\u001b[0m \u001b[0mix\u001b[0m \u001b[0;32min\u001b[0m \u001b[0mx\u001b[0m\u001b[0;34m]\u001b[0m \u001b[0;32mfor\u001b[0m \u001b[0mx\u001b[0m \u001b[0;32min\u001b[0m \u001b[0mlist_of_indexes\u001b[0m\u001b[0;34m]\u001b[0m\u001b[0;34m\u001b[0m\u001b[0m\n",
      "\u001b[0;32m//anaconda3/lib/python3.7/site-packages/pandas/core/series.py\u001b[0m in \u001b[0;36mapply\u001b[0;34m(self, func, convert_dtype, args, **kwds)\u001b[0m\n\u001b[1;32m   3846\u001b[0m             \u001b[0;32melse\u001b[0m\u001b[0;34m:\u001b[0m\u001b[0;34m\u001b[0m\u001b[0m\n\u001b[1;32m   3847\u001b[0m                 \u001b[0mvalues\u001b[0m \u001b[0;34m=\u001b[0m \u001b[0mself\u001b[0m\u001b[0;34m.\u001b[0m\u001b[0mastype\u001b[0m\u001b[0;34m(\u001b[0m\u001b[0mobject\u001b[0m\u001b[0;34m)\u001b[0m\u001b[0;34m.\u001b[0m\u001b[0mvalues\u001b[0m\u001b[0;34m\u001b[0m\u001b[0m\n\u001b[0;32m-> 3848\u001b[0;31m                 \u001b[0mmapped\u001b[0m \u001b[0;34m=\u001b[0m \u001b[0mlib\u001b[0m\u001b[0;34m.\u001b[0m\u001b[0mmap_infer\u001b[0m\u001b[0;34m(\u001b[0m\u001b[0mvalues\u001b[0m\u001b[0;34m,\u001b[0m \u001b[0mf\u001b[0m\u001b[0;34m,\u001b[0m \u001b[0mconvert\u001b[0m\u001b[0;34m=\u001b[0m\u001b[0mconvert_dtype\u001b[0m\u001b[0;34m)\u001b[0m\u001b[0;34m\u001b[0m\u001b[0m\n\u001b[0m\u001b[1;32m   3849\u001b[0m \u001b[0;34m\u001b[0m\u001b[0m\n\u001b[1;32m   3850\u001b[0m         \u001b[0;32mif\u001b[0m \u001b[0mlen\u001b[0m\u001b[0;34m(\u001b[0m\u001b[0mmapped\u001b[0m\u001b[0;34m)\u001b[0m \u001b[0;32mand\u001b[0m \u001b[0misinstance\u001b[0m\u001b[0;34m(\u001b[0m\u001b[0mmapped\u001b[0m\u001b[0;34m[\u001b[0m\u001b[0;36m0\u001b[0m\u001b[0;34m]\u001b[0m\u001b[0;34m,\u001b[0m \u001b[0mSeries\u001b[0m\u001b[0;34m)\u001b[0m\u001b[0;34m:\u001b[0m\u001b[0;34m\u001b[0m\u001b[0m\n",
      "\u001b[0;32mpandas/_libs/lib.pyx\u001b[0m in \u001b[0;36mpandas._libs.lib.map_infer\u001b[0;34m()\u001b[0m\n",
      "\u001b[0;31mTypeError\u001b[0m: 'numpy.ndarray' object is not callable"
     ]
    }
   ],
   "source": [
    "import pandas as pd\n",
    "dd = {'A': {0: 1, 1: 4, 2: 7, 3: 10, 4: 13},\n",
    " 'B': {0: 2, 1: 5, 2: 8, 3: 11, 4: 14},\n",
    " 'C': {0: 3, 1: 6, 2: 9, 3: 12, 4: 15}}\n",
    "df = pd.DataFrame(dd)\n",
    "\n",
    "list_of_indexes=[]\n",
    "df.index.to_series().rolling(3).apply((lambda x: list_of_indexes.append(x.tolist()) or 0), raw=False)\n",
    "list_of_indexes\n",
    "\n",
    "d1 = df.apply(tuple,axis=1).apply(list)\n",
    "[[d1[ix] for ix in x] for x in list_of_indexes]"
   ]
  },
  {
   "cell_type": "code",
   "execution_count": 182,
   "metadata": {},
   "outputs": [
    {
     "data": {
      "text/plain": [
       "array([ 1,  4,  7, 10, 13])"
      ]
     },
     "execution_count": 182,
     "metadata": {},
     "output_type": "execute_result"
    }
   ],
   "source": [
    "np.array(df.A)"
   ]
  },
  {
   "cell_type": "code",
   "execution_count": 193,
   "metadata": {},
   "outputs": [
    {
     "name": "stdout",
     "output_type": "stream",
     "text": [
      "[19735 19736 19737]\n",
      "[19737 19738 19739]\n",
      "[19739 19740 19741]\n",
      "[19741 19742 19743]\n",
      "[19743 19744]\n"
     ]
    }
   ],
   "source": [
    "from window_slider import Slider\n",
    "import numpy\n",
    "list_1 = numpy.array(temp_serie.index[0:10])\n",
    "bucket_size = 3\n",
    "overlap_count = 1\n",
    "slider = Slider(bucket_size,overlap_count)\n",
    "slider.fit(list_1)       \n",
    "while True:\n",
    "    window_data = slider.slide()\n",
    "    # do your stuff\n",
    "    print(window_data)\n",
    "    if slider.reached_end_of_list(): break"
   ]
  },
  {
   "cell_type": "code",
   "execution_count": 243,
   "metadata": {},
   "outputs": [
    {
     "data": {
      "text/plain": [
       "103.953"
      ]
     },
     "execution_count": 243,
     "metadata": {},
     "output_type": "execute_result"
    }
   ],
   "source": [
    "aaa = temp_serie[0:1000]\n",
    "aaa.iloc[-1]"
   ]
  },
  {
   "cell_type": "code",
   "execution_count": 250,
   "metadata": {},
   "outputs": [],
   "source": [
    "def sliding_window(data, buck_size, step):\n",
    "    list_all = []\n",
    "    temp_len = len(data[data.between(data.iloc[0], data.iloc[0] + buck_size)])\n",
    "    for i in range(len(data)): \n",
    "        left = data.iloc[i] + i * step \n",
    "        right = data.iloc[i] + i * step  + buck_size\n",
    "        series1 = data[data.between(left, right)] \n",
    "        if data.iloc[-1] - left < 0.5:\n",
    "            break\n",
    "        list_all.append(series1)\n",
    "    return list_all"
   ]
  },
  {
   "cell_type": "code",
   "execution_count": 262,
   "metadata": {},
   "outputs": [
    {
     "data": {
      "text/plain": [
       "pandas.core.series.Series"
      ]
     },
     "execution_count": 262,
     "metadata": {},
     "output_type": "execute_result"
    }
   ],
   "source": [
    "x = sliding_window(aaa, 0.5, 0.3)\n",
    "type(x[0])"
   ]
  },
  {
   "cell_type": "code",
   "execution_count": null,
   "metadata": {},
   "outputs": [],
   "source": []
  },
  {
   "cell_type": "code",
   "execution_count": 169,
   "metadata": {},
   "outputs": [],
   "source": [
    "def sliding_window(data, window_size, step_size):\n",
    "    data = pd.rolling_window(data, window_size)\n",
    "    data = data[step_size - 1 :: step_size]\n",
    "    print (data)\n",
    "#     return data"
   ]
  },
  {
   "cell_type": "code",
   "execution_count": 170,
   "metadata": {},
   "outputs": [
    {
     "ename": "AttributeError",
     "evalue": "module 'pandas' has no attribute 'rolling'",
     "output_type": "error",
     "traceback": [
      "\u001b[0;31m---------------------------------------------------------------------------\u001b[0m",
      "\u001b[0;31mAttributeError\u001b[0m                            Traceback (most recent call last)",
      "\u001b[0;32m<ipython-input-170-2ecb98a96fd3>\u001b[0m in \u001b[0;36m<module>\u001b[0;34m()\u001b[0m\n\u001b[0;32m----> 1\u001b[0;31m \u001b[0msliding_window\u001b[0m\u001b[0;34m(\u001b[0m\u001b[0mdf\u001b[0m\u001b[0;34m,\u001b[0m \u001b[0;36m1\u001b[0m\u001b[0;34m,\u001b[0m\u001b[0;36m1\u001b[0m\u001b[0;34m)\u001b[0m\u001b[0;34m\u001b[0m\u001b[0m\n\u001b[0m",
      "\u001b[0;32m<ipython-input-169-6701c7c53aff>\u001b[0m in \u001b[0;36msliding_window\u001b[0;34m(data, window_size, step_size)\u001b[0m\n\u001b[1;32m      1\u001b[0m \u001b[0;32mdef\u001b[0m \u001b[0msliding_window\u001b[0m\u001b[0;34m(\u001b[0m\u001b[0mdata\u001b[0m\u001b[0;34m,\u001b[0m \u001b[0mwindow_size\u001b[0m\u001b[0;34m,\u001b[0m \u001b[0mstep_size\u001b[0m\u001b[0;34m)\u001b[0m\u001b[0;34m:\u001b[0m\u001b[0;34m\u001b[0m\u001b[0m\n\u001b[0;32m----> 2\u001b[0;31m     \u001b[0mdata\u001b[0m \u001b[0;34m=\u001b[0m \u001b[0mpd\u001b[0m\u001b[0;34m.\u001b[0m\u001b[0mrolling\u001b[0m\u001b[0;34m(\u001b[0m\u001b[0mdata\u001b[0m\u001b[0;34m,\u001b[0m \u001b[0mwindow_size\u001b[0m\u001b[0;34m)\u001b[0m\u001b[0;34m\u001b[0m\u001b[0m\n\u001b[0m\u001b[1;32m      3\u001b[0m     \u001b[0mdata\u001b[0m \u001b[0;34m=\u001b[0m \u001b[0mdata\u001b[0m\u001b[0;34m[\u001b[0m\u001b[0mstep_size\u001b[0m \u001b[0;34m-\u001b[0m \u001b[0;36m1\u001b[0m \u001b[0;34m:\u001b[0m\u001b[0;34m:\u001b[0m \u001b[0mstep_size\u001b[0m\u001b[0;34m]\u001b[0m\u001b[0;34m\u001b[0m\u001b[0m\n\u001b[1;32m      4\u001b[0m     \u001b[0mprint\u001b[0m \u001b[0;34m(\u001b[0m\u001b[0mdata\u001b[0m\u001b[0;34m)\u001b[0m\u001b[0;34m\u001b[0m\u001b[0m\n\u001b[1;32m      5\u001b[0m \u001b[0;31m#     return data\u001b[0m\u001b[0;34m\u001b[0m\u001b[0;34m\u001b[0m\u001b[0m\n",
      "\u001b[0;32m//anaconda3/lib/python3.7/site-packages/pandas/__init__.py\u001b[0m in \u001b[0;36m__getattr__\u001b[0;34m(name)\u001b[0m\n\u001b[1;32m    261\u001b[0m             \u001b[0;32mreturn\u001b[0m \u001b[0m_SparseArray\u001b[0m\u001b[0;34m\u001b[0m\u001b[0m\n\u001b[1;32m    262\u001b[0m \u001b[0;34m\u001b[0m\u001b[0m\n\u001b[0;32m--> 263\u001b[0;31m         \u001b[0;32mraise\u001b[0m \u001b[0mAttributeError\u001b[0m\u001b[0;34m(\u001b[0m\u001b[0;34mf\"module 'pandas' has no attribute '{name}'\"\u001b[0m\u001b[0;34m)\u001b[0m\u001b[0;34m\u001b[0m\u001b[0m\n\u001b[0m\u001b[1;32m    264\u001b[0m \u001b[0;34m\u001b[0m\u001b[0m\n\u001b[1;32m    265\u001b[0m \u001b[0;34m\u001b[0m\u001b[0m\n",
      "\u001b[0;31mAttributeError\u001b[0m: module 'pandas' has no attribute 'rolling'"
     ]
    }
   ],
   "source": [
    "sliding_window(df, 1,1)"
   ]
  },
  {
   "cell_type": "code",
   "execution_count": null,
   "metadata": {},
   "outputs": [],
   "source": []
  },
  {
   "cell_type": "code",
   "execution_count": null,
   "metadata": {},
   "outputs": [],
   "source": []
  },
  {
   "cell_type": "code",
   "execution_count": 58,
   "metadata": {},
   "outputs": [],
   "source": [
    "import ast\n",
    "import numpy as np\n",
    "def from_np_array(array_string):\n",
    "    array_string = ','.join(array_string.replace('[ ', '[').split())\n",
    "    return np.array(ast.literal_eval(array_string))"
   ]
  },
  {
   "cell_type": "code",
   "execution_count": 59,
   "metadata": {},
   "outputs": [
    {
     "ename": "SyntaxError",
     "evalue": "invalid syntax (<unknown>, line 1)",
     "output_type": "error",
     "traceback": [
      "\u001b[0;36m  File \u001b[0;32m\"<unknown>\"\u001b[0;36m, line \u001b[0;32m1\u001b[0m\n\u001b[0;31m    [[,8.559,-41.94580078,-50.854553,-0.593781,],[,8.58,-43.05267334,-48.580045,-0.632843,],[,8.602,-44.11010742,-48.193808,-0.656281,],[,8.623,-45.21148682,-45.189742,-0.671906,],[,8.643,-46.24694824,-44.975166,-0.687531,],[,8.663,-47.23297119,-41.413201,-0.710968,],[,8.683,-48.20251465,-40.640727,-0.718781,],[,8.704,-49.16381836,-36.778356,-0.734406,],[,8.726,-50.13885498,-35.962966,-0.757843,],[,8.747,-51.12762451,-32.443917,-0.781281,]]\u001b[0m\n\u001b[0m      ^\u001b[0m\n\u001b[0;31mSyntaxError\u001b[0m\u001b[0;31m:\u001b[0m invalid syntax\n"
     ]
    }
   ],
   "source": [
    "import numpy as np\n",
    "import pandas as pd\n",
    "\n",
    "crash_feature_label[['features']].to_csv('sample.csv')\n",
    "\n",
    "df2 = pd.read_csv('sample.csv', converters={'features': from_np_array})\n",
    "print(df2)"
   ]
  },
  {
   "cell_type": "code",
   "execution_count": 57,
   "metadata": {},
   "outputs": [
    {
     "data": {
      "text/plain": [
       "array([[ 34.593     , -44.68414307, -19.869754  ,  -0.109406  ],\n",
       "       [ 34.613     , -45.28289795, -21.800939  ,  -0.015656  ],\n",
       "       [ 34.633     , -45.81848145, -25.534564  ,   0.        ],\n",
       "       [ 34.653     , -46.35131836, -29.954834  ,  -0.031281  ],\n",
       "       [ 34.675     , -46.88690186, -33.473883  ,  -0.132843  ],\n",
       "       [ 34.696     , -47.48291016, -38.53788   ,  -0.250031  ],\n",
       "       [ 34.718     , -48.06518555, -40.898218  ,  -0.453156  ],\n",
       "       [ 34.739     , -48.71887207, -43.086895  ,  -0.523468  ],\n",
       "       [ 34.759     , -49.36706543, -42.228591  ,  -0.578156  ],\n",
       "       [ 34.78      , -50.04272461, -42.657743  ,  -0.640656  ]])"
      ]
     },
     "execution_count": 57,
     "metadata": {},
     "output_type": "execute_result"
    }
   ],
   "source": [
    "crash_feature_label.features.iloc[1]"
   ]
  },
  {
   "cell_type": "code",
   "execution_count": 60,
   "metadata": {},
   "outputs": [],
   "source": [
    "crash_feature_label.to_csv('crash_feature_label.csv')"
   ]
  },
  {
   "cell_type": "code",
   "execution_count": 72,
   "metadata": {},
   "outputs": [],
   "source": [
    "def parser(astr):\n",
    "    astr.split('\\n')                                                      \n",
    "    astr.replace('[','').replace(']','').split('\\n')                      \n",
    "    [i.split() for i in _]                                                \n",
    "    return np.array(_)"
   ]
  },
  {
   "cell_type": "code",
   "execution_count": 79,
   "metadata": {},
   "outputs": [
    {
     "data": {
      "text/plain": [
       "'[[21.912      42.94281006 23.302972    0.        ]\\n [21.932      42.7532959  27.921724    0.079346  ]\\n [21.954      42.64892578 31.918206    0.174591  ]\\n [21.974      42.63244629 34.611137    0.174591  ]\\n [21.996      42.69836426 37.507915    0.150787  ]\\n [22.015      42.83843994 39.476651    0.08728   ]\\n [22.035      43.04443359 42.561184    0.007935  ]\\n [22.055      43.29711914 45.618894   -0.015656  ]\\n [22.077      43.64868164 51.283705   -0.093781  ]\\n [22.098      44.0826416  54.507712   -0.179718  ]]'"
      ]
     },
     "execution_count": 79,
     "metadata": {},
     "output_type": "execute_result"
    }
   ],
   "source": [
    "crash_feature_label1 =  pd.read_csv('crash_feature_label.csv')\n",
    "crash_feature_label1.features.iloc[0]"
   ]
  },
  {
   "cell_type": "code",
   "execution_count": null,
   "metadata": {},
   "outputs": [],
   "source": []
  },
  {
   "cell_type": "code",
   "execution_count": 80,
   "metadata": {},
   "outputs": [
    {
     "ename": "ValueError",
     "evalue": "malformed node or string: 0     0\n1     0\n2     0\n3     0\n4     0\n5     0\n6     0\n7     0\n8     0\n9     0\n10    0\n11    0\n12    0\n13    0\n14    0\n15    0\nName: Unnamed: 0, dtype: object",
     "output_type": "error",
     "traceback": [
      "\u001b[0;31m---------------------------------------------------------------------------\u001b[0m",
      "\u001b[0;31mValueError\u001b[0m                                Traceback (most recent call last)",
      "\u001b[0;32m<ipython-input-80-423cbde7990d>\u001b[0m in \u001b[0;36m<module>\u001b[0;34m()\u001b[0m\n\u001b[0;32m----> 1\u001b[0;31m \u001b[0mcrash_feature_label1\u001b[0m\u001b[0;34m[\u001b[0m\u001b[0;34m'features'\u001b[0m\u001b[0;34m]\u001b[0m\u001b[0;34m=\u001b[0m \u001b[0mcrash_feature_label1\u001b[0m\u001b[0;34m.\u001b[0m\u001b[0mapply\u001b[0m\u001b[0;34m(\u001b[0m\u001b[0mast\u001b[0m\u001b[0;34m.\u001b[0m\u001b[0mliteral_eval\u001b[0m\u001b[0;34m)\u001b[0m\u001b[0;34m\u001b[0m\u001b[0m\n\u001b[0m\u001b[1;32m      2\u001b[0m \u001b[0mcrash_feature_label1\u001b[0m\u001b[0;34m.\u001b[0m\u001b[0mfeatures\u001b[0m\u001b[0;34m.\u001b[0m\u001b[0miloc\u001b[0m\u001b[0;34m[\u001b[0m\u001b[0;36m0\u001b[0m\u001b[0;34m]\u001b[0m\u001b[0;34m\u001b[0m\u001b[0m\n",
      "\u001b[0;32m//anaconda3/lib/python3.7/site-packages/pandas/core/frame.py\u001b[0m in \u001b[0;36mapply\u001b[0;34m(self, func, axis, raw, result_type, args, **kwds)\u001b[0m\n\u001b[1;32m   6876\u001b[0m             \u001b[0mkwds\u001b[0m\u001b[0;34m=\u001b[0m\u001b[0mkwds\u001b[0m\u001b[0;34m,\u001b[0m\u001b[0;34m\u001b[0m\u001b[0m\n\u001b[1;32m   6877\u001b[0m         )\n\u001b[0;32m-> 6878\u001b[0;31m         \u001b[0;32mreturn\u001b[0m \u001b[0mop\u001b[0m\u001b[0;34m.\u001b[0m\u001b[0mget_result\u001b[0m\u001b[0;34m(\u001b[0m\u001b[0;34m)\u001b[0m\u001b[0;34m\u001b[0m\u001b[0m\n\u001b[0m\u001b[1;32m   6879\u001b[0m \u001b[0;34m\u001b[0m\u001b[0m\n\u001b[1;32m   6880\u001b[0m     \u001b[0;32mdef\u001b[0m \u001b[0mapplymap\u001b[0m\u001b[0;34m(\u001b[0m\u001b[0mself\u001b[0m\u001b[0;34m,\u001b[0m \u001b[0mfunc\u001b[0m\u001b[0;34m)\u001b[0m \u001b[0;34m->\u001b[0m \u001b[0;34m\"DataFrame\"\u001b[0m\u001b[0;34m:\u001b[0m\u001b[0;34m\u001b[0m\u001b[0m\n",
      "\u001b[0;32m//anaconda3/lib/python3.7/site-packages/pandas/core/apply.py\u001b[0m in \u001b[0;36mget_result\u001b[0;34m(self)\u001b[0m\n\u001b[1;32m    184\u001b[0m             \u001b[0;32mreturn\u001b[0m \u001b[0mself\u001b[0m\u001b[0;34m.\u001b[0m\u001b[0mapply_raw\u001b[0m\u001b[0;34m(\u001b[0m\u001b[0;34m)\u001b[0m\u001b[0;34m\u001b[0m\u001b[0m\n\u001b[1;32m    185\u001b[0m \u001b[0;34m\u001b[0m\u001b[0m\n\u001b[0;32m--> 186\u001b[0;31m         \u001b[0;32mreturn\u001b[0m \u001b[0mself\u001b[0m\u001b[0;34m.\u001b[0m\u001b[0mapply_standard\u001b[0m\u001b[0;34m(\u001b[0m\u001b[0;34m)\u001b[0m\u001b[0;34m\u001b[0m\u001b[0m\n\u001b[0m\u001b[1;32m    187\u001b[0m \u001b[0;34m\u001b[0m\u001b[0m\n\u001b[1;32m    188\u001b[0m     \u001b[0;32mdef\u001b[0m \u001b[0mapply_empty_result\u001b[0m\u001b[0;34m(\u001b[0m\u001b[0mself\u001b[0m\u001b[0;34m)\u001b[0m\u001b[0;34m:\u001b[0m\u001b[0;34m\u001b[0m\u001b[0m\n",
      "\u001b[0;32m//anaconda3/lib/python3.7/site-packages/pandas/core/apply.py\u001b[0m in \u001b[0;36mapply_standard\u001b[0;34m(self)\u001b[0m\n\u001b[1;32m    294\u001b[0m             \u001b[0;32mtry\u001b[0m\u001b[0;34m:\u001b[0m\u001b[0;34m\u001b[0m\u001b[0m\n\u001b[1;32m    295\u001b[0m                 result = libreduction.compute_reduction(\n\u001b[0;32m--> 296\u001b[0;31m                     \u001b[0mvalues\u001b[0m\u001b[0;34m,\u001b[0m \u001b[0mself\u001b[0m\u001b[0;34m.\u001b[0m\u001b[0mf\u001b[0m\u001b[0;34m,\u001b[0m \u001b[0maxis\u001b[0m\u001b[0;34m=\u001b[0m\u001b[0mself\u001b[0m\u001b[0;34m.\u001b[0m\u001b[0maxis\u001b[0m\u001b[0;34m,\u001b[0m \u001b[0mdummy\u001b[0m\u001b[0;34m=\u001b[0m\u001b[0mdummy\u001b[0m\u001b[0;34m,\u001b[0m \u001b[0mlabels\u001b[0m\u001b[0;34m=\u001b[0m\u001b[0mlabels\u001b[0m\u001b[0;34m\u001b[0m\u001b[0m\n\u001b[0m\u001b[1;32m    297\u001b[0m                 )\n\u001b[1;32m    298\u001b[0m             \u001b[0;32mexcept\u001b[0m \u001b[0mValueError\u001b[0m \u001b[0;32mas\u001b[0m \u001b[0merr\u001b[0m\u001b[0;34m:\u001b[0m\u001b[0;34m\u001b[0m\u001b[0m\n",
      "\u001b[0;32mpandas/_libs/reduction.pyx\u001b[0m in \u001b[0;36mpandas._libs.reduction.compute_reduction\u001b[0;34m()\u001b[0m\n",
      "\u001b[0;32mpandas/_libs/reduction.pyx\u001b[0m in \u001b[0;36mpandas._libs.reduction.Reducer.get_result\u001b[0;34m()\u001b[0m\n",
      "\u001b[0;32m//anaconda3/lib/python3.7/ast.py\u001b[0m in \u001b[0;36mliteral_eval\u001b[0;34m(node_or_string)\u001b[0m\n\u001b[1;32m     89\u001b[0m                     \u001b[0;32mreturn\u001b[0m \u001b[0mleft\u001b[0m \u001b[0;34m-\u001b[0m \u001b[0mright\u001b[0m\u001b[0;34m\u001b[0m\u001b[0m\n\u001b[1;32m     90\u001b[0m         \u001b[0;32mreturn\u001b[0m \u001b[0m_convert_signed_num\u001b[0m\u001b[0;34m(\u001b[0m\u001b[0mnode\u001b[0m\u001b[0;34m)\u001b[0m\u001b[0;34m\u001b[0m\u001b[0m\n\u001b[0;32m---> 91\u001b[0;31m     \u001b[0;32mreturn\u001b[0m \u001b[0m_convert\u001b[0m\u001b[0;34m(\u001b[0m\u001b[0mnode_or_string\u001b[0m\u001b[0;34m)\u001b[0m\u001b[0;34m\u001b[0m\u001b[0m\n\u001b[0m\u001b[1;32m     92\u001b[0m \u001b[0;34m\u001b[0m\u001b[0m\n\u001b[1;32m     93\u001b[0m \u001b[0;34m\u001b[0m\u001b[0m\n",
      "\u001b[0;32m//anaconda3/lib/python3.7/ast.py\u001b[0m in \u001b[0;36m_convert\u001b[0;34m(node)\u001b[0m\n\u001b[1;32m     88\u001b[0m                 \u001b[0;32melse\u001b[0m\u001b[0;34m:\u001b[0m\u001b[0;34m\u001b[0m\u001b[0m\n\u001b[1;32m     89\u001b[0m                     \u001b[0;32mreturn\u001b[0m \u001b[0mleft\u001b[0m \u001b[0;34m-\u001b[0m \u001b[0mright\u001b[0m\u001b[0;34m\u001b[0m\u001b[0m\n\u001b[0;32m---> 90\u001b[0;31m         \u001b[0;32mreturn\u001b[0m \u001b[0m_convert_signed_num\u001b[0m\u001b[0;34m(\u001b[0m\u001b[0mnode\u001b[0m\u001b[0;34m)\u001b[0m\u001b[0;34m\u001b[0m\u001b[0m\n\u001b[0m\u001b[1;32m     91\u001b[0m     \u001b[0;32mreturn\u001b[0m \u001b[0m_convert\u001b[0m\u001b[0;34m(\u001b[0m\u001b[0mnode_or_string\u001b[0m\u001b[0;34m)\u001b[0m\u001b[0;34m\u001b[0m\u001b[0m\n\u001b[1;32m     92\u001b[0m \u001b[0;34m\u001b[0m\u001b[0m\n",
      "\u001b[0;32m//anaconda3/lib/python3.7/ast.py\u001b[0m in \u001b[0;36m_convert_signed_num\u001b[0;34m(node)\u001b[0m\n\u001b[1;32m     61\u001b[0m             \u001b[0;32melse\u001b[0m\u001b[0;34m:\u001b[0m\u001b[0;34m\u001b[0m\u001b[0m\n\u001b[1;32m     62\u001b[0m                 \u001b[0;32mreturn\u001b[0m \u001b[0;34m-\u001b[0m \u001b[0moperand\u001b[0m\u001b[0;34m\u001b[0m\u001b[0m\n\u001b[0;32m---> 63\u001b[0;31m         \u001b[0;32mreturn\u001b[0m \u001b[0m_convert_num\u001b[0m\u001b[0;34m(\u001b[0m\u001b[0mnode\u001b[0m\u001b[0;34m)\u001b[0m\u001b[0;34m\u001b[0m\u001b[0m\n\u001b[0m\u001b[1;32m     64\u001b[0m     \u001b[0;32mdef\u001b[0m \u001b[0m_convert\u001b[0m\u001b[0;34m(\u001b[0m\u001b[0mnode\u001b[0m\u001b[0;34m)\u001b[0m\u001b[0;34m:\u001b[0m\u001b[0;34m\u001b[0m\u001b[0m\n\u001b[1;32m     65\u001b[0m         \u001b[0;32mif\u001b[0m \u001b[0misinstance\u001b[0m\u001b[0;34m(\u001b[0m\u001b[0mnode\u001b[0m\u001b[0;34m,\u001b[0m \u001b[0mConstant\u001b[0m\u001b[0;34m)\u001b[0m\u001b[0;34m:\u001b[0m\u001b[0;34m\u001b[0m\u001b[0m\n",
      "\u001b[0;32m//anaconda3/lib/python3.7/ast.py\u001b[0m in \u001b[0;36m_convert_num\u001b[0;34m(node)\u001b[0m\n\u001b[1;32m     53\u001b[0m         \u001b[0;32melif\u001b[0m \u001b[0misinstance\u001b[0m\u001b[0;34m(\u001b[0m\u001b[0mnode\u001b[0m\u001b[0;34m,\u001b[0m \u001b[0mNum\u001b[0m\u001b[0;34m)\u001b[0m\u001b[0;34m:\u001b[0m\u001b[0;34m\u001b[0m\u001b[0m\n\u001b[1;32m     54\u001b[0m             \u001b[0;32mreturn\u001b[0m \u001b[0mnode\u001b[0m\u001b[0;34m.\u001b[0m\u001b[0mn\u001b[0m\u001b[0;34m\u001b[0m\u001b[0m\n\u001b[0;32m---> 55\u001b[0;31m         \u001b[0;32mraise\u001b[0m \u001b[0mValueError\u001b[0m\u001b[0;34m(\u001b[0m\u001b[0;34m'malformed node or string: '\u001b[0m \u001b[0;34m+\u001b[0m \u001b[0mrepr\u001b[0m\u001b[0;34m(\u001b[0m\u001b[0mnode\u001b[0m\u001b[0;34m)\u001b[0m\u001b[0;34m)\u001b[0m\u001b[0;34m\u001b[0m\u001b[0m\n\u001b[0m\u001b[1;32m     56\u001b[0m     \u001b[0;32mdef\u001b[0m \u001b[0m_convert_signed_num\u001b[0m\u001b[0;34m(\u001b[0m\u001b[0mnode\u001b[0m\u001b[0;34m)\u001b[0m\u001b[0;34m:\u001b[0m\u001b[0;34m\u001b[0m\u001b[0m\n\u001b[1;32m     57\u001b[0m         \u001b[0;32mif\u001b[0m \u001b[0misinstance\u001b[0m\u001b[0;34m(\u001b[0m\u001b[0mnode\u001b[0m\u001b[0;34m,\u001b[0m \u001b[0mUnaryOp\u001b[0m\u001b[0;34m)\u001b[0m \u001b[0;32mand\u001b[0m \u001b[0misinstance\u001b[0m\u001b[0;34m(\u001b[0m\u001b[0mnode\u001b[0m\u001b[0;34m.\u001b[0m\u001b[0mop\u001b[0m\u001b[0;34m,\u001b[0m \u001b[0;34m(\u001b[0m\u001b[0mUAdd\u001b[0m\u001b[0;34m,\u001b[0m \u001b[0mUSub\u001b[0m\u001b[0;34m)\u001b[0m\u001b[0;34m)\u001b[0m\u001b[0;34m:\u001b[0m\u001b[0;34m\u001b[0m\u001b[0m\n",
      "\u001b[0;31mValueError\u001b[0m: malformed node or string: 0     0\n1     0\n2     0\n3     0\n4     0\n5     0\n6     0\n7     0\n8     0\n9     0\n10    0\n11    0\n12    0\n13    0\n14    0\n15    0\nName: Unnamed: 0, dtype: object"
     ]
    }
   ],
   "source": [
    "crash_feature_label1['features']= crash_feature_label1.apply(ast.literal_eval)\n",
    "crash_feature_label1.features.iloc[0]"
   ]
  },
  {
   "cell_type": "code",
   "execution_count": null,
   "metadata": {},
   "outputs": [],
   "source": []
  },
  {
   "cell_type": "code",
   "execution_count": null,
   "metadata": {},
   "outputs": [],
   "source": []
  },
  {
   "cell_type": "code",
   "execution_count": null,
   "metadata": {},
   "outputs": [],
   "source": []
  },
  {
   "cell_type": "code",
   "execution_count": null,
   "metadata": {},
   "outputs": [],
   "source": []
  },
  {
   "cell_type": "code",
   "execution_count": null,
   "metadata": {},
   "outputs": [],
   "source": []
  },
  {
   "cell_type": "code",
   "execution_count": null,
   "metadata": {},
   "outputs": [],
   "source": []
  },
  {
   "cell_type": "code",
   "execution_count": null,
   "metadata": {},
   "outputs": [],
   "source": []
  },
  {
   "cell_type": "code",
   "execution_count": null,
   "metadata": {},
   "outputs": [],
   "source": []
  },
  {
   "cell_type": "code",
   "execution_count": null,
   "metadata": {},
   "outputs": [],
   "source": []
  },
  {
   "cell_type": "code",
   "execution_count": null,
   "metadata": {},
   "outputs": [],
   "source": []
  },
  {
   "cell_type": "code",
   "execution_count": 108,
   "metadata": {},
   "outputs": [
    {
     "name": "stderr",
     "output_type": "stream",
     "text": [
      "//anaconda3/lib/python3.7/site-packages/ipykernel_launcher.py:1: SettingWithCopyWarning: \n",
      "A value is trying to be set on a copy of a slice from a DataFrame.\n",
      "Try using .loc[row_indexer,col_indexer] = value instead\n",
      "\n",
      "See the caveats in the documentation: https://pandas.pydata.org/pandas-docs/stable/user_guide/indexing.html#returning-a-view-versus-a-copy\n",
      "  \"\"\"Entry point for launching an IPython kernel.\n",
      "//anaconda3/lib/python3.7/site-packages/pandas/core/frame.py:4153: SettingWithCopyWarning: \n",
      "A value is trying to be set on a copy of a slice from a DataFrame\n",
      "\n",
      "See the caveats in the documentation: https://pandas.pydata.org/pandas-docs/stable/user_guide/indexing.html#returning-a-view-versus-a-copy\n",
      "  downcast=downcast,\n",
      "//anaconda3/lib/python3.7/site-packages/ipykernel_launcher.py:3: SettingWithCopyWarning: \n",
      "A value is trying to be set on a copy of a slice from a DataFrame.\n",
      "Try using .loc[row_indexer,col_indexer] = value instead\n",
      "\n",
      "See the caveats in the documentation: https://pandas.pydata.org/pandas-docs/stable/user_guide/indexing.html#returning-a-view-versus-a-copy\n",
      "  This is separate from the ipykernel package so we can avoid doing imports until\n"
     ]
    },
    {
     "data": {
      "text/html": [
       "<div>\n",
       "<style scoped>\n",
       "    .dataframe tbody tr th:only-of-type {\n",
       "        vertical-align: middle;\n",
       "    }\n",
       "\n",
       "    .dataframe tbody tr th {\n",
       "        vertical-align: top;\n",
       "    }\n",
       "\n",
       "    .dataframe thead th {\n",
       "        text-align: right;\n",
       "    }\n",
       "</style>\n",
       "<table border=\"1\" class=\"dataframe\">\n",
       "  <thead>\n",
       "    <tr style=\"text-align: right;\">\n",
       "      <th></th>\n",
       "      <th>seconds</th>\n",
       "      <th>trialPhase</th>\n",
       "      <th>currentPosRoll</th>\n",
       "      <th>currentVelRoll</th>\n",
       "      <th>joystickX</th>\n",
       "      <th>peopleName</th>\n",
       "      <th>trialName</th>\n",
       "      <th>peopleTrialKey</th>\n",
       "      <th>datetimeNew</th>\n",
       "      <th>crash</th>\n",
       "      <th>seconds_shift</th>\n",
       "      <th>time_gap</th>\n",
       "    </tr>\n",
       "  </thead>\n",
       "  <tbody>\n",
       "    <tr>\n",
       "      <th>1177</th>\n",
       "      <td>22.398</td>\n",
       "      <td>4</td>\n",
       "      <td>59.436035</td>\n",
       "      <td>94.134567</td>\n",
       "      <td>-0.880920</td>\n",
       "      <td>1_co_P13</td>\n",
       "      <td>12_600back_Block3_trial_012.csv</td>\n",
       "      <td>1_co_P13/12_600back_Block3_trial_012.csv</td>\n",
       "      <td>1970-01-01 00:00:22.398</td>\n",
       "      <td>0.0</td>\n",
       "      <td>0.000</td>\n",
       "      <td>22.398</td>\n",
       "    </tr>\n",
       "    <tr>\n",
       "      <th>2137</th>\n",
       "      <td>35.087</td>\n",
       "      <td>4</td>\n",
       "      <td>-60.455017</td>\n",
       "      <td>-11.415452</td>\n",
       "      <td>0.843781</td>\n",
       "      <td>1_co_P13</td>\n",
       "      <td>12_600back_Block3_trial_012.csv</td>\n",
       "      <td>1_co_P13/12_600back_Block3_trial_012.csv</td>\n",
       "      <td>1970-01-01 00:00:35.087</td>\n",
       "      <td>1.0</td>\n",
       "      <td>22.398</td>\n",
       "      <td>12.689</td>\n",
       "    </tr>\n",
       "    <tr>\n",
       "      <th>4174</th>\n",
       "      <td>71.218</td>\n",
       "      <td>4</td>\n",
       "      <td>-60.578613</td>\n",
       "      <td>2.456897</td>\n",
       "      <td>0.820343</td>\n",
       "      <td>1_co_P13</td>\n",
       "      <td>12_600back_Block3_trial_012.csv</td>\n",
       "      <td>1_co_P13/12_600back_Block3_trial_012.csv</td>\n",
       "      <td>1970-01-01 00:01:11.218</td>\n",
       "      <td>1.0</td>\n",
       "      <td>35.087</td>\n",
       "      <td>36.131</td>\n",
       "    </tr>\n",
       "    <tr>\n",
       "      <th>5255</th>\n",
       "      <td>87.480</td>\n",
       "      <td>4</td>\n",
       "      <td>60.262756</td>\n",
       "      <td>44.052488</td>\n",
       "      <td>-0.579346</td>\n",
       "      <td>1_co_P13</td>\n",
       "      <td>12_600back_Block3_trial_012.csv</td>\n",
       "      <td>1_co_P13/12_600back_Block3_trial_012.csv</td>\n",
       "      <td>1970-01-01 00:01:27.480</td>\n",
       "      <td>1.0</td>\n",
       "      <td>71.218</td>\n",
       "      <td>16.262</td>\n",
       "    </tr>\n",
       "    <tr>\n",
       "      <th>6060</th>\n",
       "      <td>97.565</td>\n",
       "      <td>4</td>\n",
       "      <td>-60.367126</td>\n",
       "      <td>-27.508665</td>\n",
       "      <td>0.796906</td>\n",
       "      <td>1_co_P13</td>\n",
       "      <td>12_600back_Block3_trial_012.csv</td>\n",
       "      <td>1_co_P13/12_600back_Block3_trial_012.csv</td>\n",
       "      <td>1970-01-01 00:01:37.565</td>\n",
       "      <td>1.0</td>\n",
       "      <td>87.480</td>\n",
       "      <td>10.085</td>\n",
       "    </tr>\n",
       "  </tbody>\n",
       "</table>\n",
       "</div>"
      ],
      "text/plain": [
       "      seconds  trialPhase  currentPosRoll  currentVelRoll  joystickX  \\\n",
       "1177   22.398           4       59.436035       94.134567  -0.880920   \n",
       "2137   35.087           4      -60.455017      -11.415452   0.843781   \n",
       "4174   71.218           4      -60.578613        2.456897   0.820343   \n",
       "5255   87.480           4       60.262756       44.052488  -0.579346   \n",
       "6060   97.565           4      -60.367126      -27.508665   0.796906   \n",
       "\n",
       "     peopleName                        trialName  \\\n",
       "1177   1_co_P13  12_600back_Block3_trial_012.csv   \n",
       "2137   1_co_P13  12_600back_Block3_trial_012.csv   \n",
       "4174   1_co_P13  12_600back_Block3_trial_012.csv   \n",
       "5255   1_co_P13  12_600back_Block3_trial_012.csv   \n",
       "6060   1_co_P13  12_600back_Block3_trial_012.csv   \n",
       "\n",
       "                                peopleTrialKey             datetimeNew  crash  \\\n",
       "1177  1_co_P13/12_600back_Block3_trial_012.csv 1970-01-01 00:00:22.398    0.0   \n",
       "2137  1_co_P13/12_600back_Block3_trial_012.csv 1970-01-01 00:00:35.087    1.0   \n",
       "4174  1_co_P13/12_600back_Block3_trial_012.csv 1970-01-01 00:01:11.218    1.0   \n",
       "5255  1_co_P13/12_600back_Block3_trial_012.csv 1970-01-01 00:01:27.480    1.0   \n",
       "6060  1_co_P13/12_600back_Block3_trial_012.csv 1970-01-01 00:01:37.565    1.0   \n",
       "\n",
       "      seconds_shift  time_gap  \n",
       "1177          0.000    22.398  \n",
       "2137         22.398    12.689  \n",
       "4174         35.087    36.131  \n",
       "5255         71.218    16.262  \n",
       "6060         87.480    10.085  "
      ]
     },
     "execution_count": 108,
     "metadata": {},
     "output_type": "execute_result"
    }
   ],
   "source": [
    "# test['seconds_shift'] = test['seconds'].shift(1)\n",
    "# test.fillna(0, inplace=True)\n",
    "# test['time_gap'] = test['seconds'] - test['seconds_shift']\n",
    "# for i in test.peopleTrialKey:\n",
    "for sec in test.seconds\n",
    "    [data_needed.peopleTrialKey=='1_co_P13/12_600back_Block3_trial_012.csv'] test.seconds \n",
    "    "
   ]
  },
  {
   "cell_type": "code",
   "execution_count": 140,
   "metadata": {},
   "outputs": [],
   "source": [
    "# mmm = pd.DataFrame()\n",
    "# for i in range(len(test.seconds)):\n",
    "#     sec_1 = test.seconds_shift.iloc[i]\n",
    "#     sec_2 = test.seconds.iloc[i]\n",
    "#     print(i,sec_1, sec_2)\n",
    "#     x = data_needed[ (data_needed.peopleTrialKey == '1_co_P13/12_600back_Block3_trial_012.csv') &\\\n",
    "#      (data_needed.seconds > sec_1) & (data_needed.seconds <= sec_2 ) ] \n",
    "#     mmm = pd.concat([x, mmm])\n",
    "# mmm"
   ]
  },
  {
   "cell_type": "code",
   "execution_count": 141,
   "metadata": {},
   "outputs": [],
   "source": [
    "# mmm[mmm.trialPhase == 4]"
   ]
  },
  {
   "cell_type": "code",
   "execution_count": 57,
   "metadata": {},
   "outputs": [
    {
     "name": "stdout",
     "output_type": "stream",
     "text": [
      "0\n",
      "1\n"
     ]
    }
   ],
   "source": [
    "from datetime import timedelta\n",
    "\n",
    "#### crash event data with features within 1 second\n",
    "time_gap = timedelta(seconds = 1)\n",
    "crash_feature_label22 = pd.DataFrame()\n",
    "for num in range(len(peopleTrialHasCrash[0:2])):\n",
    "    j = peopleTrialHasCrash[0:2][num]\n",
    "    print(num)\n",
    "    for i in (data_human.loc[(data_human['crash']==1) &\\\n",
    "                        ((data_human['peopleTrialKey'] == j)),'datetimeNew']):\n",
    "        \n",
    "        temp_df = pd.concat([data_human[(data_human.datetimeNew <= i) &\\\n",
    "                        (data_human.datetimeNew >= i - time_gap) \\\n",
    "                      &(data_human['peopleTrialKey'] == j)]]) \n",
    "\n",
    "        arr1 = np.array(temp_df[['seconds', 'currentPosRoll','currentVelRoll','joystickX']])\n",
    "        arr2 = np.array(temp_df['crash'].iloc[-1])\n",
    "        crash_feature_label22 = pd.concat([crash_feature_label22, pd.DataFrame([[arr1, arr2]], columns=[\"features\",'label']) ])                           "
   ]
  },
  {
   "cell_type": "code",
   "execution_count": 88,
   "metadata": {},
   "outputs": [],
   "source": [
    "crash_feature_label22 = crash_feature_label22.rename(columns={\"features\": \"features ['seconds', 'currentPosRoll','currentVelRoll','joystickX']\"})\n",
    "crash_feature_label22.to_csv('crash_feature_label22.csv', sep=';')"
   ]
  },
  {
   "cell_type": "code",
   "execution_count": 94,
   "metadata": {},
   "outputs": [],
   "source": [
    "crash_feature_label22 = pd.read_csv('crash_feature_label22.csv', sep=';')\n",
    "\n",
    "# crash_feature_label22[\"features ['seconds', 'currentPosRoll','currentVelRoll','joystickX']\"].apply(parser)[0]"
   ]
  },
  {
   "cell_type": "code",
   "execution_count": 87,
   "metadata": {},
   "outputs": [],
   "source": [
    "def parser(astr):\n",
    "    astr.split('\\n')                                                      \n",
    "    astr.replace('[','').replace(']','').split('\\n')                      \n",
    "    [i.split() for i in _]                                                \n",
    "    return np.array(_)"
   ]
  },
  {
   "cell_type": "code",
   "execution_count": null,
   "metadata": {},
   "outputs": [],
   "source": [
    "crash_feature_label22"
   ]
  },
  {
   "cell_type": "code",
   "execution_count": 145,
   "metadata": {},
   "outputs": [
    {
     "data": {
      "text/html": [
       "<div>\n",
       "<style scoped>\n",
       "    .dataframe tbody tr th:only-of-type {\n",
       "        vertical-align: middle;\n",
       "    }\n",
       "\n",
       "    .dataframe tbody tr th {\n",
       "        vertical-align: top;\n",
       "    }\n",
       "\n",
       "    .dataframe thead th {\n",
       "        text-align: right;\n",
       "    }\n",
       "</style>\n",
       "<table border=\"1\" class=\"dataframe\">\n",
       "  <thead>\n",
       "    <tr style=\"text-align: right;\">\n",
       "      <th></th>\n",
       "      <th>features['seconds', 'currentPosRoll','currentVelRoll','joystickX']</th>\n",
       "      <th>label</th>\n",
       "    </tr>\n",
       "  </thead>\n",
       "  <tbody>\n",
       "    <tr>\n",
       "      <th>0</th>\n",
       "      <td>[[ 3.40890000e+01 -2.40600586e+01 -5.96092610e...</td>\n",
       "      <td>1.0</td>\n",
       "    </tr>\n",
       "    <tr>\n",
       "      <th>1</th>\n",
       "      <td>[[ 7.02250000e+01 -3.75238037e+01  8.03587800e...</td>\n",
       "      <td>1.0</td>\n",
       "    </tr>\n",
       "    <tr>\n",
       "      <th>2</th>\n",
       "      <td>[[ 8.64910000e+01  4.98175049e+01 -5.57898000e...</td>\n",
       "      <td>1.0</td>\n",
       "    </tr>\n",
       "    <tr>\n",
       "      <th>3</th>\n",
       "      <td>[[ 9.65780000e+01 -3.40493774e+01 -1.28316550e...</td>\n",
       "      <td>1.0</td>\n",
       "    </tr>\n",
       "    <tr>\n",
       "      <th>4</th>\n",
       "      <td>[[ 3.93060000e+01  4.98559570e+01 -4.29581500e...</td>\n",
       "      <td>1.0</td>\n",
       "    </tr>\n",
       "    <tr>\n",
       "      <th>...</th>\n",
       "      <td>...</td>\n",
       "      <td>...</td>\n",
       "    </tr>\n",
       "    <tr>\n",
       "      <th>4295</th>\n",
       "      <td>[[ 9.62230000e+01  4.98504639e+00  4.48249620e...</td>\n",
       "      <td>1.0</td>\n",
       "    </tr>\n",
       "    <tr>\n",
       "      <th>4296</th>\n",
       "      <td>[[ 5.04000000e+00  1.19091797e+01 -4.04690660e...</td>\n",
       "      <td>1.0</td>\n",
       "    </tr>\n",
       "    <tr>\n",
       "      <th>4297</th>\n",
       "      <td>[[ 1.31560000e+01  3.77380371e+00  4.49912590e...</td>\n",
       "      <td>1.0</td>\n",
       "    </tr>\n",
       "    <tr>\n",
       "      <th>4298</th>\n",
       "      <td>[[ 6.58010000e+01  3.38104248e+00  4.06782780e...</td>\n",
       "      <td>1.0</td>\n",
       "    </tr>\n",
       "    <tr>\n",
       "      <th>4299</th>\n",
       "      <td>[[ 1.02042000e+02 -7.87994385e+00  2.41934600e...</td>\n",
       "      <td>1.0</td>\n",
       "    </tr>\n",
       "  </tbody>\n",
       "</table>\n",
       "<p>4300 rows × 2 columns</p>\n",
       "</div>"
      ],
      "text/plain": [
       "     features['seconds', 'currentPosRoll','currentVelRoll','joystickX']  label\n",
       "0     [[ 3.40890000e+01 -2.40600586e+01 -5.96092610e...                    1.0\n",
       "1     [[ 7.02250000e+01 -3.75238037e+01  8.03587800e...                    1.0\n",
       "2     [[ 8.64910000e+01  4.98175049e+01 -5.57898000e...                    1.0\n",
       "3     [[ 9.65780000e+01 -3.40493774e+01 -1.28316550e...                    1.0\n",
       "4     [[ 3.93060000e+01  4.98559570e+01 -4.29581500e...                    1.0\n",
       "...                                                 ...                    ...\n",
       "4295  [[ 9.62230000e+01  4.98504639e+00  4.48249620e...                    1.0\n",
       "4296  [[ 5.04000000e+00  1.19091797e+01 -4.04690660e...                    1.0\n",
       "4297  [[ 1.31560000e+01  3.77380371e+00  4.49912590e...                    1.0\n",
       "4298  [[ 6.58010000e+01  3.38104248e+00  4.06782780e...                    1.0\n",
       "4299  [[ 1.02042000e+02 -7.87994385e+00  2.41934600e...                    1.0\n",
       "\n",
       "[4300 rows x 2 columns]"
      ]
     },
     "execution_count": 145,
     "metadata": {},
     "output_type": "execute_result"
    }
   ],
   "source": [
    "crash_feature_label[[\"features['seconds', 'currentPosRoll','currentVelRoll','joystickX']\", \"label\"]]"
   ]
  },
  {
   "cell_type": "code",
   "execution_count": 50,
   "metadata": {},
   "outputs": [
    {
     "data": {
      "text/plain": [
       "array('[[ 3.40890000e+01 -2.40600586e+01 -5.96092610e+01  4.76593000e-01]\\n [ 3.41090000e+01 -2.49142456e+01 -5.94376000e+01  5.07843000e-01]\\n [ 3.41300000e+01 -2.58151245e+01 -5.55752290e+01  5.07843000e-01]\\n [ 3.41520000e+01 -2.67791748e+01 -5.49315000e+01  4.60968000e-01]\\n [ 3.41730000e+01 -2.77954102e+01 -5.15411960e+01  4.29718000e-01]\\n [ 3.41930000e+01 -2.87896729e+01 -5.22278400e+01  4.53156000e-01]\\n [ 3.42140000e+01 -2.97509766e+01 -4.94383500e+01  5.46906000e-01]\\n [ 3.42360000e+01 -3.07452393e+01 -4.88804520e+01  5.78156000e-01]\\n [ 3.42560000e+01 -3.17861938e+01 -4.52326570e+01  6.64093000e-01]\\n [ 3.42780000e+01 -3.27255249e+01 -4.45030980e+01  6.64093000e-01]\\n [ 3.42980000e+01 -3.37417603e+01 -3.93961850e+01  6.40656000e-01]\\n [ 3.43180000e+01 -3.46646118e+01 -3.90528630e+01  6.32843000e-01]\\n [ 3.43380000e+01 -3.55709839e+01 -3.43321870e+01  6.64093000e-01]\\n [ 3.43600000e+01 -3.64691162e+01 -3.38601200e+01  7.26593000e-01]\\n [ 3.43820000e+01 -3.74194336e+01 -2.91394440e+01  7.18781000e-01]\\n [ 3.44040000e+01 -3.83367920e+01 -2.79378180e+01  6.71906000e-01]\\n [ 3.44240000e+01 -3.92074585e+01 -2.41612770e+01  5.62531000e-01]\\n [ 3.44440000e+01 -3.99765015e+01 -2.33888030e+01  5.07843000e-01]\\n [ 3.44660000e+01 -4.07235718e+01 -2.13288710e+01  5.07843000e-01]\\n [ 3.44850000e+01 -4.14596558e+01 -2.15005320e+01  5.15656000e-01]\\n [ 3.45050000e+01 -4.21188354e+01 -2.03418210e+01  5.15656000e-01]\\n [ 3.45270000e+01 -4.27587891e+01 -1.90114490e+01  4.92218000e-01]\\n [ 3.45490000e+01 -4.34262085e+01 -1.86252120e+01  4.14093000e-01]\\n [ 3.45710000e+01 -4.40661621e+01 -1.86681270e+01  3.20343000e-01]\\n [ 3.45930000e+01 -4.46841431e+01 -1.98697540e+01  1.09406000e-01]\\n [ 3.46130000e+01 -4.52828979e+01 -2.18009390e+01  1.56560000e-02]\\n [ 3.46330000e+01 -4.58184814e+01 -2.55345640e+01 -0.00000000e+00]\\n [ 3.46530000e+01 -4.63513184e+01 -2.99548340e+01  3.12810000e-02]\\n [ 3.46750000e+01 -4.68869019e+01 -3.34738830e+01  1.32843000e-01]\\n [ 3.46960000e+01 -4.74829102e+01 -3.85378800e+01  2.50031000e-01]\\n [ 3.47180000e+01 -4.80651855e+01 -4.08982180e+01  4.53156000e-01]\\n [ 3.47390000e+01 -4.87188721e+01 -4.30868950e+01  5.23468000e-01]\\n [ 3.47590000e+01 -4.93670654e+01 -4.22285910e+01  5.78156000e-01]\\n [ 3.47800000e+01 -5.00427246e+01 -4.26577430e+01  6.40656000e-01]\\n [ 3.48020000e+01 -5.07733154e+01 -4.04261510e+01  6.64093000e-01]\\n [ 3.48230000e+01 -5.15698242e+01 -4.02115750e+01  6.64093000e-01]\\n [ 3.48450000e+01 -5.23416138e+01 -3.81087280e+01  6.64093000e-01]\\n [ 3.48670000e+01 -5.31573486e+01 -3.71216780e+01  7.26593000e-01]\\n [ 3.48890000e+01 -5.39620972e+01 -3.58342210e+01  7.89093000e-01]\\n [ 3.49110000e+01 -5.47558594e+01 -3.39030350e+01  8.12531000e-01]\\n [ 3.49320000e+01 -5.55029297e+01 -3.15426970e+01  8.12531000e-01]\\n [ 3.49520000e+01 -5.62664795e+01 -2.92681900e+01  8.12531000e-01]\\n [ 3.49710000e+01 -5.69229126e+01 -2.65645300e+01  8.28156000e-01]\\n [ 3.49930000e+01 -5.76068115e+01 -2.38608700e+01  8.43781000e-01]\\n [ 3.50140000e+01 -5.82934570e+01 -2.04705670e+01  8.35968000e-01]\\n [ 3.50360000e+01 -5.89855957e+01 -1.84535510e+01  8.35968000e-01]\\n [ 3.50570000e+01 -5.96447754e+01 -1.51061620e+01  8.35968000e-01]\\n [ 3.50790000e+01 -6.02380371e+01 -1.37328750e+01  8.43781000e-01]\\n [ 3.50870000e+01 -6.04550171e+01 -1.14154520e+01  8.43781000e-01]]',\n",
       "      dtype='<U3283')"
      ]
     },
     "execution_count": 50,
     "metadata": {},
     "output_type": "execute_result"
    }
   ],
   "source": [
    "import numpy as np\n",
    "np.array(crash_feature_label[\"features['seconds', 'currentPosRoll','currentVelRoll','joystickX']\"][0])"
   ]
  },
  {
   "cell_type": "code",
   "execution_count": 101,
   "metadata": {},
   "outputs": [],
   "source": [
    "### find two crash events which happened within 2 seconds\n",
    "\n",
    "# close_crash_event = pd.DataFrame()\n",
    "# for num in range(len(peopleTrialHasCrash)):\n",
    "#     j = peopleTrialHasCrash[num]\n",
    "#     print(num)\n",
    "#     temp_df = data_human[(data_human['crash']==1) &\\\n",
    "#                         ((data_human['peopleTrialKey'] == j))]\n",
    "#     temp_df['datetimeNewShift'] = temp_df.datetimeNew.shift(1)\n",
    "#     temp_df.fillna(pd.to_datetime(0), inplace=True)\n",
    "#     temp_df = temp_df[(temp_df.datetimeNew - temp_df.datetimeNewShift) <= timedelta(seconds = 2)]\n",
    "    \n",
    "#     close_crash_event = pd.concat([close_crash_event, temp_df])"
   ]
  },
  {
   "cell_type": "code",
   "execution_count": 99,
   "metadata": {},
   "outputs": [],
   "source": [
    "close_crash_event.to_csv('close_crash_event_2S.csv')"
   ]
  },
  {
   "cell_type": "code",
   "execution_count": 100,
   "metadata": {},
   "outputs": [
    {
     "data": {
      "text/html": [
       "<div>\n",
       "<style scoped>\n",
       "    .dataframe tbody tr th:only-of-type {\n",
       "        vertical-align: middle;\n",
       "    }\n",
       "\n",
       "    .dataframe tbody tr th {\n",
       "        vertical-align: top;\n",
       "    }\n",
       "\n",
       "    .dataframe thead th {\n",
       "        text-align: right;\n",
       "    }\n",
       "</style>\n",
       "<table border=\"1\" class=\"dataframe\">\n",
       "  <thead>\n",
       "    <tr style=\"text-align: right;\">\n",
       "      <th></th>\n",
       "      <th>seconds</th>\n",
       "      <th>trialPhase</th>\n",
       "      <th>currentPosRoll</th>\n",
       "      <th>currentVelRoll</th>\n",
       "      <th>joystickX</th>\n",
       "      <th>peopleName</th>\n",
       "      <th>trialName</th>\n",
       "      <th>peopleTrialKey</th>\n",
       "      <th>datetimeNew</th>\n",
       "      <th>crash</th>\n",
       "      <th>datetimeNewShift</th>\n",
       "    </tr>\n",
       "  </thead>\n",
       "  <tbody>\n",
       "    <tr>\n",
       "      <th>2808994</th>\n",
       "      <td>28.237</td>\n",
       "      <td>4</td>\n",
       "      <td>62.259521</td>\n",
       "      <td>-0.472068</td>\n",
       "      <td>-0.960266</td>\n",
       "      <td>1_ml_P27</td>\n",
       "      <td>17_600back_Block5_trial_017.csv</td>\n",
       "      <td>1_ml_P27/17_600back_Block5_trial_017.csv</td>\n",
       "      <td>1970-01-01 00:00:28.237</td>\n",
       "      <td>1.0</td>\n",
       "      <td>1970-01-01 00:00:28.188</td>\n",
       "    </tr>\n",
       "    <tr>\n",
       "      <th>3013488</th>\n",
       "      <td>100.968</td>\n",
       "      <td>4</td>\n",
       "      <td>63.176880</td>\n",
       "      <td>-0.429152</td>\n",
       "      <td>-0.999969</td>\n",
       "      <td>2_js_P9/</td>\n",
       "      <td>9_600back_Block3_trial_009.csv</td>\n",
       "      <td>2_js_P9/09_600back_Block3_trial_009.csv</td>\n",
       "      <td>1970-01-01 00:01:40.968</td>\n",
       "      <td>1.0</td>\n",
       "      <td>1970-01-01 00:01:40.912</td>\n",
       "    </tr>\n",
       "    <tr>\n",
       "      <th>5412600</th>\n",
       "      <td>69.881</td>\n",
       "      <td>4</td>\n",
       "      <td>-61.548157</td>\n",
       "      <td>0.439881</td>\n",
       "      <td>0.646179</td>\n",
       "      <td>2_ak_P6/</td>\n",
       "      <td>9_600back_Block5_trial_019.csv</td>\n",
       "      <td>2_ak_P6/19_600back_Block5_trial_019.csv</td>\n",
       "      <td>1970-01-01 00:01:09.881</td>\n",
       "      <td>1.0</td>\n",
       "      <td>1970-01-01 00:01:09.829</td>\n",
       "    </tr>\n",
       "    <tr>\n",
       "      <th>6494149</th>\n",
       "      <td>30.638</td>\n",
       "      <td>4</td>\n",
       "      <td>62.811584</td>\n",
       "      <td>-0.343322</td>\n",
       "      <td>-0.944397</td>\n",
       "      <td>2_as_P31</td>\n",
       "      <td>20_600back_Block5_trial_020.csv</td>\n",
       "      <td>2_as_P31/20_600back_Block5_trial_020.csv</td>\n",
       "      <td>1970-01-01 00:00:30.638</td>\n",
       "      <td>1.0</td>\n",
       "      <td>1970-01-01 00:00:30.587</td>\n",
       "    </tr>\n",
       "    <tr>\n",
       "      <th>6595079</th>\n",
       "      <td>82.005</td>\n",
       "      <td>4</td>\n",
       "      <td>63.286743</td>\n",
       "      <td>-0.557898</td>\n",
       "      <td>-0.944397</td>\n",
       "      <td>2_as_P31</td>\n",
       "      <td>17_600back_Block5_trial_017.csv</td>\n",
       "      <td>2_as_P31/17_600back_Block5_trial_017.csv</td>\n",
       "      <td>1970-01-01 00:01:22.005</td>\n",
       "      <td>1.0</td>\n",
       "      <td>1970-01-01 00:01:21.953</td>\n",
       "    </tr>\n",
       "    <tr>\n",
       "      <th>6712373</th>\n",
       "      <td>74.624</td>\n",
       "      <td>4</td>\n",
       "      <td>-68.524475</td>\n",
       "      <td>0.563262</td>\n",
       "      <td>0.961548</td>\n",
       "      <td>2_rl_P3/</td>\n",
       "      <td>3_600back_Block1_trial_003.csv</td>\n",
       "      <td>2_rl_P3/03_600back_Block1_trial_003.csv</td>\n",
       "      <td>1970-01-01 00:01:14.624</td>\n",
       "      <td>1.0</td>\n",
       "      <td>1970-01-01 00:01:14.569</td>\n",
       "    </tr>\n",
       "    <tr>\n",
       "      <th>8690155</th>\n",
       "      <td>31.441</td>\n",
       "      <td>4</td>\n",
       "      <td>60.397339</td>\n",
       "      <td>-0.557898</td>\n",
       "      <td>-0.419342</td>\n",
       "      <td>1_ss_P1/</td>\n",
       "      <td>9_600back_Block5_trial_019.csv</td>\n",
       "      <td>1_ss_P1/19_600back_Block5_trial_019.csv</td>\n",
       "      <td>1970-01-01 00:00:31.441</td>\n",
       "      <td>1.0</td>\n",
       "      <td>1970-01-01 00:00:31.386</td>\n",
       "    </tr>\n",
       "    <tr>\n",
       "      <th>8930674</th>\n",
       "      <td>109.046</td>\n",
       "      <td>4</td>\n",
       "      <td>61.531677</td>\n",
       "      <td>-0.557898</td>\n",
       "      <td>-0.563446</td>\n",
       "      <td>1_bp_P12</td>\n",
       "      <td>11_600back_Block3_trial_011.csv</td>\n",
       "      <td>1_bp_P12/11_600back_Block3_trial_011.csv</td>\n",
       "      <td>1970-01-01 00:01:49.046</td>\n",
       "      <td>1.0</td>\n",
       "      <td>1970-01-01 00:01:48.990</td>\n",
       "    </tr>\n",
       "    <tr>\n",
       "      <th>9311026</th>\n",
       "      <td>51.947</td>\n",
       "      <td>4</td>\n",
       "      <td>62.026062</td>\n",
       "      <td>-0.429152</td>\n",
       "      <td>-0.769806</td>\n",
       "      <td>1_nr_P25</td>\n",
       "      <td>03_600back_Block1_trial_003.csv</td>\n",
       "      <td>1_nr_P25/03_600back_Block1_trial_003.csv</td>\n",
       "      <td>1970-01-01 00:00:51.947</td>\n",
       "      <td>1.0</td>\n",
       "      <td>1970-01-01 00:00:51.894</td>\n",
       "    </tr>\n",
       "  </tbody>\n",
       "</table>\n",
       "</div>"
      ],
      "text/plain": [
       "         seconds  trialPhase  currentPosRoll  currentVelRoll  joystickX  \\\n",
       "2808994   28.237           4       62.259521       -0.472068  -0.960266   \n",
       "3013488  100.968           4       63.176880       -0.429152  -0.999969   \n",
       "5412600   69.881           4      -61.548157        0.439881   0.646179   \n",
       "6494149   30.638           4       62.811584       -0.343322  -0.944397   \n",
       "6595079   82.005           4       63.286743       -0.557898  -0.944397   \n",
       "6712373   74.624           4      -68.524475        0.563262   0.961548   \n",
       "8690155   31.441           4       60.397339       -0.557898  -0.419342   \n",
       "8930674  109.046           4       61.531677       -0.557898  -0.563446   \n",
       "9311026   51.947           4       62.026062       -0.429152  -0.769806   \n",
       "\n",
       "        peopleName                        trialName  \\\n",
       "2808994   1_ml_P27  17_600back_Block5_trial_017.csv   \n",
       "3013488   2_js_P9/   9_600back_Block3_trial_009.csv   \n",
       "5412600   2_ak_P6/   9_600back_Block5_trial_019.csv   \n",
       "6494149   2_as_P31  20_600back_Block5_trial_020.csv   \n",
       "6595079   2_as_P31  17_600back_Block5_trial_017.csv   \n",
       "6712373   2_rl_P3/   3_600back_Block1_trial_003.csv   \n",
       "8690155   1_ss_P1/   9_600back_Block5_trial_019.csv   \n",
       "8930674   1_bp_P12  11_600back_Block3_trial_011.csv   \n",
       "9311026   1_nr_P25  03_600back_Block1_trial_003.csv   \n",
       "\n",
       "                                   peopleTrialKey             datetimeNew  \\\n",
       "2808994  1_ml_P27/17_600back_Block5_trial_017.csv 1970-01-01 00:00:28.237   \n",
       "3013488   2_js_P9/09_600back_Block3_trial_009.csv 1970-01-01 00:01:40.968   \n",
       "5412600   2_ak_P6/19_600back_Block5_trial_019.csv 1970-01-01 00:01:09.881   \n",
       "6494149  2_as_P31/20_600back_Block5_trial_020.csv 1970-01-01 00:00:30.638   \n",
       "6595079  2_as_P31/17_600back_Block5_trial_017.csv 1970-01-01 00:01:22.005   \n",
       "6712373   2_rl_P3/03_600back_Block1_trial_003.csv 1970-01-01 00:01:14.624   \n",
       "8690155   1_ss_P1/19_600back_Block5_trial_019.csv 1970-01-01 00:00:31.441   \n",
       "8930674  1_bp_P12/11_600back_Block3_trial_011.csv 1970-01-01 00:01:49.046   \n",
       "9311026  1_nr_P25/03_600back_Block1_trial_003.csv 1970-01-01 00:00:51.947   \n",
       "\n",
       "         crash        datetimeNewShift  \n",
       "2808994    1.0 1970-01-01 00:00:28.188  \n",
       "3013488    1.0 1970-01-01 00:01:40.912  \n",
       "5412600    1.0 1970-01-01 00:01:09.829  \n",
       "6494149    1.0 1970-01-01 00:00:30.587  \n",
       "6595079    1.0 1970-01-01 00:01:21.953  \n",
       "6712373    1.0 1970-01-01 00:01:14.569  \n",
       "8690155    1.0 1970-01-01 00:00:31.386  \n",
       "8930674    1.0 1970-01-01 00:01:48.990  \n",
       "9311026    1.0 1970-01-01 00:00:51.894  "
      ]
     },
     "execution_count": 100,
     "metadata": {},
     "output_type": "execute_result"
    }
   ],
   "source": [
    "close_crash_event"
   ]
  },
  {
   "cell_type": "code",
   "execution_count": 116,
   "metadata": {},
   "outputs": [
    {
     "data": {
      "text/html": [
       "<div>\n",
       "<style scoped>\n",
       "    .dataframe tbody tr th:only-of-type {\n",
       "        vertical-align: middle;\n",
       "    }\n",
       "\n",
       "    .dataframe tbody tr th {\n",
       "        vertical-align: top;\n",
       "    }\n",
       "\n",
       "    .dataframe thead th {\n",
       "        text-align: right;\n",
       "    }\n",
       "</style>\n",
       "<table border=\"1\" class=\"dataframe\">\n",
       "  <thead>\n",
       "    <tr style=\"text-align: right;\">\n",
       "      <th></th>\n",
       "      <th>seconds</th>\n",
       "      <th>trialPhase</th>\n",
       "      <th>currentPosRoll</th>\n",
       "      <th>currentVelRoll</th>\n",
       "      <th>joystickX</th>\n",
       "      <th>peopleName</th>\n",
       "      <th>trialName</th>\n",
       "      <th>peopleTrialKey</th>\n",
       "      <th>datetimeNew</th>\n",
       "      <th>crash</th>\n",
       "    </tr>\n",
       "  </thead>\n",
       "  <tbody>\n",
       "    <tr>\n",
       "      <th>2137</th>\n",
       "      <td>35.087</td>\n",
       "      <td>4</td>\n",
       "      <td>-60.455017</td>\n",
       "      <td>-11.415452</td>\n",
       "      <td>0.843781</td>\n",
       "      <td>1_co_P13</td>\n",
       "      <td>12_600back_Block3_trial_012.csv</td>\n",
       "      <td>1_co_P13/12_600back_Block3_trial_012.csv</td>\n",
       "      <td>1970-01-01 00:00:35.087</td>\n",
       "      <td>1.0</td>\n",
       "    </tr>\n",
       "    <tr>\n",
       "      <th>4174</th>\n",
       "      <td>71.218</td>\n",
       "      <td>4</td>\n",
       "      <td>-60.578613</td>\n",
       "      <td>2.456897</td>\n",
       "      <td>0.820343</td>\n",
       "      <td>1_co_P13</td>\n",
       "      <td>12_600back_Block3_trial_012.csv</td>\n",
       "      <td>1_co_P13/12_600back_Block3_trial_012.csv</td>\n",
       "      <td>1970-01-01 00:01:11.218</td>\n",
       "      <td>1.0</td>\n",
       "    </tr>\n",
       "    <tr>\n",
       "      <th>5255</th>\n",
       "      <td>87.480</td>\n",
       "      <td>4</td>\n",
       "      <td>60.262756</td>\n",
       "      <td>44.052488</td>\n",
       "      <td>-0.579346</td>\n",
       "      <td>1_co_P13</td>\n",
       "      <td>12_600back_Block3_trial_012.csv</td>\n",
       "      <td>1_co_P13/12_600back_Block3_trial_012.csv</td>\n",
       "      <td>1970-01-01 00:01:27.480</td>\n",
       "      <td>1.0</td>\n",
       "    </tr>\n",
       "    <tr>\n",
       "      <th>6060</th>\n",
       "      <td>97.565</td>\n",
       "      <td>4</td>\n",
       "      <td>-60.367126</td>\n",
       "      <td>-27.508665</td>\n",
       "      <td>0.796906</td>\n",
       "      <td>1_co_P13</td>\n",
       "      <td>12_600back_Block3_trial_012.csv</td>\n",
       "      <td>1_co_P13/12_600back_Block3_trial_012.csv</td>\n",
       "      <td>1970-01-01 00:01:37.565</td>\n",
       "      <td>1.0</td>\n",
       "    </tr>\n",
       "    <tr>\n",
       "      <th>9345</th>\n",
       "      <td>40.297</td>\n",
       "      <td>4</td>\n",
       "      <td>60.216064</td>\n",
       "      <td>27.438928</td>\n",
       "      <td>-0.722198</td>\n",
       "      <td>1_co_P13</td>\n",
       "      <td>20_600back_Block5_trial_020.csv</td>\n",
       "      <td>1_co_P13/20_600back_Block5_trial_020.csv</td>\n",
       "      <td>1970-01-01 00:00:40.297</td>\n",
       "      <td>1.0</td>\n",
       "    </tr>\n",
       "  </tbody>\n",
       "</table>\n",
       "</div>"
      ],
      "text/plain": [
       "      seconds  trialPhase  currentPosRoll  currentVelRoll  joystickX  \\\n",
       "2137   35.087           4      -60.455017      -11.415452   0.843781   \n",
       "4174   71.218           4      -60.578613        2.456897   0.820343   \n",
       "5255   87.480           4       60.262756       44.052488  -0.579346   \n",
       "6060   97.565           4      -60.367126      -27.508665   0.796906   \n",
       "9345   40.297           4       60.216064       27.438928  -0.722198   \n",
       "\n",
       "     peopleName                        trialName  \\\n",
       "2137   1_co_P13  12_600back_Block3_trial_012.csv   \n",
       "4174   1_co_P13  12_600back_Block3_trial_012.csv   \n",
       "5255   1_co_P13  12_600back_Block3_trial_012.csv   \n",
       "6060   1_co_P13  12_600back_Block3_trial_012.csv   \n",
       "9345   1_co_P13  20_600back_Block5_trial_020.csv   \n",
       "\n",
       "                                peopleTrialKey             datetimeNew  crash  \n",
       "2137  1_co_P13/12_600back_Block3_trial_012.csv 1970-01-01 00:00:35.087    1.0  \n",
       "4174  1_co_P13/12_600back_Block3_trial_012.csv 1970-01-01 00:01:11.218    1.0  \n",
       "5255  1_co_P13/12_600back_Block3_trial_012.csv 1970-01-01 00:01:27.480    1.0  \n",
       "6060  1_co_P13/12_600back_Block3_trial_012.csv 1970-01-01 00:01:37.565    1.0  \n",
       "9345  1_co_P13/20_600back_Block5_trial_020.csv 1970-01-01 00:00:40.297    1.0  "
      ]
     },
     "execution_count": 116,
     "metadata": {},
     "output_type": "execute_result"
    }
   ],
   "source": [
    "### exclude all those close crash events  \n",
    "all_crash_event = data_human[data_human.crash==1]\n",
    "ind = data_human[data_human.crash==1].index.isin(close_crash_event.index) \n",
    "all_crash_event_excludClose = all_crash_event[~ind]\n",
    "all_crash_event_excludClose.head()"
   ]
  },
  {
   "cell_type": "code",
   "execution_count": null,
   "metadata": {},
   "outputs": [],
   "source": [
    "##### non-crash event data with features within 1 seconds\n",
    "all_crash_event_excludClose\n",
    "time_gap2 = timedelta(seconds = 1)\n",
    "noncrash_feature_label = pd.DataFrame()\n",
    "for num in range(len(peopleTrialHasCrash)):\n",
    "    j = peopleTrialHasCrash[num]\n",
    "    print(num)\n",
    "    \n",
    "    temp_df = pd.DataFrame()\n",
    "    for i in (all_crash_event_excludClose[all_crash_event_excludClose['peopleTrialKey'] == j].datetimeNew):\n",
    "        \n",
    "        df = pd.concat([data_human[(data_human.datetimeNew <= i + time_gap2) &\\\n",
    "                        (data_human.datetimeNew >= i - time_gap2) \\\n",
    "                      &(data_human['peopleTrialKey'] == j)]])\n",
    "        ## get j's all time periods between a crash event within 1 seconds\n",
    "        temp_df = pd.concat([temp_df,df])\n",
    "        \n",
    "        \n",
    "    ind = data_human[data_human.peopleTrialKey==j].index.isin(temp_df.index)\n",
    "    \n",
    "    ## get j's all non-crash event excluded crash events and their closed time periods\n",
    "    non_crash_event_j = data_human[data_human.peopleTrialKey==j][~ind]\n",
    "    non_crash_event_j.rolling()\n",
    "    \n",
    "    \n",
    "        arr1 = np.array(temp_df[['seconds', 'currentPosRoll','currentVelRoll','joystickX']])\n",
    "        arr2 = np.array(temp_df['crash'].iloc[-1])\n",
    "        noncrash_feature_label = pd.concat([crash_feature_label, pd.DataFrame([[arr1, arr2]], columns=[\"features\",'label']) ])                           \n",
    "\n"
   ]
  },
  {
   "cell_type": "code",
   "execution_count": 121,
   "metadata": {},
   "outputs": [
    {
     "name": "stdout",
     "output_type": "stream",
     "text": [
      "[[1 2 3]\n",
      " [2 3 4]\n",
      " [3 4 5]\n",
      " [4 5 6]\n",
      " [5 6 7]\n",
      " [6 7 8]\n",
      " [7 8 9]]\n"
     ]
    }
   ],
   "source": [
    "# import  numpy as np\n",
    "# import itertools as it\n",
    "# x=[1,2,3,4,5,6,7,8,9]\n",
    "# def moving_window(x, length, step=3):\n",
    "#     streams = it.tee(x, length)\n",
    "#     return zip(*[it.islice(stream, i, None, step*length) for stream, i in zip(streams, it.count(step=step))])\n",
    "# x_=list(moving_window(x, 3))\n",
    "# x_=np.asarray(x_)\n",
    "# print(x_)\n",
    "\n",
    "import  numpy as np\n",
    "import itertools as it\n",
    "x=[1,2,3,4,5,6,7,8,9]\n",
    "def moving_window(x, length, step=1):\n",
    "    streams = it.tee(x, length)\n",
    "    return zip(*[it.islice(stream, i, None, step) for stream, i in zip(streams, it.count(step=step))])\n",
    "x_=list(moving_window(x, 3))\n",
    "x_=np.asarray(x_)\n",
    "print(x_)"
   ]
  },
  {
   "cell_type": "code",
   "execution_count": null,
   "metadata": {},
   "outputs": [],
   "source": [
    "from datetime import timedelta\n",
    "\n",
    "# time_gap = timedelta(seconds = 1)\n",
    "# crash_feature_label = pd.DataFrame()\n",
    "# for num in range(len(peopleTrialHasCrash)):\n",
    "#     j = peopleTrialHasCrash[num]\n",
    "#     print(num)\n",
    "#     for i in (data_human.loc[(data_human['crash']==1) &\\\n",
    "#                         ((data_human['peopleTrialKey'] == j)),'datetimeNew']):\n",
    "        \n",
    "#         temp_df = pd.concat([data_human[(data_human.datetimeNew <= i) &\\\n",
    "#                         (data_human.datetimeNew >= i - time_gap) \\\n",
    "#                       &(data_human['peopleTrialKey'] == j)]]) \n",
    "\n",
    "#         arr1 = np.array(temp_df[['seconds', 'currentPosRoll','currentVelRoll','joystickX']])\n",
    "#         arr2 = np.array(temp_df['crash'].iloc[-1])\n",
    "#         crash_feature_label = pd.concat([crash_feature_label, pd.DataFrame([[arr1, arr2]], columns=[\"features\",'label']) ])                           "
   ]
  },
  {
   "cell_type": "code",
   "execution_count": null,
   "metadata": {},
   "outputs": [],
   "source": [
    "import ast\n",
    "\n",
    "a = \"['Type: CARDINAL, Value: 50p', 'Type: CARDINAL, Value: 10', 'Type: CARDINAL, Value: 10']\"\n",
    "df = pd.DataFrame({'col':[a, a]}) \n",
    "\n",
    "df['col'] = df['col'].apply(ast.literal_eval)\n",
    "print (df)"
   ]
  },
  {
   "cell_type": "code",
   "execution_count": null,
   "metadata": {},
   "outputs": [],
   "source": []
  },
  {
   "cell_type": "code",
   "execution_count": null,
   "metadata": {},
   "outputs": [],
   "source": []
  },
  {
   "cell_type": "code",
   "execution_count": null,
   "metadata": {},
   "outputs": [],
   "source": []
  },
  {
   "cell_type": "code",
   "execution_count": null,
   "metadata": {},
   "outputs": [],
   "source": [
    "## first exclude crash events which happened within 2 seconds\n",
    "for j in peopleTrialHasCrash:\n",
    "    temp_df = data_human[(data_human['crash']==1) &\\\n",
    "                        ((data_human['peopleTrialKey'] == j))]\n",
    "    temp_df = \n",
    "        \n",
    "        \n",
    "        crash_feature_label = pd.concat([data_human[(data_human.datetimeNew <= i) &\\\n",
    "                        (data_human.datetimeNew >= i - time_gap) \\\n",
    "                      &(data_human['peopleTrialKey'] == j)]]) \n",
    "\n",
    "        arr1 = np.array(crash_feature_label[['seconds', 'currentPosRoll','currentVelRoll','joystickX']])\n",
    "        arr2 = np.array(crash_feature_label['crash'].iloc[-1])\n",
    "        crash_feature_label = pd.concat([crash_feature_label, pd.DataFrame([[arr1, arr2]], columns=[\"features\",'label']) ])\n",
    "\n",
    "\n",
    "\n",
    "\n",
    "(pd.concat([ pd.concat\\\n",
    "           ([data_human[(data_human.datetimeNew >= i + time_gap2) &\\\n",
    "                        (data_human.datetimeNew <= (i - time_gap2))\\\n",
    "                       &(data_human['peopleTrialKey'] == j)] \n",
    "                         for i in (data_human.loc[(data_human['crash']==1) &\\\n",
    "                        ((data_human['peopleTrialKey'] == j)),'datetimeNew']) ])  for j in peopleTrialHasCrash] )) \n"
   ]
  },
  {
   "cell_type": "code",
   "execution_count": null,
   "metadata": {},
   "outputs": [],
   "source": [
    "time_gap2 = timedelta(seconds = 1)\n",
    "\n",
    "(pd.concat([ pd.concat\\\n",
    "           ([data_human[(data_human.datetimeNew >= i + time_gap2) &\\\n",
    "                        (data_human.datetimeNew <= (i - time_gap2))\\\n",
    "                       &(data_human['peopleTrialKey'] == j)] \n",
    "                         for i in (data_human.loc[(data_human['crash']==1) &\\\n",
    "                        ((data_human['peopleTrialKey'] == j)),'datetimeNew']) ])  for j in peopleTrialHasCrash] )) \n",
    "\n"
   ]
  },
  {
   "cell_type": "code",
   "execution_count": null,
   "metadata": {},
   "outputs": [],
   "source": []
  },
  {
   "cell_type": "code",
   "execution_count": null,
   "metadata": {},
   "outputs": [],
   "source": []
  },
  {
   "cell_type": "code",
   "execution_count": null,
   "metadata": {},
   "outputs": [],
   "source": []
  },
  {
   "cell_type": "code",
   "execution_count": null,
   "metadata": {},
   "outputs": [],
   "source": []
  },
  {
   "cell_type": "code",
   "execution_count": null,
   "metadata": {},
   "outputs": [],
   "source": [
    "from datetime import timedelta\n",
    "\n",
    "time_gap = timedelta(seconds = 1)\n",
    "noncrash_feature_label = pd.DataFrame()\n",
    "for j in peopleTrialHasCrash:\n",
    "    print(j)\n",
    "    for i in (data_human.loc[(data_human['crash']!=1) &\\\n",
    "                        ((data_human['peopleTrialKey'] == j)),'datetimeNew']):\n",
    "        \n",
    "        noncrash_feature_label = pd.concat([data_human[(data_human.datetimeNew <= i) &\\\n",
    "                        (data_human.datetimeNew >= i - time_gap) \\\n",
    "                      &(data_human['peopleTrialKey'] == j)]]) \n",
    "\n",
    "        arr1 = np.array(noncrash_feature_label[['seconds', 'currentPosRoll','currentVelRoll','joystickX']])\n",
    "        arr2 = np.array(noncrash_feature_label['crash'].iloc[-1])\n",
    "        noncrash_feature_label = pd.concat([noncrash_feature_label, pd.DataFrame([[arr1, arr2]], columns=[\"features\",'label']) ])\n",
    "\n",
    "noncrash_feature_label"
   ]
  },
  {
   "cell_type": "code",
   "execution_count": null,
   "metadata": {},
   "outputs": [],
   "source": []
  },
  {
   "cell_type": "code",
   "execution_count": null,
   "metadata": {},
   "outputs": [],
   "source": []
  },
  {
   "cell_type": "code",
   "execution_count": null,
   "metadata": {},
   "outputs": [],
   "source": []
  },
  {
   "cell_type": "code",
   "execution_count": null,
   "metadata": {},
   "outputs": [],
   "source": []
  },
  {
   "cell_type": "code",
   "execution_count": null,
   "metadata": {},
   "outputs": [],
   "source": []
  },
  {
   "cell_type": "code",
   "execution_count": null,
   "metadata": {},
   "outputs": [],
   "source": []
  },
  {
   "cell_type": "code",
   "execution_count": 27,
   "metadata": {},
   "outputs": [
    {
     "data": {
      "text/html": [
       "<div>\n",
       "<style scoped>\n",
       "    .dataframe tbody tr th:only-of-type {\n",
       "        vertical-align: middle;\n",
       "    }\n",
       "\n",
       "    .dataframe tbody tr th {\n",
       "        vertical-align: top;\n",
       "    }\n",
       "\n",
       "    .dataframe thead th {\n",
       "        text-align: right;\n",
       "    }\n",
       "</style>\n",
       "<table border=\"1\" class=\"dataframe\">\n",
       "  <thead>\n",
       "    <tr style=\"text-align: right;\">\n",
       "      <th></th>\n",
       "      <th>letter</th>\n",
       "      <th>number</th>\n",
       "    </tr>\n",
       "  </thead>\n",
       "  <tbody>\n",
       "    <tr>\n",
       "      <th>0</th>\n",
       "      <td>a</td>\n",
       "      <td>1</td>\n",
       "    </tr>\n",
       "    <tr>\n",
       "      <th>1</th>\n",
       "      <td>b</td>\n",
       "      <td>2</td>\n",
       "    </tr>\n",
       "    <tr>\n",
       "      <th>0</th>\n",
       "      <td>a</td>\n",
       "      <td>1</td>\n",
       "    </tr>\n",
       "    <tr>\n",
       "      <th>1</th>\n",
       "      <td>b</td>\n",
       "      <td>2</td>\n",
       "    </tr>\n",
       "  </tbody>\n",
       "</table>\n",
       "</div>"
      ],
      "text/plain": [
       "  letter  number\n",
       "0      a       1\n",
       "1      b       2\n",
       "0      a       1\n",
       "1      b       2"
      ]
     },
     "execution_count": 27,
     "metadata": {},
     "output_type": "execute_result"
    }
   ],
   "source": [
    "temp_df = pd.DataFrame()\n",
    "df1 = pd.DataFrame([['a', 1], ['b', 2]],\n",
    "                   columns=['letter', 'number'])\n",
    "pd.concat([temp_df, df1])"
   ]
  },
  {
   "cell_type": "code",
   "execution_count": 19,
   "metadata": {},
   "outputs": [
    {
     "data": {
      "text/html": [
       "<div>\n",
       "<style scoped>\n",
       "    .dataframe tbody tr th:only-of-type {\n",
       "        vertical-align: middle;\n",
       "    }\n",
       "\n",
       "    .dataframe tbody tr th {\n",
       "        vertical-align: top;\n",
       "    }\n",
       "\n",
       "    .dataframe thead th {\n",
       "        text-align: right;\n",
       "    }\n",
       "</style>\n",
       "<table border=\"1\" class=\"dataframe\">\n",
       "  <thead>\n",
       "    <tr style=\"text-align: right;\">\n",
       "      <th></th>\n",
       "      <th>features</th>\n",
       "      <th>label</th>\n",
       "    </tr>\n",
       "  </thead>\n",
       "  <tbody>\n",
       "    <tr>\n",
       "      <th>0</th>\n",
       "      <td>[[34.089, -24.06005859375, -59.609261, 0.47659...</td>\n",
       "      <td>1.0</td>\n",
       "    </tr>\n",
       "  </tbody>\n",
       "</table>\n",
       "</div>"
      ],
      "text/plain": [
       "                                            features label\n",
       "0  [[34.089, -24.06005859375, -59.609261, 0.47659...   1.0"
      ]
     },
     "execution_count": 19,
     "metadata": {},
     "output_type": "execute_result"
    }
   ],
   "source": [
    "aaa"
   ]
  },
  {
   "cell_type": "code",
   "execution_count": null,
   "metadata": {},
   "outputs": [],
   "source": [
    "### find 1 second before data of a crash event\n",
    "\n",
    "data_crash_1Sbefore = pd.DataFrame()\n",
    "\n",
    "x = [x for x in range(0,1052,100)] + [1052]\n",
    "for y in [y for y in range(11)]:\n",
    "    data_crash_1Sbefore.append(pd.concat([ pd.concat\\\n",
    "           ([data_human[(data_human.datetimeNew <=i) &\\\n",
    "                        (data_human.datetimeNew >= (i - timedelta(seconds = 1)))\\\n",
    "                       &(data_human['peopleTrialKey'] == j)] \n",
    "                         for i in (data_human.loc[(data_human['crash']==1) &\\\n",
    "                        ((data_human['peopleTrialKey'] == j)),'datetimeNew']) ])  for j in peopleTrialHasCrash[x[y]:x[y+1]]] )) \n",
    "\n",
    "print('There are %s rows'%len(data_crash_1Sbefore) )"
   ]
  },
  {
   "cell_type": "code",
   "execution_count": null,
   "metadata": {},
   "outputs": [],
   "source": []
  },
  {
   "cell_type": "code",
   "execution_count": null,
   "metadata": {},
   "outputs": [],
   "source": []
  },
  {
   "cell_type": "code",
   "execution_count": 13,
   "metadata": {},
   "outputs": [
    {
     "data": {
      "text/html": [
       "<div>\n",
       "<style scoped>\n",
       "    .dataframe tbody tr th:only-of-type {\n",
       "        vertical-align: middle;\n",
       "    }\n",
       "\n",
       "    .dataframe tbody tr th {\n",
       "        vertical-align: top;\n",
       "    }\n",
       "\n",
       "    .dataframe thead th {\n",
       "        text-align: right;\n",
       "    }\n",
       "</style>\n",
       "<table border=\"1\" class=\"dataframe\">\n",
       "  <thead>\n",
       "    <tr style=\"text-align: right;\">\n",
       "      <th></th>\n",
       "      <th>seconds</th>\n",
       "      <th>trialPhase</th>\n",
       "      <th>currentPosRoll</th>\n",
       "      <th>currentVelRoll</th>\n",
       "      <th>joystickX</th>\n",
       "      <th>peopleName</th>\n",
       "      <th>trialName</th>\n",
       "      <th>peopleTrialKey</th>\n",
       "      <th>datetimeNew</th>\n",
       "      <th>crash</th>\n",
       "    </tr>\n",
       "  </thead>\n",
       "  <tbody>\n",
       "    <tr>\n",
       "      <th>2089</th>\n",
       "      <td>34.089</td>\n",
       "      <td>3</td>\n",
       "      <td>-24.060059</td>\n",
       "      <td>-59.609261</td>\n",
       "      <td>0.476593</td>\n",
       "      <td>1_co_P13</td>\n",
       "      <td>12_600back_Block3_trial_012.csv</td>\n",
       "      <td>1_co_P13/12_600back_Block3_trial_012.csv</td>\n",
       "      <td>1970-01-01 00:00:34.089</td>\n",
       "      <td>0.0</td>\n",
       "    </tr>\n",
       "    <tr>\n",
       "      <th>2090</th>\n",
       "      <td>34.109</td>\n",
       "      <td>3</td>\n",
       "      <td>-24.914246</td>\n",
       "      <td>-59.437600</td>\n",
       "      <td>0.507843</td>\n",
       "      <td>1_co_P13</td>\n",
       "      <td>12_600back_Block3_trial_012.csv</td>\n",
       "      <td>1_co_P13/12_600back_Block3_trial_012.csv</td>\n",
       "      <td>1970-01-01 00:00:34.109</td>\n",
       "      <td>0.0</td>\n",
       "    </tr>\n",
       "    <tr>\n",
       "      <th>2091</th>\n",
       "      <td>34.130</td>\n",
       "      <td>3</td>\n",
       "      <td>-25.815125</td>\n",
       "      <td>-55.575229</td>\n",
       "      <td>0.507843</td>\n",
       "      <td>1_co_P13</td>\n",
       "      <td>12_600back_Block3_trial_012.csv</td>\n",
       "      <td>1_co_P13/12_600back_Block3_trial_012.csv</td>\n",
       "      <td>1970-01-01 00:00:34.130</td>\n",
       "      <td>0.0</td>\n",
       "    </tr>\n",
       "    <tr>\n",
       "      <th>2092</th>\n",
       "      <td>34.152</td>\n",
       "      <td>3</td>\n",
       "      <td>-26.779175</td>\n",
       "      <td>-54.931500</td>\n",
       "      <td>0.460968</td>\n",
       "      <td>1_co_P13</td>\n",
       "      <td>12_600back_Block3_trial_012.csv</td>\n",
       "      <td>1_co_P13/12_600back_Block3_trial_012.csv</td>\n",
       "      <td>1970-01-01 00:00:34.152</td>\n",
       "      <td>0.0</td>\n",
       "    </tr>\n",
       "    <tr>\n",
       "      <th>2093</th>\n",
       "      <td>34.173</td>\n",
       "      <td>3</td>\n",
       "      <td>-27.795410</td>\n",
       "      <td>-51.541196</td>\n",
       "      <td>0.429718</td>\n",
       "      <td>1_co_P13</td>\n",
       "      <td>12_600back_Block3_trial_012.csv</td>\n",
       "      <td>1_co_P13/12_600back_Block3_trial_012.csv</td>\n",
       "      <td>1970-01-01 00:00:34.173</td>\n",
       "      <td>0.0</td>\n",
       "    </tr>\n",
       "    <tr>\n",
       "      <th>...</th>\n",
       "      <td>...</td>\n",
       "      <td>...</td>\n",
       "      <td>...</td>\n",
       "      <td>...</td>\n",
       "      <td>...</td>\n",
       "      <td>...</td>\n",
       "      <td>...</td>\n",
       "      <td>...</td>\n",
       "      <td>...</td>\n",
       "      <td>...</td>\n",
       "    </tr>\n",
       "    <tr>\n",
       "      <th>6056</th>\n",
       "      <td>97.494</td>\n",
       "      <td>3</td>\n",
       "      <td>-57.562866</td>\n",
       "      <td>-34.160527</td>\n",
       "      <td>0.796906</td>\n",
       "      <td>1_co_P13</td>\n",
       "      <td>12_600back_Block3_trial_012.csv</td>\n",
       "      <td>1_co_P13/12_600back_Block3_trial_012.csv</td>\n",
       "      <td>1970-01-01 00:01:37.494</td>\n",
       "      <td>0.0</td>\n",
       "    </tr>\n",
       "    <tr>\n",
       "      <th>6057</th>\n",
       "      <td>97.516</td>\n",
       "      <td>3</td>\n",
       "      <td>-58.414307</td>\n",
       "      <td>-31.928934</td>\n",
       "      <td>0.796906</td>\n",
       "      <td>1_co_P13</td>\n",
       "      <td>12_600back_Block3_trial_012.csv</td>\n",
       "      <td>1_co_P13/12_600back_Block3_trial_012.csv</td>\n",
       "      <td>1970-01-01 00:01:37.516</td>\n",
       "      <td>0.0</td>\n",
       "    </tr>\n",
       "    <tr>\n",
       "      <th>6058</th>\n",
       "      <td>97.537</td>\n",
       "      <td>3</td>\n",
       "      <td>-59.282227</td>\n",
       "      <td>-29.697342</td>\n",
       "      <td>0.796906</td>\n",
       "      <td>1_co_P13</td>\n",
       "      <td>12_600back_Block3_trial_012.csv</td>\n",
       "      <td>1_co_P13/12_600back_Block3_trial_012.csv</td>\n",
       "      <td>1970-01-01 00:01:37.537</td>\n",
       "      <td>0.0</td>\n",
       "    </tr>\n",
       "    <tr>\n",
       "      <th>6059</th>\n",
       "      <td>97.557</td>\n",
       "      <td>3</td>\n",
       "      <td>-60.073242</td>\n",
       "      <td>-28.066563</td>\n",
       "      <td>0.796906</td>\n",
       "      <td>1_co_P13</td>\n",
       "      <td>12_600back_Block3_trial_012.csv</td>\n",
       "      <td>1_co_P13/12_600back_Block3_trial_012.csv</td>\n",
       "      <td>1970-01-01 00:01:37.557</td>\n",
       "      <td>0.0</td>\n",
       "    </tr>\n",
       "    <tr>\n",
       "      <th>6060</th>\n",
       "      <td>97.565</td>\n",
       "      <td>4</td>\n",
       "      <td>-60.367126</td>\n",
       "      <td>-27.508665</td>\n",
       "      <td>0.796906</td>\n",
       "      <td>1_co_P13</td>\n",
       "      <td>12_600back_Block3_trial_012.csv</td>\n",
       "      <td>1_co_P13/12_600back_Block3_trial_012.csv</td>\n",
       "      <td>1970-01-01 00:01:37.565</td>\n",
       "      <td>1.0</td>\n",
       "    </tr>\n",
       "  </tbody>\n",
       "</table>\n",
       "<p>196 rows × 10 columns</p>\n",
       "</div>"
      ],
      "text/plain": [
       "      seconds  trialPhase  currentPosRoll  currentVelRoll  joystickX  \\\n",
       "2089   34.089           3      -24.060059      -59.609261   0.476593   \n",
       "2090   34.109           3      -24.914246      -59.437600   0.507843   \n",
       "2091   34.130           3      -25.815125      -55.575229   0.507843   \n",
       "2092   34.152           3      -26.779175      -54.931500   0.460968   \n",
       "2093   34.173           3      -27.795410      -51.541196   0.429718   \n",
       "...       ...         ...             ...             ...        ...   \n",
       "6056   97.494           3      -57.562866      -34.160527   0.796906   \n",
       "6057   97.516           3      -58.414307      -31.928934   0.796906   \n",
       "6058   97.537           3      -59.282227      -29.697342   0.796906   \n",
       "6059   97.557           3      -60.073242      -28.066563   0.796906   \n",
       "6060   97.565           4      -60.367126      -27.508665   0.796906   \n",
       "\n",
       "     peopleName                        trialName  \\\n",
       "2089   1_co_P13  12_600back_Block3_trial_012.csv   \n",
       "2090   1_co_P13  12_600back_Block3_trial_012.csv   \n",
       "2091   1_co_P13  12_600back_Block3_trial_012.csv   \n",
       "2092   1_co_P13  12_600back_Block3_trial_012.csv   \n",
       "2093   1_co_P13  12_600back_Block3_trial_012.csv   \n",
       "...         ...                              ...   \n",
       "6056   1_co_P13  12_600back_Block3_trial_012.csv   \n",
       "6057   1_co_P13  12_600back_Block3_trial_012.csv   \n",
       "6058   1_co_P13  12_600back_Block3_trial_012.csv   \n",
       "6059   1_co_P13  12_600back_Block3_trial_012.csv   \n",
       "6060   1_co_P13  12_600back_Block3_trial_012.csv   \n",
       "\n",
       "                                peopleTrialKey             datetimeNew  crash  \n",
       "2089  1_co_P13/12_600back_Block3_trial_012.csv 1970-01-01 00:00:34.089    0.0  \n",
       "2090  1_co_P13/12_600back_Block3_trial_012.csv 1970-01-01 00:00:34.109    0.0  \n",
       "2091  1_co_P13/12_600back_Block3_trial_012.csv 1970-01-01 00:00:34.130    0.0  \n",
       "2092  1_co_P13/12_600back_Block3_trial_012.csv 1970-01-01 00:00:34.152    0.0  \n",
       "2093  1_co_P13/12_600back_Block3_trial_012.csv 1970-01-01 00:00:34.173    0.0  \n",
       "...                                        ...                     ...    ...  \n",
       "6056  1_co_P13/12_600back_Block3_trial_012.csv 1970-01-01 00:01:37.494    0.0  \n",
       "6057  1_co_P13/12_600back_Block3_trial_012.csv 1970-01-01 00:01:37.516    0.0  \n",
       "6058  1_co_P13/12_600back_Block3_trial_012.csv 1970-01-01 00:01:37.537    0.0  \n",
       "6059  1_co_P13/12_600back_Block3_trial_012.csv 1970-01-01 00:01:37.557    0.0  \n",
       "6060  1_co_P13/12_600back_Block3_trial_012.csv 1970-01-01 00:01:37.565    1.0  \n",
       "\n",
       "[196 rows x 10 columns]"
      ]
     },
     "execution_count": 13,
     "metadata": {},
     "output_type": "execute_result"
    }
   ],
   "source": [
    "from datetime import timedelta\n",
    "pd.concat([data_human[(data_human.datetimeNew <=i) &\\\n",
    "                        (data_human.datetimeNew >= (i - timedelta(seconds = 1))) \\\n",
    "                      &(data_human['peopleTrialKey'] == '1_co_P13/12_600back_Block3_trial_012.csv')] \n",
    "                         for i in (data_human.loc[(data_human['crash']==1) &\\\n",
    "                        ((data_human['peopleTrialKey'] == '1_co_P13/12_600back_Block3_trial_012.csv')),'datetimeNew']) ])"
   ]
  },
  {
   "cell_type": "code",
   "execution_count": 11,
   "metadata": {},
   "outputs": [
    {
     "data": {
      "text/plain": [
       "2137   1970-01-01 00:00:35.087\n",
       "4174   1970-01-01 00:01:11.218\n",
       "5255   1970-01-01 00:01:27.480\n",
       "6060   1970-01-01 00:01:37.565\n",
       "Name: datetimeNew, dtype: datetime64[ns]"
      ]
     },
     "execution_count": 11,
     "metadata": {},
     "output_type": "execute_result"
    }
   ],
   "source": [
    "data_human.loc[(data_human['crash']==1) &\\\n",
    "                        ((data_human['peopleTrialKey'] == '1_co_P13/12_600back_Block3_trial_012.csv')),'datetimeNew']"
   ]
  },
  {
   "cell_type": "code",
   "execution_count": null,
   "metadata": {},
   "outputs": [],
   "source": []
  },
  {
   "cell_type": "code",
   "execution_count": 32,
   "metadata": {},
   "outputs": [
    {
     "name": "stdout",
     "output_type": "stream",
     "text": [
      "There are 0 rows\n"
     ]
    }
   ],
   "source": [
    "### find 1 second before data of a crash event\n",
    "\n",
    "data_crash_1Sbefore = pd.DataFrame()\n",
    "\n",
    "x = [x for x in range(0,1052,100)] + [1052]\n",
    "for y in [y for y in range(11)]:\n",
    "    data_crash_1Sbefore.append(pd.concat([ pd.concat\\\n",
    "           ([data_human[(data_human.datetimeNew <=i) &\\\n",
    "                        (data_human.datetimeNew >= (i - timedelta(seconds = 1)))\\\n",
    "                       &(data_human['peopleTrialKey'] == j)] \n",
    "                         for i in (data_human.loc[(data_human['crash']==1) &\\\n",
    "                        ((data_human['peopleTrialKey'] == j)),'datetimeNew']) ])  for j in peopleTrialHasCrash[x[y]:x[y+1]]] )) \n",
    "\n",
    "print('There are %s rows'%len(data_crash_1Sbefore) )"
   ]
  },
  {
   "cell_type": "code",
   "execution_count": 33,
   "metadata": {},
   "outputs": [
    {
     "data": {
      "text/html": [
       "<div>\n",
       "<style scoped>\n",
       "    .dataframe tbody tr th:only-of-type {\n",
       "        vertical-align: middle;\n",
       "    }\n",
       "\n",
       "    .dataframe tbody tr th {\n",
       "        vertical-align: top;\n",
       "    }\n",
       "\n",
       "    .dataframe thead th {\n",
       "        text-align: right;\n",
       "    }\n",
       "</style>\n",
       "<table border=\"1\" class=\"dataframe\">\n",
       "  <thead>\n",
       "    <tr style=\"text-align: right;\">\n",
       "      <th></th>\n",
       "    </tr>\n",
       "  </thead>\n",
       "  <tbody>\n",
       "  </tbody>\n",
       "</table>\n",
       "</div>"
      ],
      "text/plain": [
       "Empty DataFrame\n",
       "Columns: []\n",
       "Index: []"
      ]
     },
     "execution_count": 33,
     "metadata": {},
     "output_type": "execute_result"
    }
   ],
   "source": [
    "data_crash_1Sbefore"
   ]
  },
  {
   "cell_type": "code",
   "execution_count": null,
   "metadata": {},
   "outputs": [],
   "source": [
    "# data_crash_1Sbefore.head(50)\n",
    "len(data_crash_1Sbefore.dropna())"
   ]
  },
  {
   "cell_type": "code",
   "execution_count": 30,
   "metadata": {},
   "outputs": [
    {
     "data": {
      "text/plain": [
       "[0, 100, 200, 300, 400, 500, 600, 700, 800, 900, 1000, 1052]"
      ]
     },
     "execution_count": 30,
     "metadata": {},
     "output_type": "execute_result"
    }
   ],
   "source": [
    "x = [x for x in range(0,1052,100)] + [1052]\n",
    "x"
   ]
  },
  {
   "cell_type": "code",
   "execution_count": 28,
   "metadata": {},
   "outputs": [
    {
     "data": {
      "text/plain": [
       "11"
      ]
     },
     "execution_count": 28,
     "metadata": {},
     "output_type": "execute_result"
    }
   ],
   "source": [
    "y = [y for y in range(11)]\n",
    "len(y)"
   ]
  },
  {
   "cell_type": "code",
   "execution_count": 44,
   "metadata": {},
   "outputs": [
    {
     "data": {
      "text/plain": [
       "(5525907, 5)"
      ]
     },
     "execution_count": 44,
     "metadata": {},
     "output_type": "execute_result"
    }
   ],
   "source": [
    "np.array(data_human[['seconds', 'trialPhase','currentPosRoll','currentVelRoll','joystickX']]).shape"
   ]
  },
  {
   "cell_type": "code",
   "execution_count": 11,
   "metadata": {},
   "outputs": [],
   "source": [
    "# import numpy as np\n",
    "# import pandas as pd\n",
    "# import scipy.sparse as sparse\n",
    "\n",
    "# df = pd.DataFrame(np.arange(1,10).reshape(3,3))\n",
    "# arr = sparse.coo_matrix(([1,1,1], ([0,1,2], [1,2,0])), shape=(3,3,3))\n",
    "# df['newcol'] = arr.toarray()\n",
    "# print(df)"
   ]
  },
  {
   "cell_type": "code",
   "execution_count": 12,
   "metadata": {},
   "outputs": [],
   "source": [
    "arr = sparse.coo_matrix(([1,1,1], ([0,1,2], [1,2,0])), shape=(3,3))"
   ]
  },
  {
   "cell_type": "code",
   "execution_count": null,
   "metadata": {},
   "outputs": [],
   "source": []
  },
  {
   "cell_type": "code",
   "execution_count": 47,
   "metadata": {},
   "outputs": [
    {
     "data": {
      "text/html": [
       "<div>\n",
       "<style scoped>\n",
       "    .dataframe tbody tr th:only-of-type {\n",
       "        vertical-align: middle;\n",
       "    }\n",
       "\n",
       "    .dataframe tbody tr th {\n",
       "        vertical-align: top;\n",
       "    }\n",
       "\n",
       "    .dataframe thead th {\n",
       "        text-align: right;\n",
       "    }\n",
       "</style>\n",
       "<table border=\"1\" class=\"dataframe\">\n",
       "  <thead>\n",
       "    <tr style=\"text-align: right;\">\n",
       "      <th></th>\n",
       "      <th>0</th>\n",
       "    </tr>\n",
       "  </thead>\n",
       "  <tbody>\n",
       "    <tr>\n",
       "      <th>0</th>\n",
       "      <td>[1, 2, 3]</td>\n",
       "    </tr>\n",
       "    <tr>\n",
       "      <th>1</th>\n",
       "      <td>[[1, 2, 3], [2, 4, 6], [3, 6, 9]]</td>\n",
       "    </tr>\n",
       "  </tbody>\n",
       "</table>\n",
       "</div>"
      ],
      "text/plain": [
       "                                   0\n",
       "0                          [1, 2, 3]\n",
       "1  [[1, 2, 3], [2, 4, 6], [3, 6, 9]]"
      ]
     },
     "execution_count": 47,
     "metadata": {},
     "output_type": "execute_result"
    }
   ],
   "source": [
    "one_d_array = np.array([1,2,3])\n",
    "two_d_array = one_d_array*one_d_array[:,np.newaxis]\n",
    "two_d_array\n",
    "\n",
    "np.array([[1, 2, 3],\n",
    "       [2, 4, 6],\n",
    "       [3, 6, 9]])\n",
    "\n",
    "\n",
    "pd.DataFrame([\n",
    "    [one_d_array],\n",
    "    [two_d_array] ])\n"
   ]
  },
  {
   "cell_type": "code",
   "execution_count": 102,
   "metadata": {},
   "outputs": [],
   "source": [
    "from datetime import timedelta\n",
    "m = data_human.loc[(data_human['crash']==1) &\\\n",
    "                        (data_human['peopleTrialKey'] == '1_co_P13/12_600back_Block3_trial_012.csv')].datetimeNew[0:1]\n",
    "\n",
    "mm = pd.concat([data_human[(data_human.datetimeNew <= pd.to_datetime('1970-01-01 00:00:35.087')) &\\\n",
    "                        (data_human.datetimeNew >= (pd.to_datetime('1970-01-01 00:00:35.087') - timedelta(seconds = 1))) \\\n",
    "                      &(data_human['peopleTrialKey'] == '1_co_P13/12_600back_Block3_trial_012.csv')]]) \n",
    "\n",
    "arr1 = np.array(mm[['seconds', 'currentPosRoll','currentVelRoll','joystickX']])\n",
    "arr2 = np.array(mm['crash'].iloc[-1])\n",
    "aaa = pd.DataFrame([[arr1, arr2]], columns=[\"features\",'label'])"
   ]
  },
  {
   "cell_type": "code",
   "execution_count": 103,
   "metadata": {},
   "outputs": [
    {
     "data": {
      "text/html": [
       "<div>\n",
       "<style scoped>\n",
       "    .dataframe tbody tr th:only-of-type {\n",
       "        vertical-align: middle;\n",
       "    }\n",
       "\n",
       "    .dataframe tbody tr th {\n",
       "        vertical-align: top;\n",
       "    }\n",
       "\n",
       "    .dataframe thead th {\n",
       "        text-align: right;\n",
       "    }\n",
       "</style>\n",
       "<table border=\"1\" class=\"dataframe\">\n",
       "  <thead>\n",
       "    <tr style=\"text-align: right;\">\n",
       "      <th></th>\n",
       "      <th>features</th>\n",
       "      <th>label</th>\n",
       "    </tr>\n",
       "  </thead>\n",
       "  <tbody>\n",
       "    <tr>\n",
       "      <th>0</th>\n",
       "      <td>[[34.089, -24.06005859375, -59.609261, 0.47659...</td>\n",
       "      <td>1.0</td>\n",
       "    </tr>\n",
       "  </tbody>\n",
       "</table>\n",
       "</div>"
      ],
      "text/plain": [
       "                                            features label\n",
       "0  [[34.089, -24.06005859375, -59.609261, 0.47659...   1.0"
      ]
     },
     "execution_count": 103,
     "metadata": {},
     "output_type": "execute_result"
    }
   ],
   "source": [
    "aaa"
   ]
  },
  {
   "cell_type": "code",
   "execution_count": 101,
   "metadata": {},
   "outputs": [
    {
     "data": {
      "text/plain": [
       "1.0"
      ]
     },
     "execution_count": 101,
     "metadata": {},
     "output_type": "execute_result"
    }
   ],
   "source": [
    "mm['crash'].iloc[-1]"
   ]
  },
  {
   "cell_type": "code",
   "execution_count": 62,
   "metadata": {},
   "outputs": [
    {
     "data": {
      "text/plain": [
       "191         True\n",
       "192         True\n",
       "193         True\n",
       "194         True\n",
       "195         True\n",
       "           ...  \n",
       "9726876    False\n",
       "9726877    False\n",
       "9726878    False\n",
       "9726879    False\n",
       "9726880    False\n",
       "Name: datetimeNew, Length: 5525907, dtype: bool"
      ]
     },
     "execution_count": 62,
     "metadata": {},
     "output_type": "execute_result"
    }
   ],
   "source": [
    "data_human.datetimeNew <= pd.to_datetime('1970-01-01 00:00:35.087')"
   ]
  },
  {
   "cell_type": "code",
   "execution_count": 60,
   "metadata": {},
   "outputs": [
    {
     "data": {
      "text/plain": [
       "2137   1970-01-01 00:00:35.087\n",
       "Name: datetimeNew, dtype: datetime64[ns]"
      ]
     },
     "execution_count": 60,
     "metadata": {},
     "output_type": "execute_result"
    }
   ],
   "source": [
    "m"
   ]
  },
  {
   "cell_type": "code",
   "execution_count": null,
   "metadata": {},
   "outputs": [],
   "source": []
  },
  {
   "cell_type": "code",
   "execution_count": null,
   "metadata": {},
   "outputs": [],
   "source": []
  },
  {
   "cell_type": "code",
   "execution_count": null,
   "metadata": {},
   "outputs": [],
   "source": []
  },
  {
   "cell_type": "code",
   "execution_count": null,
   "metadata": {},
   "outputs": [],
   "source": []
  },
  {
   "cell_type": "code",
   "execution_count": null,
   "metadata": {},
   "outputs": [],
   "source": []
  },
  {
   "cell_type": "code",
   "execution_count": null,
   "metadata": {},
   "outputs": [],
   "source": []
  },
  {
   "cell_type": "code",
   "execution_count": null,
   "metadata": {},
   "outputs": [],
   "source": []
  },
  {
   "cell_type": "code",
   "execution_count": null,
   "metadata": {},
   "outputs": [],
   "source": []
  },
  {
   "cell_type": "code",
   "execution_count": null,
   "metadata": {},
   "outputs": [],
   "source": []
  },
  {
   "cell_type": "code",
   "execution_count": null,
   "metadata": {},
   "outputs": [],
   "source": []
  },
  {
   "cell_type": "code",
   "execution_count": null,
   "metadata": {},
   "outputs": [],
   "source": []
  },
  {
   "cell_type": "code",
   "execution_count": null,
   "metadata": {},
   "outputs": [],
   "source": []
  },
  {
   "cell_type": "code",
   "execution_count": null,
   "metadata": {},
   "outputs": [],
   "source": []
  },
  {
   "cell_type": "code",
   "execution_count": 81,
   "metadata": {},
   "outputs": [],
   "source": [
    "# [test[test['peopleTrialKey'] == j] for j in all_path]\n",
    "# [(test['peopleTrialKey'] == j) for j in all_path]\n",
    "# test.loc[(test['crash']==1)] \n",
    "\n",
    "# [test.loc(test['peopleTrialKey'] == j) for j in all_path]\n",
    "\n",
    "\n",
    "# [ test.loc[test['peopleTrialKey'] == j] for j in all_path]\n",
    "\n",
    "# test[test.datetimeNew >= (test.loc[(test['crash']==0) & \\\n",
    "#                   (test['peopleTrialKey'] == \\\n",
    "#                    '1_co_P13/12_600back_Block3_trial_012.csv'), \\\n",
    "#          'datetimeNew'][4] - timedelta(seconds = 5)) ]\n",
    "\n",
    "\n",
    "\n",
    "# x = pd.DataFrame()\n",
    "# for j in all_path[0:2]:\n",
    "#     print(j)\n",
    "#     x = pd.concat([test[(test.datetimeNew <=i) & (test.datetimeNew >= (i - timedelta(seconds = 1)))] for i in (test.loc[(test['crash']==1) & \\\n",
    "#                    ((test['peopleTrialKey'] == j)),'datetimeNew']) ])\n",
    "# #     x = x.append(x)"
   ]
  },
  {
   "cell_type": "code",
   "execution_count": null,
   "metadata": {},
   "outputs": [],
   "source": []
  },
  {
   "cell_type": "code",
   "execution_count": 13,
   "metadata": {},
   "outputs": [],
   "source": [
    "# [test[test.datetimeNew >= (test.loc[(test['crash']==1) & \\\n",
    "#                   (test['peopleTrialKey'] == i), 'datetimeNew'][0] - timedelta(seconds = 5) ) ]  \\\n",
    "#          for i in all_path]"
   ]
  },
  {
   "cell_type": "code",
   "execution_count": 19,
   "metadata": {},
   "outputs": [
    {
     "data": {
      "text/plain": [
       "1178    1970-01-01 00:00:22.428\n",
       "1179    1970-01-01 00:00:22.436\n",
       "1180    1970-01-01 00:00:22.447\n",
       "1181    1970-01-01 00:00:22.455\n",
       "1182    1970-01-01 00:00:22.465\n",
       "                 ...           \n",
       "6174    1970-01-01 00:01:38.627\n",
       "6175    1970-01-01 00:01:38.635\n",
       "6176    1970-01-01 00:01:38.643\n",
       "6177    1970-01-01 00:01:38.653\n",
       "6178    1970-01-01 00:01:38.662\n",
       "Name: datetimeNew, Length: 602, dtype: object"
      ]
     },
     "execution_count": 19,
     "metadata": {},
     "output_type": "execute_result"
    }
   ],
   "source": [
    "(test.loc[(test['crash']==1) & \\\n",
    "                   (test['peopleTrialKey'] == '1_co_P13/12_600back_Block3_trial_012.csv'),'datetimeNew'])"
   ]
  },
  {
   "cell_type": "code",
   "execution_count": 24,
   "metadata": {},
   "outputs": [
    {
     "name": "stdout",
     "output_type": "stream",
     "text": [
      "<class 'pandas.core.frame.DataFrame'>\n",
      "Int64Index: 7172 entries, 0 to 7171\n",
      "Data columns (total 10 columns):\n",
      " #   Column          Non-Null Count  Dtype         \n",
      "---  ------          --------------  -----         \n",
      " 0   seconds         7172 non-null   float64       \n",
      " 1   trialPhase      7172 non-null   int64         \n",
      " 2   currentPosRoll  7172 non-null   float64       \n",
      " 3   currentVelRoll  7172 non-null   float64       \n",
      " 4   joystickX       7172 non-null   float64       \n",
      " 5   peopleName      7172 non-null   object        \n",
      " 6   trialName       7172 non-null   object        \n",
      " 7   peopleTrialKey  7172 non-null   object        \n",
      " 8   datetimeNew     7172 non-null   datetime64[ns]\n",
      " 9   crash           7172 non-null   float64       \n",
      "dtypes: datetime64[ns](1), float64(5), int64(1), object(3)\n",
      "memory usage: 616.3+ KB\n"
     ]
    }
   ],
   "source": [
    "test.info()"
   ]
  },
  {
   "cell_type": "code",
   "execution_count": null,
   "metadata": {},
   "outputs": [],
   "source": []
  },
  {
   "cell_type": "code",
   "execution_count": null,
   "metadata": {},
   "outputs": [],
   "source": []
  },
  {
   "cell_type": "code",
   "execution_count": null,
   "metadata": {},
   "outputs": [],
   "source": []
  },
  {
   "cell_type": "code",
   "execution_count": null,
   "metadata": {},
   "outputs": [],
   "source": []
  },
  {
   "cell_type": "code",
   "execution_count": null,
   "metadata": {},
   "outputs": [],
   "source": []
  },
  {
   "cell_type": "code",
   "execution_count": null,
   "metadata": {},
   "outputs": [],
   "source": []
  },
  {
   "cell_type": "code",
   "execution_count": null,
   "metadata": {},
   "outputs": [],
   "source": []
  },
  {
   "cell_type": "code",
   "execution_count": null,
   "metadata": {},
   "outputs": [],
   "source": []
  },
  {
   "cell_type": "code",
   "execution_count": null,
   "metadata": {},
   "outputs": [],
   "source": []
  },
  {
   "cell_type": "code",
   "execution_count": null,
   "metadata": {},
   "outputs": [],
   "source": []
  },
  {
   "cell_type": "code",
   "execution_count": null,
   "metadata": {},
   "outputs": [],
   "source": []
  },
  {
   "cell_type": "code",
   "execution_count": null,
   "metadata": {},
   "outputs": [],
   "source": []
  },
  {
   "cell_type": "code",
   "execution_count": null,
   "metadata": {},
   "outputs": [],
   "source": []
  },
  {
   "cell_type": "code",
   "execution_count": null,
   "metadata": {},
   "outputs": [],
   "source": []
  },
  {
   "cell_type": "code",
   "execution_count": null,
   "metadata": {},
   "outputs": [],
   "source": []
  },
  {
   "cell_type": "code",
   "execution_count": null,
   "metadata": {},
   "outputs": [],
   "source": [
    "# fileObject = open(\"data/1_co_P13/01_600back_Block1_trial_001.csv\", \"r\")\n",
    "# data = fileObject.read()\n",
    "# data\n",
    "\n",
    "# import glob\n",
    "# import pandas as pd\n",
    "# import dask.dataframe as dd\n",
    "# test = pd.DataFrame()\n",
    "# import datatable as dt\n",
    "# for i in all_files[0:1]:\n",
    "#     path = os.path.join('data', i)\n",
    "#     for file_name in glob.glob(path + '/*.csv'):\n",
    "#         x = pd.read_csv(file_name, low_memory=False) \n",
    "#         x['names'] = i \n",
    "#         x['trails'] = file_name[14:]\n",
    "#         test = pd.concat([test,x],axis=0)\n",
    "# test = test.rename(columns={\";seconds\": \"seconds\"})\n",
    "# test.sort_values(by=['trails','seconds'], ascending=True).tail(50)\n",
    "\n",
    "\n",
    "# path = 'c:\\\\'\n",
    "# extension = 'csv'\n",
    "# os.chdir(path)\n",
    "# result = glob.glob('*.{}'.format(extension))\n",
    "# print(result)\n",
    "# # os.chdir('data')\n",
    "# data_all = pd.concat(\n",
    "#         [pd.read_csv(f, sep = ',',low_memory=False) \n",
    "#         for f in all_path[0:2]]\n",
    "#         ,axis=0)\n",
    "\n",
    "# df = pd.concat(\n",
    "#         [pd.read_csv(f, sep = ';', dayfirst = True, usecols=cols, \n",
    "#                      parse_dates=date_cols)\n",
    "#          for f in allFiles\n",
    "#         ],\n",
    "#         ignore_index=True\n",
    "#      )\n",
    "\n",
    "\n",
    "# import glob\n",
    "# import pandas as pd\n",
    "# glued_data = pd.DataFrame()\n",
    "# for i in all_files:\n",
    "#     path = os.path.join('data', i)\n",
    "#     for file_name in glob.glob(path + '/*.csv'):\n",
    "#         x = pd.read_csv(file_name, low_memory=False) \n",
    "#         x['names'] = i \n",
    "#         glued_data = pd.concat([glued_data,x],axis=0)\n",
    "# glued_data = glued_data.rename(columns={\";seconds\": \"seconds\"})\n",
    "# glued_data.head()\n",
    "\n",
    "\n",
    "# all_files = os.listdir(\"data/\")\n",
    "# all_files.remove('.DS_Store')\n",
    "# print(all_files, len(all_files)) "
   ]
  }
 ],
 "metadata": {
  "kernelspec": {
   "display_name": "Python 3",
   "language": "python",
   "name": "python3"
  },
  "language_info": {
   "codemirror_mode": {
    "name": "ipython",
    "version": 3
   },
   "file_extension": ".py",
   "mimetype": "text/x-python",
   "name": "python",
   "nbconvert_exporter": "python",
   "pygments_lexer": "ipython3",
   "version": "3.7.0"
  }
 },
 "nbformat": 4,
 "nbformat_minor": 4
}
